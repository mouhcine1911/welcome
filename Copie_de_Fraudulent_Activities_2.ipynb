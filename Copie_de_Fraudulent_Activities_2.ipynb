{
  "nbformat": 4,
  "nbformat_minor": 0,
  "metadata": {
    "colab": {
      "name": "Copie de Fraudulent Activities_2.ipynb",
      "version": "0.3.2",
      "provenance": [],
      "collapsed_sections": [],
      "include_colab_link": true
    },
    "kernelspec": {
      "name": "python3",
      "display_name": "Python 3"
    },
    "accelerator": "GPU"
  },
  "cells": [
    {
      "cell_type": "markdown",
      "metadata": {
        "id": "view-in-github",
        "colab_type": "text"
      },
      "source": [
        "<a href=\"https://colab.research.google.com/github/mouhcine1911/welcome/blob/master/Copie_de_Fraudulent_Activities_2.ipynb\" target=\"_parent\"><img src=\"https://colab.research.google.com/assets/colab-badge.svg\" alt=\"Open In Colab\"/></a>"
      ]
    },
    {
      "cell_type": "markdown",
      "metadata": {
        "id": "QvqhoWvjFmsn",
        "colab_type": "text"
      },
      "source": [
        "###OBJECTIF :\n",
        "\n",
        "Nous avons une base de données de taille assez importante (lignes), qui contienne plusieurs variables (13). Exemple : signup_time : \"le temps d'inscription\", purchase_time : \"le temps d'achats\"...etc.\n",
        "\n",
        "Le but de ce projet est de détecter les actions frauduleuses qui sont représentées dans la colonne de la variable catégorielle \" class\" : fraude / Pas_de_fraude.\n",
        "\n",
        "Pour s'y entreprendre, il faut d'abord faire une analyse exploratoire des données, pour connaître par exemple les distributions de notre population selon l'âge, sex, pays... \n",
        "\n",
        "Ensuite, faire un preprocessing des données, à savoir, gérer les valeurs manquantes, transformer les données qualitatives à des données numériques à travers une dummification et, finalement normaliser les variables quantitatives afin d'avoir la même distribution des données.\n",
        "\n",
        "L'étape suivante consiste à concevoir des modèles qui doivent être capable de repérer à l'avance les activités frauduleuses afin de les bloquer et par conséquent réduire le taux des activités frauduleuses.\n",
        "Dans cette perspective, nous allons commencer avec un modèle de régression logistique, dans l’objectif de prédire le mieux possible les fraudes, et en fonction des scores, nous essayerons d’autres modèles jusqu’à trouver celui ou ceux qui généraliseront le mieux.  \n",
        "\n",
        "\n"
      ]
    },
    {
      "cell_type": "code",
      "metadata": {
        "id": "UcWMt2AVsDqg",
        "colab_type": "code",
        "colab": {}
      },
      "source": [
        "import pandas as pd\n",
        "import numpy as np\n",
        "import seaborn as sns \n",
        "import matplotlib.pyplot as plt"
      ],
      "execution_count": 0,
      "outputs": []
    },
    {
      "cell_type": "code",
      "metadata": {
        "id": "N1FfF-VhsH5m",
        "colab_type": "code",
        "outputId": "d85c927b-581e-4feb-a77f-e59072c55f23",
        "colab": {
          "resources": {
            "http://localhost:8080/nbextensions/google.colab/files.js": {
              "data": "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",
              "ok": true,
              "headers": [
                [
                  "content-type",
                  "application/javascript"
                ]
              ],
              "status": 200,
              "status_text": ""
            }
          },
          "base_uri": "https://localhost:8080/",
          "height": 75
        }
      },
      "source": [
        "from google.colab import files\n",
        "uploaded = files.upload()"
      ],
      "execution_count": 124,
      "outputs": [
        {
          "output_type": "display_data",
          "data": {
            "text/html": [
              "\n",
              "     <input type=\"file\" id=\"files-4ff77c64-7c6e-402d-b2ec-4f12c88af473\" name=\"files[]\" multiple disabled />\n",
              "     <output id=\"result-4ff77c64-7c6e-402d-b2ec-4f12c88af473\">\n",
              "      Upload widget is only available when the cell has been executed in the\n",
              "      current browser session. Please rerun this cell to enable.\n",
              "      </output>\n",
              "      <script src=\"/nbextensions/google.colab/files.js\"></script> "
            ],
            "text/plain": [
              "<IPython.core.display.HTML object>"
            ]
          },
          "metadata": {
            "tags": []
          }
        },
        {
          "output_type": "stream",
          "text": [
            "Saving df1_contry.csv to df1_contry (1).csv\n"
          ],
          "name": "stdout"
        }
      ]
    },
    {
      "cell_type": "code",
      "metadata": {
        "id": "NUDVxtQ9sLYu",
        "colab_type": "code",
        "colab": {}
      },
      "source": [
        "df = pd.read_csv(\"df1_contry.csv\") "
      ],
      "execution_count": 0,
      "outputs": []
    },
    {
      "cell_type": "code",
      "metadata": {
        "id": "-PWaDwkhsLny",
        "colab_type": "code",
        "outputId": "3d74384b-3870-448f-d15f-a53c427d72e5",
        "colab": {
          "base_uri": "https://localhost:8080/",
          "height": 202
        }
      },
      "source": [
        "df.head()"
      ],
      "execution_count": 206,
      "outputs": [
        {
          "output_type": "execute_result",
          "data": {
            "text/html": [
              "<div>\n",
              "<style scoped>\n",
              "    .dataframe tbody tr th:only-of-type {\n",
              "        vertical-align: middle;\n",
              "    }\n",
              "\n",
              "    .dataframe tbody tr th {\n",
              "        vertical-align: top;\n",
              "    }\n",
              "\n",
              "    .dataframe thead th {\n",
              "        text-align: right;\n",
              "    }\n",
              "</style>\n",
              "<table border=\"1\" class=\"dataframe\">\n",
              "  <thead>\n",
              "    <tr style=\"text-align: right;\">\n",
              "      <th></th>\n",
              "      <th>Unnamed: 0</th>\n",
              "      <th>user_id</th>\n",
              "      <th>signup_time</th>\n",
              "      <th>purchase_time</th>\n",
              "      <th>purchase_value</th>\n",
              "      <th>device_id</th>\n",
              "      <th>source</th>\n",
              "      <th>browser</th>\n",
              "      <th>sex</th>\n",
              "      <th>age</th>\n",
              "      <th>ip_address</th>\n",
              "      <th>class</th>\n",
              "      <th>country</th>\n",
              "    </tr>\n",
              "  </thead>\n",
              "  <tbody>\n",
              "    <tr>\n",
              "      <th>0</th>\n",
              "      <td>0</td>\n",
              "      <td>22058</td>\n",
              "      <td>2015-02-24 22:55:49</td>\n",
              "      <td>2015-04-18 02:47:11</td>\n",
              "      <td>34</td>\n",
              "      <td>QVPSPJUOCKZAR</td>\n",
              "      <td>SEO</td>\n",
              "      <td>Chrome</td>\n",
              "      <td>M</td>\n",
              "      <td>39</td>\n",
              "      <td>7.327584e+08</td>\n",
              "      <td>0</td>\n",
              "      <td>Japan</td>\n",
              "    </tr>\n",
              "    <tr>\n",
              "      <th>1</th>\n",
              "      <td>1</td>\n",
              "      <td>333320</td>\n",
              "      <td>2015-06-07 20:39:50</td>\n",
              "      <td>2015-06-08 01:38:54</td>\n",
              "      <td>16</td>\n",
              "      <td>EOGFQPIZPYXFZ</td>\n",
              "      <td>Ads</td>\n",
              "      <td>Chrome</td>\n",
              "      <td>F</td>\n",
              "      <td>53</td>\n",
              "      <td>3.503114e+08</td>\n",
              "      <td>0</td>\n",
              "      <td>United States</td>\n",
              "    </tr>\n",
              "    <tr>\n",
              "      <th>2</th>\n",
              "      <td>2</td>\n",
              "      <td>1359</td>\n",
              "      <td>2015-01-01 18:52:44</td>\n",
              "      <td>2015-01-01 18:52:45</td>\n",
              "      <td>15</td>\n",
              "      <td>YSSKYOSJHPPLJ</td>\n",
              "      <td>SEO</td>\n",
              "      <td>Opera</td>\n",
              "      <td>M</td>\n",
              "      <td>53</td>\n",
              "      <td>2.621474e+09</td>\n",
              "      <td>1</td>\n",
              "      <td>United States</td>\n",
              "    </tr>\n",
              "    <tr>\n",
              "      <th>3</th>\n",
              "      <td>3</td>\n",
              "      <td>150084</td>\n",
              "      <td>2015-04-28 21:13:25</td>\n",
              "      <td>2015-05-04 13:54:50</td>\n",
              "      <td>44</td>\n",
              "      <td>ATGTXKYKUDUQN</td>\n",
              "      <td>SEO</td>\n",
              "      <td>Safari</td>\n",
              "      <td>M</td>\n",
              "      <td>41</td>\n",
              "      <td>3.840542e+09</td>\n",
              "      <td>0</td>\n",
              "      <td>Unknown</td>\n",
              "    </tr>\n",
              "    <tr>\n",
              "      <th>4</th>\n",
              "      <td>4</td>\n",
              "      <td>221365</td>\n",
              "      <td>2015-07-21 07:09:52</td>\n",
              "      <td>2015-09-09 18:40:53</td>\n",
              "      <td>39</td>\n",
              "      <td>NAUITBZFJKHWW</td>\n",
              "      <td>Ads</td>\n",
              "      <td>Safari</td>\n",
              "      <td>M</td>\n",
              "      <td>45</td>\n",
              "      <td>4.155831e+08</td>\n",
              "      <td>0</td>\n",
              "      <td>United States</td>\n",
              "    </tr>\n",
              "  </tbody>\n",
              "</table>\n",
              "</div>"
            ],
            "text/plain": [
              "   Unnamed: 0  user_id          signup_time  ...    ip_address  class        country\n",
              "0           0    22058  2015-02-24 22:55:49  ...  7.327584e+08      0          Japan\n",
              "1           1   333320  2015-06-07 20:39:50  ...  3.503114e+08      0  United States\n",
              "2           2     1359  2015-01-01 18:52:44  ...  2.621474e+09      1  United States\n",
              "3           3   150084  2015-04-28 21:13:25  ...  3.840542e+09      0        Unknown\n",
              "4           4   221365  2015-07-21 07:09:52  ...  4.155831e+08      0  United States\n",
              "\n",
              "[5 rows x 13 columns]"
            ]
          },
          "metadata": {
            "tags": []
          },
          "execution_count": 206
        }
      ]
    },
    {
      "cell_type": "code",
      "metadata": {
        "id": "p-lxtyAasLlT",
        "colab_type": "code",
        "outputId": "eda2c962-a9f4-4c6c-c248-31741babebf1",
        "colab": {
          "base_uri": "https://localhost:8080/",
          "height": 386
        }
      },
      "source": [
        "df.describe(include='all')"
      ],
      "execution_count": 207,
      "outputs": [
        {
          "output_type": "execute_result",
          "data": {
            "text/html": [
              "<div>\n",
              "<style scoped>\n",
              "    .dataframe tbody tr th:only-of-type {\n",
              "        vertical-align: middle;\n",
              "    }\n",
              "\n",
              "    .dataframe tbody tr th {\n",
              "        vertical-align: top;\n",
              "    }\n",
              "\n",
              "    .dataframe thead th {\n",
              "        text-align: right;\n",
              "    }\n",
              "</style>\n",
              "<table border=\"1\" class=\"dataframe\">\n",
              "  <thead>\n",
              "    <tr style=\"text-align: right;\">\n",
              "      <th></th>\n",
              "      <th>Unnamed: 0</th>\n",
              "      <th>user_id</th>\n",
              "      <th>signup_time</th>\n",
              "      <th>purchase_time</th>\n",
              "      <th>purchase_value</th>\n",
              "      <th>device_id</th>\n",
              "      <th>source</th>\n",
              "      <th>browser</th>\n",
              "      <th>sex</th>\n",
              "      <th>age</th>\n",
              "      <th>ip_address</th>\n",
              "      <th>class</th>\n",
              "      <th>country</th>\n",
              "    </tr>\n",
              "  </thead>\n",
              "  <tbody>\n",
              "    <tr>\n",
              "      <th>count</th>\n",
              "      <td>151112.000000</td>\n",
              "      <td>151112.000000</td>\n",
              "      <td>151112</td>\n",
              "      <td>151112</td>\n",
              "      <td>151112.000000</td>\n",
              "      <td>151112</td>\n",
              "      <td>151112</td>\n",
              "      <td>151112</td>\n",
              "      <td>151112</td>\n",
              "      <td>151112.000000</td>\n",
              "      <td>1.511120e+05</td>\n",
              "      <td>151112.000000</td>\n",
              "      <td>151112</td>\n",
              "    </tr>\n",
              "    <tr>\n",
              "      <th>unique</th>\n",
              "      <td>NaN</td>\n",
              "      <td>NaN</td>\n",
              "      <td>151112</td>\n",
              "      <td>150679</td>\n",
              "      <td>NaN</td>\n",
              "      <td>137956</td>\n",
              "      <td>3</td>\n",
              "      <td>5</td>\n",
              "      <td>2</td>\n",
              "      <td>NaN</td>\n",
              "      <td>NaN</td>\n",
              "      <td>NaN</td>\n",
              "      <td>182</td>\n",
              "    </tr>\n",
              "    <tr>\n",
              "      <th>top</th>\n",
              "      <td>NaN</td>\n",
              "      <td>NaN</td>\n",
              "      <td>2015-05-27 17:01:10</td>\n",
              "      <td>2015-07-17 23:22:55</td>\n",
              "      <td>NaN</td>\n",
              "      <td>NGQCKIADMZORL</td>\n",
              "      <td>SEO</td>\n",
              "      <td>Chrome</td>\n",
              "      <td>M</td>\n",
              "      <td>NaN</td>\n",
              "      <td>NaN</td>\n",
              "      <td>NaN</td>\n",
              "      <td>United States</td>\n",
              "    </tr>\n",
              "    <tr>\n",
              "      <th>freq</th>\n",
              "      <td>NaN</td>\n",
              "      <td>NaN</td>\n",
              "      <td>1</td>\n",
              "      <td>3</td>\n",
              "      <td>NaN</td>\n",
              "      <td>20</td>\n",
              "      <td>60615</td>\n",
              "      <td>61432</td>\n",
              "      <td>88293</td>\n",
              "      <td>NaN</td>\n",
              "      <td>NaN</td>\n",
              "      <td>NaN</td>\n",
              "      <td>58049</td>\n",
              "    </tr>\n",
              "    <tr>\n",
              "      <th>mean</th>\n",
              "      <td>75555.500000</td>\n",
              "      <td>200171.040970</td>\n",
              "      <td>NaN</td>\n",
              "      <td>NaN</td>\n",
              "      <td>36.935372</td>\n",
              "      <td>NaN</td>\n",
              "      <td>NaN</td>\n",
              "      <td>NaN</td>\n",
              "      <td>NaN</td>\n",
              "      <td>33.140704</td>\n",
              "      <td>2.152145e+09</td>\n",
              "      <td>0.093646</td>\n",
              "      <td>NaN</td>\n",
              "    </tr>\n",
              "    <tr>\n",
              "      <th>std</th>\n",
              "      <td>43622.421276</td>\n",
              "      <td>115369.285024</td>\n",
              "      <td>NaN</td>\n",
              "      <td>NaN</td>\n",
              "      <td>18.322762</td>\n",
              "      <td>NaN</td>\n",
              "      <td>NaN</td>\n",
              "      <td>NaN</td>\n",
              "      <td>NaN</td>\n",
              "      <td>8.617733</td>\n",
              "      <td>1.248497e+09</td>\n",
              "      <td>0.291336</td>\n",
              "      <td>NaN</td>\n",
              "    </tr>\n",
              "    <tr>\n",
              "      <th>min</th>\n",
              "      <td>0.000000</td>\n",
              "      <td>2.000000</td>\n",
              "      <td>NaN</td>\n",
              "      <td>NaN</td>\n",
              "      <td>9.000000</td>\n",
              "      <td>NaN</td>\n",
              "      <td>NaN</td>\n",
              "      <td>NaN</td>\n",
              "      <td>NaN</td>\n",
              "      <td>18.000000</td>\n",
              "      <td>5.209350e+04</td>\n",
              "      <td>0.000000</td>\n",
              "      <td>NaN</td>\n",
              "    </tr>\n",
              "    <tr>\n",
              "      <th>25%</th>\n",
              "      <td>37777.750000</td>\n",
              "      <td>100642.500000</td>\n",
              "      <td>NaN</td>\n",
              "      <td>NaN</td>\n",
              "      <td>22.000000</td>\n",
              "      <td>NaN</td>\n",
              "      <td>NaN</td>\n",
              "      <td>NaN</td>\n",
              "      <td>NaN</td>\n",
              "      <td>27.000000</td>\n",
              "      <td>1.085934e+09</td>\n",
              "      <td>0.000000</td>\n",
              "      <td>NaN</td>\n",
              "    </tr>\n",
              "    <tr>\n",
              "      <th>50%</th>\n",
              "      <td>75555.500000</td>\n",
              "      <td>199958.000000</td>\n",
              "      <td>NaN</td>\n",
              "      <td>NaN</td>\n",
              "      <td>35.000000</td>\n",
              "      <td>NaN</td>\n",
              "      <td>NaN</td>\n",
              "      <td>NaN</td>\n",
              "      <td>NaN</td>\n",
              "      <td>33.000000</td>\n",
              "      <td>2.154770e+09</td>\n",
              "      <td>0.000000</td>\n",
              "      <td>NaN</td>\n",
              "    </tr>\n",
              "    <tr>\n",
              "      <th>75%</th>\n",
              "      <td>113333.250000</td>\n",
              "      <td>300054.000000</td>\n",
              "      <td>NaN</td>\n",
              "      <td>NaN</td>\n",
              "      <td>49.000000</td>\n",
              "      <td>NaN</td>\n",
              "      <td>NaN</td>\n",
              "      <td>NaN</td>\n",
              "      <td>NaN</td>\n",
              "      <td>39.000000</td>\n",
              "      <td>3.243258e+09</td>\n",
              "      <td>0.000000</td>\n",
              "      <td>NaN</td>\n",
              "    </tr>\n",
              "    <tr>\n",
              "      <th>max</th>\n",
              "      <td>151111.000000</td>\n",
              "      <td>400000.000000</td>\n",
              "      <td>NaN</td>\n",
              "      <td>NaN</td>\n",
              "      <td>154.000000</td>\n",
              "      <td>NaN</td>\n",
              "      <td>NaN</td>\n",
              "      <td>NaN</td>\n",
              "      <td>NaN</td>\n",
              "      <td>76.000000</td>\n",
              "      <td>4.294850e+09</td>\n",
              "      <td>1.000000</td>\n",
              "      <td>NaN</td>\n",
              "    </tr>\n",
              "  </tbody>\n",
              "</table>\n",
              "</div>"
            ],
            "text/plain": [
              "           Unnamed: 0        user_id  ...          class        country\n",
              "count   151112.000000  151112.000000  ...  151112.000000         151112\n",
              "unique            NaN            NaN  ...            NaN            182\n",
              "top               NaN            NaN  ...            NaN  United States\n",
              "freq              NaN            NaN  ...            NaN          58049\n",
              "mean     75555.500000  200171.040970  ...       0.093646            NaN\n",
              "std      43622.421276  115369.285024  ...       0.291336            NaN\n",
              "min          0.000000       2.000000  ...       0.000000            NaN\n",
              "25%      37777.750000  100642.500000  ...       0.000000            NaN\n",
              "50%      75555.500000  199958.000000  ...       0.000000            NaN\n",
              "75%     113333.250000  300054.000000  ...       0.000000            NaN\n",
              "max     151111.000000  400000.000000  ...       1.000000            NaN\n",
              "\n",
              "[11 rows x 13 columns]"
            ]
          },
          "metadata": {
            "tags": []
          },
          "execution_count": 207
        }
      ]
    },
    {
      "cell_type": "code",
      "metadata": {
        "id": "DIh6w80UsLiS",
        "colab_type": "code",
        "outputId": "beb8f942-5cab-437c-943a-dd84a09fdc9b",
        "colab": {
          "base_uri": "https://localhost:8080/",
          "height": 329
        }
      },
      "source": [
        "df.info()"
      ],
      "execution_count": 208,
      "outputs": [
        {
          "output_type": "stream",
          "text": [
            "<class 'pandas.core.frame.DataFrame'>\n",
            "RangeIndex: 151112 entries, 0 to 151111\n",
            "Data columns (total 13 columns):\n",
            "Unnamed: 0        151112 non-null int64\n",
            "user_id           151112 non-null int64\n",
            "signup_time       151112 non-null object\n",
            "purchase_time     151112 non-null object\n",
            "purchase_value    151112 non-null int64\n",
            "device_id         151112 non-null object\n",
            "source            151112 non-null object\n",
            "browser           151112 non-null object\n",
            "sex               151112 non-null object\n",
            "age               151112 non-null int64\n",
            "ip_address        151112 non-null float64\n",
            "class             151112 non-null int64\n",
            "country           151112 non-null object\n",
            "dtypes: float64(1), int64(5), object(7)\n",
            "memory usage: 15.0+ MB\n"
          ],
          "name": "stdout"
        }
      ]
    },
    {
      "cell_type": "markdown",
      "metadata": {
        "id": "I-v7sFpVsT8t",
        "colab_type": "text"
      },
      "source": [
        "###1- Analyse exploratoire"
      ]
    },
    {
      "cell_type": "markdown",
      "metadata": {
        "id": "rKfn6iZY7Nns",
        "colab_type": "text"
      },
      "source": [
        "Il est interressant premierement de regarder la repartition des classes"
      ]
    },
    {
      "cell_type": "code",
      "metadata": {
        "id": "OTOLB3At6bDH",
        "colab_type": "code",
        "outputId": "d46276eb-0baf-4499-bbf5-c088e3094354",
        "colab": {
          "base_uri": "https://localhost:8080/",
          "height": 309
        }
      },
      "source": [
        "sns.countplot('class', data=df)"
      ],
      "execution_count": 209,
      "outputs": [
        {
          "output_type": "execute_result",
          "data": {
            "text/plain": [
              "<matplotlib.axes._subplots.AxesSubplot at 0x7f0909590a58>"
            ]
          },
          "metadata": {
            "tags": []
          },
          "execution_count": 209
        },
        {
          "output_type": "display_data",
          "data": {
            "image/png": "[encoded data removed]",
            "text/plain": [
              "<Figure size 432x288 with 1 Axes>"
            ]
          },
          "metadata": {
            "tags": []
          }
        }
      ]
    },
    {
      "cell_type": "markdown",
      "metadata": {
        "id": "w0eJMvNF8Ylt",
        "colab_type": "text"
      },
      "source": [
        "Le dataset est particulièrement déséquilibré.  il se composecomme suite : ( 0 : 90%  & 1 : 10% )"
      ]
    },
    {
      "cell_type": "code",
      "metadata": {
        "id": "6m3L9hHpMYjw",
        "colab_type": "code",
        "outputId": "b2644798-a01d-4ef9-a803-3f1fd46dd472",
        "colab": {
          "base_uri": "https://localhost:8080/",
          "height": 383
        }
      },
      "source": [
        "sns.catplot(x=\"class\", hue=\"sex\", kind=\"count\", data=df)"
      ],
      "execution_count": 210,
      "outputs": [
        {
          "output_type": "execute_result",
          "data": {
            "text/plain": [
              "<seaborn.axisgrid.FacetGrid at 0x7f09095397b8>"
            ]
          },
          "metadata": {
            "tags": []
          },
          "execution_count": 210
        },
        {
          "output_type": "display_data",
          "data": {
            "image/png": "[encoded data removed]",
            "text/plain": [
              "<Figure size 409.1x360 with 1 Axes>"
            ]
          },
          "metadata": {
            "tags": []
          }
        }
      ]
    },
    {
      "cell_type": "markdown",
      "metadata": {
        "id": "H5SQ92-IH3XM",
        "colab_type": "text"
      },
      "source": [
        "La différence entre les valeurs (0 & 1) ne peut pas nous dire grande chose. Cette différence est dû au déséquilibre comme nous l'avons vu ci-dessus"
      ]
    },
    {
      "cell_type": "code",
      "metadata": {
        "id": "6UaeIrQyscyO",
        "colab_type": "code",
        "outputId": "e7d6007a-0a9e-410f-86cf-2016b336e9e5",
        "colab": {
          "base_uri": "https://localhost:8080/",
          "height": 309
        }
      },
      "source": [
        "sns.set(style=\"whitegrid\")\n",
        "sns.distplot(df.age, bins=10)"
      ],
      "execution_count": 211,
      "outputs": [
        {
          "output_type": "execute_result",
          "data": {
            "text/plain": [
              "<matplotlib.axes._subplots.AxesSubplot at 0x7f0909115518>"
            ]
          },
          "metadata": {
            "tags": []
          },
          "execution_count": 211
        },
        {
          "output_type": "display_data",
          "data": {
            "image/png": "[encoded data removed]",
            "text/plain": [
              "<Figure size 432x288 with 1 Axes>"
            ]
          },
          "metadata": {
            "tags": []
          }
        }
      ]
    },
    {
      "cell_type": "markdown",
      "metadata": {
        "id": "QQhggMY9HGGB",
        "colab_type": "text"
      },
      "source": [
        "Il n'y a pas de valeurs valeurs atypiques . La distribution ressemble largement à une distribution normale"
      ]
    },
    {
      "cell_type": "code",
      "metadata": {
        "id": "efMrW4LqsgOU",
        "colab_type": "code",
        "outputId": "af7744b1-5f9b-4618-cee9-c20cce3b0785",
        "colab": {
          "base_uri": "https://localhost:8080/",
          "height": 309
        }
      },
      "source": [
        "sns.barplot(x='sex', y=\"age\", data = df)"
      ],
      "execution_count": 212,
      "outputs": [
        {
          "output_type": "execute_result",
          "data": {
            "text/plain": [
              "<matplotlib.axes._subplots.AxesSubplot at 0x7f09094a2f60>"
            ]
          },
          "metadata": {
            "tags": []
          },
          "execution_count": 212
        },
        {
          "output_type": "display_data",
          "data": {
            "image/png": "[encoded data removed]",
            "text/plain": [
              "<Figure size 432x288 with 1 Axes>"
            ]
          },
          "metadata": {
            "tags": []
          }
        }
      ]
    },
    {
      "cell_type": "markdown",
      "metadata": {
        "id": "Uag_tQRpItYB",
        "colab_type": "text"
      },
      "source": [
        "La distribution du sex est quasiment le même dans le dataset. Il y a autant de femmes que des hommes. "
      ]
    },
    {
      "cell_type": "markdown",
      "metadata": {
        "id": "qwqVVG8WJq3M",
        "colab_type": "text"
      },
      "source": [
        "La source Direct est la moins représenté par rapport aux autres sources"
      ]
    },
    {
      "cell_type": "code",
      "metadata": {
        "id": "NmNIiW4lserA",
        "colab_type": "code",
        "outputId": "a3f9e240-ec63-46c6-edd1-4e57a8483b42",
        "colab": {
          "base_uri": "https://localhost:8080/",
          "height": 383
        }
      },
      "source": [
        "sns.catplot(x= 'browser', kind='count', data=df)"
      ],
      "execution_count": 213,
      "outputs": [
        {
          "output_type": "execute_result",
          "data": {
            "text/plain": [
              "<seaborn.axisgrid.FacetGrid at 0x7f090b31e080>"
            ]
          },
          "metadata": {
            "tags": []
          },
          "execution_count": 213
        },
        {
          "output_type": "display_data",
          "data": {
            "image/png": "[encoded data removed]",
            "text/plain": [
              "<Figure size 360x360 with 1 Axes>"
            ]
          },
          "metadata": {
            "tags": []
          }
        }
      ]
    },
    {
      "cell_type": "markdown",
      "metadata": {
        "id": "PHwjqKqgJzqv",
        "colab_type": "text"
      },
      "source": [
        "Google Chrome reste toujours le browser le plus utilisé par les internautes, contrairement à l'Opera, placé au bas de la liste"
      ]
    },
    {
      "cell_type": "markdown",
      "metadata": {
        "id": "R9csxZL8BNv4",
        "colab_type": "text"
      },
      "source": [
        "### On tente de regarder la repartition selon les classes, et selon les navigateurs webs.\n",
        "###En effet il aurait pu être possible que selon le navigateur web la fraude soit plus facile"
      ]
    },
    {
      "cell_type": "code",
      "metadata": {
        "id": "2puYsUvCBw7Q",
        "colab_type": "code",
        "outputId": "953f67ca-7037-4b63-972c-08fc0fe7406a",
        "colab": {
          "base_uri": "https://localhost:8080/",
          "height": 526
        }
      },
      "source": [
        "fig, ax = plt.subplots(1,2,figsize=(15,8))\n",
        "\n",
        "sns.countplot('source', hue='class', data=df, ax=ax[0])\n",
        "sns.countplot('browser', hue='class', data=df, ax=ax[1])"
      ],
      "execution_count": 214,
      "outputs": [
        {
          "output_type": "execute_result",
          "data": {
            "text/plain": [
              "<matplotlib.axes._subplots.AxesSubplot at 0x7f090901c240>"
            ]
          },
          "metadata": {
            "tags": []
          },
          "execution_count": 214
        },
        {
          "output_type": "display_data",
          "data": {
            "image/png": "[encoded data removed]",
            "text/plain": [
              "<Figure size 1080x576 with 2 Axes>"
            ]
          },
          "metadata": {
            "tags": []
          }
        }
      ]
    },
    {
      "cell_type": "markdown",
      "metadata": {
        "id": "2fqKJzrYCIRC",
        "colab_type": "text"
      },
      "source": [
        "Malheureusement rien ne sort de cette analyse"
      ]
    },
    {
      "cell_type": "code",
      "metadata": {
        "id": "i7FIYzzikqax",
        "colab_type": "code",
        "outputId": "a6b30546-449f-45f8-cee4-3315ab20fa9b",
        "colab": {
          "base_uri": "https://localhost:8080/",
          "height": 455
        }
      },
      "source": [
        "sns.set(style=\"whitegrid\")\n",
        "g = sns.FacetGrid(df, row=\"sex\", col=\"browser\", margin_titles=True)\n",
        "bins = np.linspace(0, 60, 13)\n",
        "g.map(plt.hist, \"age\", color=\"steelblue\", bins=bins)"
      ],
      "execution_count": 215,
      "outputs": [
        {
          "output_type": "execute_result",
          "data": {
            "text/plain": [
              "<seaborn.axisgrid.FacetGrid at 0x7f090940aeb8>"
            ]
          },
          "metadata": {
            "tags": []
          },
          "execution_count": 215
        },
        {
          "output_type": "display_data",
          "data": {
            "image/png": "[encoded data removed]",
            "text/plain": [
              "<Figure size 1080x432 with 10 Axes>"
            ]
          },
          "metadata": {
            "tags": []
          }
        }
      ]
    },
    {
      "cell_type": "markdown",
      "metadata": {
        "id": "_5s7IqhoKZt1",
        "colab_type": "text"
      },
      "source": [
        "La distributions des âges reste presque la même sur tous les browsers, cela laisse croire qu'il n'y a pas de préfèrences de browser selon les âges, c'est plutôt les performances de cet outils qui comptent. "
      ]
    },
    {
      "cell_type": "code",
      "metadata": {
        "id": "P2iL0EG1q8AZ",
        "colab_type": "code",
        "outputId": "3333bebc-63e3-49cb-a810-af8a2a8de989",
        "colab": {
          "base_uri": "https://localhost:8080/",
          "height": 455
        }
      },
      "source": [
        "g = sns.FacetGrid(df, row=\"sex\", col=\"class\", margin_titles=True)\n",
        "bins = np.linspace(0, 60, 13)\n",
        "g.map(plt.hist, \"age\", color=\"steelblue\", bins=bins)"
      ],
      "execution_count": 216,
      "outputs": [
        {
          "output_type": "execute_result",
          "data": {
            "text/plain": [
              "<seaborn.axisgrid.FacetGrid at 0x7f0908ee4c50>"
            ]
          },
          "metadata": {
            "tags": []
          },
          "execution_count": 216
        },
        {
          "output_type": "display_data",
          "data": {
            "image/png": "[encoded data removed]",
            "text/plain": [
              "<Figure size 432x432 with 4 Axes>"
            ]
          },
          "metadata": {
            "tags": []
          }
        }
      ]
    },
    {
      "cell_type": "markdown",
      "metadata": {
        "id": "L6k__9xpLGNs",
        "colab_type": "text"
      },
      "source": [
        "Le graphique nous montre qu'il n'y a pas de tranche d'âge précise pour les fraudeurs, ils peuvent être de tous âges."
      ]
    },
    {
      "cell_type": "code",
      "metadata": {
        "id": "0CEDgtQ3sLfQ",
        "colab_type": "code",
        "outputId": "d9f9b9d6-e5ea-4693-eba6-dbb42e142493",
        "colab": {
          "base_uri": "https://localhost:8080/",
          "height": 363
        }
      },
      "source": [
        "plt.subplots(sharey=True, figsize=(20, 5)) \n",
        "sns.pointplot(x=\"age\", y=\"class\", hue=\"sex\", size=\"coherence\", style=\"class\", legend=\"full\",data=df)"
      ],
      "execution_count": 217,
      "outputs": [
        {
          "output_type": "execute_result",
          "data": {
            "text/plain": [
              "<matplotlib.axes._subplots.AxesSubplot at 0x7f0908ca8ba8>"
            ]
          },
          "metadata": {
            "tags": []
          },
          "execution_count": 217
        },
        {
          "output_type": "display_data",
          "data": {
            "image/png": "[encoded data removed]",
            "text/plain": [
              "<Figure size 1440x360 with 1 Axes>"
            ]
          },
          "metadata": {
            "tags": []
          }
        }
      ]
    },
    {
      "cell_type": "markdown",
      "metadata": {
        "id": "Gpb5sRefLk7l",
        "colab_type": "text"
      },
      "source": [
        "Pas grande chose à dire sur le sex et la fraude."
      ]
    },
    {
      "cell_type": "code",
      "metadata": {
        "id": "5quh4y_97K40",
        "colab_type": "code",
        "outputId": "47897405-5f77-42dc-e584-831f3fdf5ee3",
        "colab": {
          "base_uri": "https://localhost:8080/",
          "height": 635
        }
      },
      "source": [
        "fig = plt.subplots(1,1,figsize=(15,10))\n",
        "sns.pointplot(x='purchase_value',y='class', data=df, logistic=True)"
      ],
      "execution_count": 218,
      "outputs": [
        {
          "output_type": "execute_result",
          "data": {
            "text/plain": [
              "<matplotlib.axes._subplots.AxesSubplot at 0x7f0908bab710>"
            ]
          },
          "metadata": {
            "tags": []
          },
          "execution_count": 218
        },
        {
          "output_type": "display_data",
          "data": {
            "image/png": "[encoded data removed]",
            "text/plain": [
              "<Figure size 1080x720 with 1 Axes>"
            ]
          },
          "metadata": {
            "tags": []
          }
        }
      ]
    },
    {
      "cell_type": "code",
      "metadata": {
        "id": "7Vb5Ta1B7Ydg",
        "colab_type": "code",
        "outputId": "3e13e073-07c0-469f-ccf9-347ea315e3df",
        "colab": {
          "base_uri": "https://localhost:8080/",
          "height": 635
        }
      },
      "source": [
        "fig = plt.subplots(1,1,figsize=(15,10))\n",
        "sns.pointplot(x = 'purchase_value', y='class', data=df[df['purchase_value'] > 60], logistic=True)"
      ],
      "execution_count": 219,
      "outputs": [
        {
          "output_type": "execute_result",
          "data": {
            "text/plain": [
              "<matplotlib.axes._subplots.AxesSubplot at 0x7f09088bea20>"
            ]
          },
          "metadata": {
            "tags": []
          },
          "execution_count": 219
        },
        {
          "output_type": "display_data",
          "data": {
            "image/png": "[encoded data removed]",
            "text/plain": [
              "<Figure size 1080x720 with 1 Axes>"
            ]
          },
          "metadata": {
            "tags": []
          }
        }
      ]
    },
    {
      "cell_type": "markdown",
      "metadata": {
        "id": "N9STVqcW7OZV",
        "colab_type": "text"
      },
      "source": [
        "La courbe  ne nous apportent pas tant d'informations, cependantt, on remarque des pics autour de 80.\n",
        "\n"
      ]
    },
    {
      "cell_type": "markdown",
      "metadata": {
        "id": "BHyN7T7Wu07V",
        "colab_type": "text"
      },
      "source": [
        "Regroupement des observations"
      ]
    },
    {
      "cell_type": "code",
      "metadata": {
        "id": "OU2saweExLxQ",
        "colab_type": "code",
        "outputId": "af418787-9fdf-44ce-e96d-1f4388e97b85",
        "colab": {
          "base_uri": "https://localhost:8080/",
          "height": 141
        }
      },
      "source": [
        "a = df.groupby(df[\"class\"])\n",
        "a.mean()\n",
        "\n",
        "# pour avoir la moyenne des ages des fraudeurs ==> pas de differances à signaler"
      ],
      "execution_count": 220,
      "outputs": [
        {
          "output_type": "execute_result",
          "data": {
            "text/html": [
              "<div>\n",
              "<style scoped>\n",
              "    .dataframe tbody tr th:only-of-type {\n",
              "        vertical-align: middle;\n",
              "    }\n",
              "\n",
              "    .dataframe tbody tr th {\n",
              "        vertical-align: top;\n",
              "    }\n",
              "\n",
              "    .dataframe thead th {\n",
              "        text-align: right;\n",
              "    }\n",
              "</style>\n",
              "<table border=\"1\" class=\"dataframe\">\n",
              "  <thead>\n",
              "    <tr style=\"text-align: right;\">\n",
              "      <th></th>\n",
              "      <th>Unnamed: 0</th>\n",
              "      <th>user_id</th>\n",
              "      <th>purchase_value</th>\n",
              "      <th>age</th>\n",
              "      <th>ip_address</th>\n",
              "    </tr>\n",
              "    <tr>\n",
              "      <th>class</th>\n",
              "      <th></th>\n",
              "      <th></th>\n",
              "      <th></th>\n",
              "      <th></th>\n",
              "      <th></th>\n",
              "    </tr>\n",
              "  </thead>\n",
              "  <tbody>\n",
              "    <tr>\n",
              "      <th>0</th>\n",
              "      <td>75542.389052</td>\n",
              "      <td>200098.920123</td>\n",
              "      <td>36.929418</td>\n",
              "      <td>33.122356</td>\n",
              "      <td>2.154235e+09</td>\n",
              "    </tr>\n",
              "    <tr>\n",
              "      <th>1</th>\n",
              "      <td>75682.394813</td>\n",
              "      <td>200869.065366</td>\n",
              "      <td>36.993004</td>\n",
              "      <td>33.318281</td>\n",
              "      <td>2.131918e+09</td>\n",
              "    </tr>\n",
              "  </tbody>\n",
              "</table>\n",
              "</div>"
            ],
            "text/plain": [
              "         Unnamed: 0        user_id  purchase_value        age    ip_address\n",
              "class                                                                      \n",
              "0      75542.389052  200098.920123       36.929418  33.122356  2.154235e+09\n",
              "1      75682.394813  200869.065366       36.993004  33.318281  2.131918e+09"
            ]
          },
          "metadata": {
            "tags": []
          },
          "execution_count": 220
        }
      ]
    },
    {
      "cell_type": "code",
      "metadata": {
        "id": "8zljkV-Cu5eb",
        "colab_type": "code",
        "outputId": "4d565eb5-5c1f-4043-d49d-da15cee58faa",
        "colab": {
          "base_uri": "https://localhost:8080/",
          "height": 121
        }
      },
      "source": [
        "df.groupby([pd.Grouper(\"sex\"), 'class'])[\"age\"].mean() "
      ],
      "execution_count": 221,
      "outputs": [
        {
          "output_type": "execute_result",
          "data": {
            "text/plain": [
              "sex  class\n",
              "M    0        33.142914\n",
              "     1        33.431231\n",
              "F    0        33.093604\n",
              "     1        33.151653\n",
              "Name: age, dtype: float64"
            ]
          },
          "metadata": {
            "tags": []
          },
          "execution_count": 221
        }
      ]
    },
    {
      "cell_type": "markdown",
      "metadata": {
        "id": "XnFpbfZRSxob",
        "colab_type": "text"
      },
      "source": [
        "- La moyenne d'age pour les fraudeurs et les non fraudeurs est presque égale : 33 ans \n",
        "- Les valeurs d'achats son presque égales pour les fraudeurs et les non fraudeurs. Aux alentour de : 200098.00 à 200869.00"
      ]
    },
    {
      "cell_type": "code",
      "metadata": {
        "id": "-HdqjACAzY4k",
        "colab_type": "code",
        "outputId": "eb542982-72c7-4a6b-fda7-f54e5697afc3",
        "colab": {
          "base_uri": "https://localhost:8080/",
          "height": 171
        }
      },
      "source": [
        "df.groupby(['sex', 'class']).size().reset_index()  # je voulais séparer les deux sex en fonction de class"
      ],
      "execution_count": 222,
      "outputs": [
        {
          "output_type": "execute_result",
          "data": {
            "text/html": [
              "<div>\n",
              "<style scoped>\n",
              "    .dataframe tbody tr th:only-of-type {\n",
              "        vertical-align: middle;\n",
              "    }\n",
              "\n",
              "    .dataframe tbody tr th {\n",
              "        vertical-align: top;\n",
              "    }\n",
              "\n",
              "    .dataframe thead th {\n",
              "        text-align: right;\n",
              "    }\n",
              "</style>\n",
              "<table border=\"1\" class=\"dataframe\">\n",
              "  <thead>\n",
              "    <tr style=\"text-align: right;\">\n",
              "      <th></th>\n",
              "      <th>sex</th>\n",
              "      <th>class</th>\n",
              "      <th>0</th>\n",
              "    </tr>\n",
              "  </thead>\n",
              "  <tbody>\n",
              "    <tr>\n",
              "      <th>0</th>\n",
              "      <td>F</td>\n",
              "      <td>0</td>\n",
              "      <td>57102</td>\n",
              "    </tr>\n",
              "    <tr>\n",
              "      <th>1</th>\n",
              "      <td>F</td>\n",
              "      <td>1</td>\n",
              "      <td>5717</td>\n",
              "    </tr>\n",
              "    <tr>\n",
              "      <th>2</th>\n",
              "      <td>M</td>\n",
              "      <td>0</td>\n",
              "      <td>79859</td>\n",
              "    </tr>\n",
              "    <tr>\n",
              "      <th>3</th>\n",
              "      <td>M</td>\n",
              "      <td>1</td>\n",
              "      <td>8434</td>\n",
              "    </tr>\n",
              "  </tbody>\n",
              "</table>\n",
              "</div>"
            ],
            "text/plain": [
              "  sex  class      0\n",
              "0   F      0  57102\n",
              "1   F      1   5717\n",
              "2   M      0  79859\n",
              "3   M      1   8434"
            ]
          },
          "metadata": {
            "tags": []
          },
          "execution_count": 222
        }
      ]
    },
    {
      "cell_type": "markdown",
      "metadata": {
        "id": "ssTK06rcVqpT",
        "colab_type": "text"
      },
      "source": [
        "La proportion des fraudeurs chez les hommes 0.095 et égale à celle chez les femmes 0.091"
      ]
    },
    {
      "cell_type": "markdown",
      "metadata": {
        "id": "GxFFS0uT-Fwx",
        "colab_type": "text"
      },
      "source": [
        "### Nous allons  classer les pays selon leur ratio de fraude (evidemment nous n'avons pas regardé les pays avec des petites occurences, nous classons d'abord les pays par rapport a leur importance dans dataset, puis nous regardons les ratios"
      ]
    },
    {
      "cell_type": "markdown",
      "metadata": {
        "id": "TFzO87QiIA_5",
        "colab_type": "text"
      },
      "source": [
        "<b><i>/!\\ Il est important de convertir les NaN des pays en string, pour qu'ils soient considerer comme des potentiels fraudeurs<b> <i> /!\\"
      ]
    },
    {
      "cell_type": "code",
      "metadata": {
        "id": "7YN8bV9gDTeh",
        "colab_type": "code",
        "outputId": "7f9088b6-25c5-4180-a6c7-5ea96e24c41e",
        "colab": {
          "base_uri": "https://localhost:8080/",
          "height": 121
        }
      },
      "source": [
        "df['country']=df.country.apply(lambda x : str(x)) \n",
        "df.country.head()"
      ],
      "execution_count": 223,
      "outputs": [
        {
          "output_type": "execute_result",
          "data": {
            "text/plain": [
              "0            Japan\n",
              "1    United States\n",
              "2    United States\n",
              "3          Unknown\n",
              "4    United States\n",
              "Name: country, dtype: object"
            ]
          },
          "metadata": {
            "tags": []
          },
          "execution_count": 223
        }
      ]
    },
    {
      "cell_type": "code",
      "metadata": {
        "id": "qr7h-Lr4DWt-",
        "colab_type": "code",
        "outputId": "154a2e55-97bc-4db2-af27-b02d49aea250",
        "colab": {
          "base_uri": "https://localhost:8080/",
          "height": 355
        }
      },
      "source": [
        "fraude_rate_country = ((df[df['class']==1].groupby('country')['user_id'].count()/df.groupby('country')['user_id'].count()).sort_values( ascending=False)).reset_index()                            \n",
        "fraude_rate_country = pd.DataFrame(fraude_rate_country)\n",
        "fraude_rate_country.head(10)                                                                                                                                                    "
      ],
      "execution_count": 224,
      "outputs": [
        {
          "output_type": "execute_result",
          "data": {
            "text/html": [
              "<div>\n",
              "<style scoped>\n",
              "    .dataframe tbody tr th:only-of-type {\n",
              "        vertical-align: middle;\n",
              "    }\n",
              "\n",
              "    .dataframe tbody tr th {\n",
              "        vertical-align: top;\n",
              "    }\n",
              "\n",
              "    .dataframe thead th {\n",
              "        text-align: right;\n",
              "    }\n",
              "</style>\n",
              "<table border=\"1\" class=\"dataframe\">\n",
              "  <thead>\n",
              "    <tr style=\"text-align: right;\">\n",
              "      <th></th>\n",
              "      <th>country</th>\n",
              "      <th>user_id</th>\n",
              "    </tr>\n",
              "  </thead>\n",
              "  <tbody>\n",
              "    <tr>\n",
              "      <th>0</th>\n",
              "      <td>Turkmenistan</td>\n",
              "      <td>1.000000</td>\n",
              "    </tr>\n",
              "    <tr>\n",
              "      <th>1</th>\n",
              "      <td>Namibia</td>\n",
              "      <td>0.434783</td>\n",
              "    </tr>\n",
              "    <tr>\n",
              "      <th>2</th>\n",
              "      <td>Sri Lanka</td>\n",
              "      <td>0.419355</td>\n",
              "    </tr>\n",
              "    <tr>\n",
              "      <th>3</th>\n",
              "      <td>Luxembourg</td>\n",
              "      <td>0.388889</td>\n",
              "    </tr>\n",
              "    <tr>\n",
              "      <th>4</th>\n",
              "      <td>Virgin Islands (U.S.)</td>\n",
              "      <td>0.333333</td>\n",
              "    </tr>\n",
              "    <tr>\n",
              "      <th>5</th>\n",
              "      <td>Ecuador</td>\n",
              "      <td>0.264151</td>\n",
              "    </tr>\n",
              "    <tr>\n",
              "      <th>6</th>\n",
              "      <td>Tunisia</td>\n",
              "      <td>0.262712</td>\n",
              "    </tr>\n",
              "    <tr>\n",
              "      <th>7</th>\n",
              "      <td>Peru</td>\n",
              "      <td>0.260504</td>\n",
              "    </tr>\n",
              "    <tr>\n",
              "      <th>8</th>\n",
              "      <td>Bolivia</td>\n",
              "      <td>0.245283</td>\n",
              "    </tr>\n",
              "    <tr>\n",
              "      <th>9</th>\n",
              "      <td>Kuwait</td>\n",
              "      <td>0.233333</td>\n",
              "    </tr>\n",
              "  </tbody>\n",
              "</table>\n",
              "</div>"
            ],
            "text/plain": [
              "                 country   user_id\n",
              "0           Turkmenistan  1.000000\n",
              "1                Namibia  0.434783\n",
              "2              Sri Lanka  0.419355\n",
              "3             Luxembourg  0.388889\n",
              "4  Virgin Islands (U.S.)  0.333333\n",
              "5                Ecuador  0.264151\n",
              "6                Tunisia  0.262712\n",
              "7                   Peru  0.260504\n",
              "8                Bolivia  0.245283\n",
              "9                 Kuwait  0.233333"
            ]
          },
          "metadata": {
            "tags": []
          },
          "execution_count": 224
        }
      ]
    },
    {
      "cell_type": "code",
      "metadata": {
        "id": "ylUFKBzEybXG",
        "colab_type": "code",
        "outputId": "9c3db409-4adf-424b-84ab-1c869437043b",
        "colab": {
          "base_uri": "https://localhost:8080/",
          "height": 202
        }
      },
      "source": [
        "fraude_rate_country.drop(columns=['user_id'],inplace=True)\n",
        "fraude_rate_country.head()"
      ],
      "execution_count": 225,
      "outputs": [
        {
          "output_type": "execute_result",
          "data": {
            "text/html": [
              "<div>\n",
              "<style scoped>\n",
              "    .dataframe tbody tr th:only-of-type {\n",
              "        vertical-align: middle;\n",
              "    }\n",
              "\n",
              "    .dataframe tbody tr th {\n",
              "        vertical-align: top;\n",
              "    }\n",
              "\n",
              "    .dataframe thead th {\n",
              "        text-align: right;\n",
              "    }\n",
              "</style>\n",
              "<table border=\"1\" class=\"dataframe\">\n",
              "  <thead>\n",
              "    <tr style=\"text-align: right;\">\n",
              "      <th></th>\n",
              "      <th>country</th>\n",
              "    </tr>\n",
              "  </thead>\n",
              "  <tbody>\n",
              "    <tr>\n",
              "      <th>0</th>\n",
              "      <td>Turkmenistan</td>\n",
              "    </tr>\n",
              "    <tr>\n",
              "      <th>1</th>\n",
              "      <td>Namibia</td>\n",
              "    </tr>\n",
              "    <tr>\n",
              "      <th>2</th>\n",
              "      <td>Sri Lanka</td>\n",
              "    </tr>\n",
              "    <tr>\n",
              "      <th>3</th>\n",
              "      <td>Luxembourg</td>\n",
              "    </tr>\n",
              "    <tr>\n",
              "      <th>4</th>\n",
              "      <td>Virgin Islands (U.S.)</td>\n",
              "    </tr>\n",
              "  </tbody>\n",
              "</table>\n",
              "</div>"
            ],
            "text/plain": [
              "                 country\n",
              "0           Turkmenistan\n",
              "1                Namibia\n",
              "2              Sri Lanka\n",
              "3             Luxembourg\n",
              "4  Virgin Islands (U.S.)"
            ]
          },
          "metadata": {
            "tags": []
          },
          "execution_count": 225
        }
      ]
    },
    {
      "cell_type": "code",
      "metadata": {
        "id": "SsdqpcToyblY",
        "colab_type": "code",
        "outputId": "360b694c-755a-4b0b-869a-30fa75ffb5e7",
        "colab": {
          "base_uri": "https://localhost:8080/",
          "height": 662
        }
      },
      "source": [
        "fraude_rate_country.head(20)"
      ],
      "execution_count": 226,
      "outputs": [
        {
          "output_type": "execute_result",
          "data": {
            "text/html": [
              "<div>\n",
              "<style scoped>\n",
              "    .dataframe tbody tr th:only-of-type {\n",
              "        vertical-align: middle;\n",
              "    }\n",
              "\n",
              "    .dataframe tbody tr th {\n",
              "        vertical-align: top;\n",
              "    }\n",
              "\n",
              "    .dataframe thead th {\n",
              "        text-align: right;\n",
              "    }\n",
              "</style>\n",
              "<table border=\"1\" class=\"dataframe\">\n",
              "  <thead>\n",
              "    <tr style=\"text-align: right;\">\n",
              "      <th></th>\n",
              "      <th>country</th>\n",
              "    </tr>\n",
              "  </thead>\n",
              "  <tbody>\n",
              "    <tr>\n",
              "      <th>0</th>\n",
              "      <td>Turkmenistan</td>\n",
              "    </tr>\n",
              "    <tr>\n",
              "      <th>1</th>\n",
              "      <td>Namibia</td>\n",
              "    </tr>\n",
              "    <tr>\n",
              "      <th>2</th>\n",
              "      <td>Sri Lanka</td>\n",
              "    </tr>\n",
              "    <tr>\n",
              "      <th>3</th>\n",
              "      <td>Luxembourg</td>\n",
              "    </tr>\n",
              "    <tr>\n",
              "      <th>4</th>\n",
              "      <td>Virgin Islands (U.S.)</td>\n",
              "    </tr>\n",
              "    <tr>\n",
              "      <th>5</th>\n",
              "      <td>Ecuador</td>\n",
              "    </tr>\n",
              "    <tr>\n",
              "      <th>6</th>\n",
              "      <td>Tunisia</td>\n",
              "    </tr>\n",
              "    <tr>\n",
              "      <th>7</th>\n",
              "      <td>Peru</td>\n",
              "    </tr>\n",
              "    <tr>\n",
              "      <th>8</th>\n",
              "      <td>Bolivia</td>\n",
              "    </tr>\n",
              "    <tr>\n",
              "      <th>9</th>\n",
              "      <td>Kuwait</td>\n",
              "    </tr>\n",
              "    <tr>\n",
              "      <th>10</th>\n",
              "      <td>Ireland</td>\n",
              "    </tr>\n",
              "    <tr>\n",
              "      <th>11</th>\n",
              "      <td>New Zealand</td>\n",
              "    </tr>\n",
              "    <tr>\n",
              "      <th>12</th>\n",
              "      <td>Uzbekistan</td>\n",
              "    </tr>\n",
              "    <tr>\n",
              "      <th>13</th>\n",
              "      <td>Lithuania</td>\n",
              "    </tr>\n",
              "    <tr>\n",
              "      <th>14</th>\n",
              "      <td>Saudi Arabia</td>\n",
              "    </tr>\n",
              "    <tr>\n",
              "      <th>15</th>\n",
              "      <td>Malta</td>\n",
              "    </tr>\n",
              "    <tr>\n",
              "      <th>16</th>\n",
              "      <td>Cote D'ivoire</td>\n",
              "    </tr>\n",
              "    <tr>\n",
              "      <th>17</th>\n",
              "      <td>Afghanistan</td>\n",
              "    </tr>\n",
              "    <tr>\n",
              "      <th>18</th>\n",
              "      <td>Denmark</td>\n",
              "    </tr>\n",
              "    <tr>\n",
              "      <th>19</th>\n",
              "      <td>Chile</td>\n",
              "    </tr>\n",
              "  </tbody>\n",
              "</table>\n",
              "</div>"
            ],
            "text/plain": [
              "                  country\n",
              "0            Turkmenistan\n",
              "1                 Namibia\n",
              "2               Sri Lanka\n",
              "3              Luxembourg\n",
              "4   Virgin Islands (U.S.)\n",
              "5                 Ecuador\n",
              "6                 Tunisia\n",
              "7                    Peru\n",
              "8                 Bolivia\n",
              "9                  Kuwait\n",
              "10                Ireland\n",
              "11            New Zealand\n",
              "12             Uzbekistan\n",
              "13              Lithuania\n",
              "14           Saudi Arabia\n",
              "15                  Malta\n",
              "16          Cote D'ivoire\n",
              "17            Afghanistan\n",
              "18                Denmark\n",
              "19                  Chile"
            ]
          },
          "metadata": {
            "tags": []
          },
          "execution_count": 226
        }
      ]
    },
    {
      "cell_type": "markdown",
      "metadata": {
        "id": "xn5_UQ81Orkg",
        "colab_type": "text"
      },
      "source": [
        "Ci-dessus, nous avons le classement des pays frauduleux. Mais cela n'est pas solide, parce que nous n'avons pas le même poids pur chaque pays dans le dataset.\n"
      ]
    },
    {
      "cell_type": "code",
      "metadata": {
        "id": "yHcee1EfWoEH",
        "colab_type": "code",
        "outputId": "9354f07e-6bd6-49ef-fa1d-6d87fe23487c",
        "colab": {
          "base_uri": "https://localhost:8080/",
          "height": 121
        }
      },
      "source": [
        "df[\"country\"].head()"
      ],
      "execution_count": 227,
      "outputs": [
        {
          "output_type": "execute_result",
          "data": {
            "text/plain": [
              "0            Japan\n",
              "1    United States\n",
              "2    United States\n",
              "3          Unknown\n",
              "4    United States\n",
              "Name: country, dtype: object"
            ]
          },
          "metadata": {
            "tags": []
          },
          "execution_count": 227
        }
      ]
    },
    {
      "cell_type": "code",
      "metadata": {
        "id": "T3qVVedPsoXw",
        "colab_type": "code",
        "outputId": "220e0a1c-f29f-4a43-e961-615317102f6f",
        "colab": {
          "base_uri": "https://localhost:8080/",
          "height": 121
        }
      },
      "source": [
        "pays  = df[\"country\"].value_counts()/len(df.country)*100\n",
        "pays.head()\n",
        "\n",
        "# j'ai 14% de Unknown ==> Unknown se sont mes valeurs vides NaN"
      ],
      "execution_count": 228,
      "outputs": [
        {
          "output_type": "execute_result",
          "data": {
            "text/plain": [
              "United States     38.414553\n",
              "Unknown           14.536238\n",
              "China              7.966277\n",
              "Japan              4.834825\n",
              "United Kingdom     2.971306\n",
              "Name: country, dtype: float64"
            ]
          },
          "metadata": {
            "tags": []
          },
          "execution_count": 228
        }
      ]
    },
    {
      "cell_type": "code",
      "metadata": {
        "id": "2fqHsCVjZgGC",
        "colab_type": "code",
        "outputId": "6050a114-a4aa-4d44-f680-51a9f878bd8c",
        "colab": {
          "base_uri": "https://localhost:8080/",
          "height": 202
        }
      },
      "source": [
        "country_fraude = (df[df[\"class\"]==1].groupby([\"country\"])[\"class\"].sum()).reset_index()\n",
        "country_fraude = country_fraude.sort_values(by='class', ascending=False)\n",
        "country_fraude.head()  # Nous avons calculer le nombre des fraudes par pays"
      ],
      "execution_count": 229,
      "outputs": [
        {
          "output_type": "execute_result",
          "data": {
            "text/html": [
              "<div>\n",
              "<style scoped>\n",
              "    .dataframe tbody tr th:only-of-type {\n",
              "        vertical-align: middle;\n",
              "    }\n",
              "\n",
              "    .dataframe tbody tr th {\n",
              "        vertical-align: top;\n",
              "    }\n",
              "\n",
              "    .dataframe thead th {\n",
              "        text-align: right;\n",
              "    }\n",
              "</style>\n",
              "<table border=\"1\" class=\"dataframe\">\n",
              "  <thead>\n",
              "    <tr style=\"text-align: right;\">\n",
              "      <th></th>\n",
              "      <th>country</th>\n",
              "      <th>class</th>\n",
              "    </tr>\n",
              "  </thead>\n",
              "  <tbody>\n",
              "    <tr>\n",
              "      <th>103</th>\n",
              "      <td>United States</td>\n",
              "      <td>5551</td>\n",
              "    </tr>\n",
              "    <tr>\n",
              "      <th>104</th>\n",
              "      <td>Unknown</td>\n",
              "      <td>1883</td>\n",
              "    </tr>\n",
              "    <tr>\n",
              "      <th>17</th>\n",
              "      <td>China</td>\n",
              "      <td>1043</td>\n",
              "    </tr>\n",
              "    <tr>\n",
              "      <th>47</th>\n",
              "      <td>Japan</td>\n",
              "      <td>715</td>\n",
              "    </tr>\n",
              "    <tr>\n",
              "      <th>102</th>\n",
              "      <td>United Kingdom</td>\n",
              "      <td>477</td>\n",
              "    </tr>\n",
              "  </tbody>\n",
              "</table>\n",
              "</div>"
            ],
            "text/plain": [
              "            country  class\n",
              "103   United States   5551\n",
              "104         Unknown   1883\n",
              "17            China   1043\n",
              "47            Japan    715\n",
              "102  United Kingdom    477"
            ]
          },
          "metadata": {
            "tags": []
          },
          "execution_count": 229
        }
      ]
    },
    {
      "cell_type": "code",
      "metadata": {
        "id": "Ic9Q2ZXZ0f8A",
        "colab_type": "code",
        "outputId": "14e1d8cf-c730-4db2-d6ce-520958962c26",
        "colab": {
          "base_uri": "https://localhost:8080/",
          "height": 35
        }
      },
      "source": [
        "df[\"class\"].sum()   # je voudrai calculer le nombre des items dans la variable country\n"
      ],
      "execution_count": 230,
      "outputs": [
        {
          "output_type": "execute_result",
          "data": {
            "text/plain": [
              "14151"
            ]
          },
          "metadata": {
            "tags": []
          },
          "execution_count": 230
        }
      ]
    },
    {
      "cell_type": "code",
      "metadata": {
        "id": "sNNKW5jLuSlq",
        "colab_type": "code",
        "outputId": "9cf63173-4c61-4d84-e8b5-ca82e6347a00",
        "colab": {
          "base_uri": "https://localhost:8080/",
          "height": 121
        }
      },
      "source": [
        "country_fraude_rate = country_fraude[\"class\"]/(df[\"class\"].sum())   # je calcule le ratio de fraude par pays\n",
        "country_fraude_rate.head()"
      ],
      "execution_count": 231,
      "outputs": [
        {
          "output_type": "execute_result",
          "data": {
            "text/plain": [
              "103    0.392269\n",
              "104    0.133065\n",
              "17     0.073705\n",
              "47     0.050526\n",
              "102    0.033708\n",
              "Name: class, dtype: float64"
            ]
          },
          "metadata": {
            "tags": []
          },
          "execution_count": 231
        }
      ]
    },
    {
      "cell_type": "markdown",
      "metadata": {
        "id": "uewtjMZ_6IZZ",
        "colab_type": "text"
      },
      "source": [
        "### On remarque que les Nan et les Uniteds States sont tres representés :\n",
        "\n",
        "\n",
        "<b> ```38% pour les US avec 39 % de fraude``` et ```14% pour les unknown avec 13 % de fraude ``` </b>\n",
        "Il serait alors peut etre interessant de réaliser des modèles specifiques aux Unknown et aux United States et le reste du dataframe differements\n",
        "\n"
      ]
    },
    {
      "cell_type": "markdown",
      "metadata": {
        "id": "hePwUkCosj-w",
        "colab_type": "text"
      },
      "source": [
        "Préprocessing : \n",
        "\n",
        "1. Néttoyege du DataFrame et écrémage des NaN \n",
        "\n",
        "2. Dummification des varb quali \n"
      ]
    },
    {
      "cell_type": "code",
      "metadata": {
        "id": "L1yJkWljQLqx",
        "colab_type": "code",
        "colab": {}
      },
      "source": [
        "df_US = df[df['country']=='United States']"
      ],
      "execution_count": 0,
      "outputs": []
    },
    {
      "cell_type": "code",
      "metadata": {
        "id": "8ukv05mk47QW",
        "colab_type": "code",
        "colab": {}
      },
      "source": [
        "df_nan = df[df['country']=='Unknown']"
      ],
      "execution_count": 0,
      "outputs": []
    },
    {
      "cell_type": "code",
      "metadata": {
        "id": "N-3buUGo47Ii",
        "colab_type": "code",
        "colab": {}
      },
      "source": [
        "df_reste = df[(df['country']!='United States') & (df['country']!='Unknown')]"
      ],
      "execution_count": 0,
      "outputs": []
    },
    {
      "cell_type": "code",
      "metadata": {
        "id": "8T1O6RDhAIgZ",
        "colab_type": "code",
        "outputId": "89659e98-4a6d-49ef-8b5b-add5775df71f",
        "colab": {
          "base_uri": "https://localhost:8080/",
          "height": 383
        }
      },
      "source": [
        "fig, ax = plt.subplots(1,3, figsize=(30, 5)) \n",
        "\n",
        "#fig, ax = plt.subplots(1,2,figsize=(15,8))\n",
        "\n",
        "\n",
        "\n",
        "sns.pointplot(x=\"age\", y=\"class\", hue=\"sex\", size=\"coherence\", style=\"class\", legend=\"full\",data=df_US, ax=ax[0])\n",
        "sns.pointplot(x=\"age\", y=\"class\", hue=\"sex\", size=\"coherence\", style=\"class\", legend=\"full\",data=df_nan, ax=ax[1])\n",
        "sns.pointplot(x=\"age\", y=\"class\", hue=\"sex\", size=\"coherence\", style=\"class\", legend=\"full\",data=df_reste, ax=ax[2])"
      ],
      "execution_count": 235,
      "outputs": [
        {
          "output_type": "execute_result",
          "data": {
            "text/plain": [
              "<matplotlib.axes._subplots.AxesSubplot at 0x7f09086b7be0>"
            ]
          },
          "metadata": {
            "tags": []
          },
          "execution_count": 235
        },
        {
          "output_type": "display_data",
          "data": {
            "image/png": "[encoded data removed]",
            "text/plain": [
              "<Figure size 2160x360 with 3 Axes>"
            ]
          },
          "metadata": {
            "tags": []
          }
        }
      ]
    },
    {
      "cell_type": "markdown",
      "metadata": {
        "id": "tQ5dWY-kUwTP",
        "colab_type": "text"
      },
      "source": [
        "La tranche d'âge de 50 ans et + sont sucéptible à faires des activités frauduleuses plus que les jeunes "
      ]
    },
    {
      "cell_type": "markdown",
      "metadata": {
        "id": "ctTOUx7vsdTv",
        "colab_type": "text"
      },
      "source": [
        " Rien d'incroyable selon les differents dataframes, cependant on remarque quand meme, que plus un device est utilisé, plus il y a des chances qu'il s'agisse d'une fraude\n",
        "\n"
      ]
    },
    {
      "cell_type": "code",
      "metadata": {
        "id": "LkDEIdjiAIBp",
        "colab_type": "code",
        "outputId": "7420ea46-9716-41a7-cb4d-e4e1cf725eb4",
        "colab": {
          "base_uri": "https://localhost:8080/",
          "height": 386
        }
      },
      "source": [
        "dev = pd.DataFrame(df.groupby('device_id')['user_id'].count())\n",
        "dev = dev.sort_values(by=\"user_id\", ascending=False)\n",
        "dev.head(10)"
      ],
      "execution_count": 236,
      "outputs": [
        {
          "output_type": "execute_result",
          "data": {
            "text/html": [
              "<div>\n",
              "<style scoped>\n",
              "    .dataframe tbody tr th:only-of-type {\n",
              "        vertical-align: middle;\n",
              "    }\n",
              "\n",
              "    .dataframe tbody tr th {\n",
              "        vertical-align: top;\n",
              "    }\n",
              "\n",
              "    .dataframe thead th {\n",
              "        text-align: right;\n",
              "    }\n",
              "</style>\n",
              "<table border=\"1\" class=\"dataframe\">\n",
              "  <thead>\n",
              "    <tr style=\"text-align: right;\">\n",
              "      <th></th>\n",
              "      <th>user_id</th>\n",
              "    </tr>\n",
              "    <tr>\n",
              "      <th>device_id</th>\n",
              "      <th></th>\n",
              "    </tr>\n",
              "  </thead>\n",
              "  <tbody>\n",
              "    <tr>\n",
              "      <th>KIPFSCNUGOLDP</th>\n",
              "      <td>20</td>\n",
              "    </tr>\n",
              "    <tr>\n",
              "      <th>NGQCKIADMZORL</th>\n",
              "      <td>20</td>\n",
              "    </tr>\n",
              "    <tr>\n",
              "      <th>CQTUVBYIWWWBC</th>\n",
              "      <td>20</td>\n",
              "    </tr>\n",
              "    <tr>\n",
              "      <th>ITUMJCKWEYNDD</th>\n",
              "      <td>20</td>\n",
              "    </tr>\n",
              "    <tr>\n",
              "      <th>EQYVNEGOFLAWK</th>\n",
              "      <td>20</td>\n",
              "    </tr>\n",
              "    <tr>\n",
              "      <th>ZUSVMDEZRBDTX</th>\n",
              "      <td>20</td>\n",
              "    </tr>\n",
              "    <tr>\n",
              "      <th>BWSMVSLCJXMCM</th>\n",
              "      <td>19</td>\n",
              "    </tr>\n",
              "    <tr>\n",
              "      <th>IGKYVZDBEGALB</th>\n",
              "      <td>19</td>\n",
              "    </tr>\n",
              "    <tr>\n",
              "      <th>EGLGSEGYPMMAM</th>\n",
              "      <td>19</td>\n",
              "    </tr>\n",
              "    <tr>\n",
              "      <th>CDFXVYHOIHPYP</th>\n",
              "      <td>19</td>\n",
              "    </tr>\n",
              "  </tbody>\n",
              "</table>\n",
              "</div>"
            ],
            "text/plain": [
              "               user_id\n",
              "device_id             \n",
              "KIPFSCNUGOLDP       20\n",
              "NGQCKIADMZORL       20\n",
              "CQTUVBYIWWWBC       20\n",
              "ITUMJCKWEYNDD       20\n",
              "EQYVNEGOFLAWK       20\n",
              "ZUSVMDEZRBDTX       20\n",
              "BWSMVSLCJXMCM       19\n",
              "IGKYVZDBEGALB       19\n",
              "EGLGSEGYPMMAM       19\n",
              "CDFXVYHOIHPYP       19"
            ]
          },
          "metadata": {
            "tags": []
          },
          "execution_count": 236
        }
      ]
    },
    {
      "cell_type": "markdown",
      "metadata": {
        "id": "B3kLd0r2ulAm",
        "colab_type": "text"
      },
      "source": [
        "On va créer  des categories pour les devices utilisés :\n",
        "\n",
        "_ Safe : Les devices utilisés entre 1 et 3\n",
        "\n",
        "_ Not Sure : Les devices utilisé 4 fois\n",
        "\n",
        "_ Dangerous : Lles devices utilisé 5 fois ou plus\n",
        "\n"
      ]
    },
    {
      "cell_type": "code",
      "metadata": {
        "id": "rTm2IDEtt7R2",
        "colab_type": "code",
        "colab": {}
      },
      "source": [
        "df['Alerte'] = df.user_id.apply(lambda x : 'safe' if x<=3 else ( 'not_sure' if x==4 else 'dangerous'))"
      ],
      "execution_count": 0,
      "outputs": []
    },
    {
      "cell_type": "code",
      "metadata": {
        "id": "VTtfTP-LscRZ",
        "colab_type": "code",
        "outputId": "e70fe187-a670-4d2b-e7bb-6eae2de42be6",
        "colab": {
          "base_uri": "https://localhost:8080/",
          "height": 202
        }
      },
      "source": [
        "df.head()"
      ],
      "execution_count": 238,
      "outputs": [
        {
          "output_type": "execute_result",
          "data": {
            "text/html": [
              "<div>\n",
              "<style scoped>\n",
              "    .dataframe tbody tr th:only-of-type {\n",
              "        vertical-align: middle;\n",
              "    }\n",
              "\n",
              "    .dataframe tbody tr th {\n",
              "        vertical-align: top;\n",
              "    }\n",
              "\n",
              "    .dataframe thead th {\n",
              "        text-align: right;\n",
              "    }\n",
              "</style>\n",
              "<table border=\"1\" class=\"dataframe\">\n",
              "  <thead>\n",
              "    <tr style=\"text-align: right;\">\n",
              "      <th></th>\n",
              "      <th>Unnamed: 0</th>\n",
              "      <th>user_id</th>\n",
              "      <th>signup_time</th>\n",
              "      <th>purchase_time</th>\n",
              "      <th>purchase_value</th>\n",
              "      <th>device_id</th>\n",
              "      <th>source</th>\n",
              "      <th>browser</th>\n",
              "      <th>sex</th>\n",
              "      <th>age</th>\n",
              "      <th>ip_address</th>\n",
              "      <th>class</th>\n",
              "      <th>country</th>\n",
              "      <th>Alerte</th>\n",
              "    </tr>\n",
              "  </thead>\n",
              "  <tbody>\n",
              "    <tr>\n",
              "      <th>0</th>\n",
              "      <td>0</td>\n",
              "      <td>22058</td>\n",
              "      <td>2015-02-24 22:55:49</td>\n",
              "      <td>2015-04-18 02:47:11</td>\n",
              "      <td>34</td>\n",
              "      <td>QVPSPJUOCKZAR</td>\n",
              "      <td>SEO</td>\n",
              "      <td>Chrome</td>\n",
              "      <td>M</td>\n",
              "      <td>39</td>\n",
              "      <td>7.327584e+08</td>\n",
              "      <td>0</td>\n",
              "      <td>Japan</td>\n",
              "      <td>dangerous</td>\n",
              "    </tr>\n",
              "    <tr>\n",
              "      <th>1</th>\n",
              "      <td>1</td>\n",
              "      <td>333320</td>\n",
              "      <td>2015-06-07 20:39:50</td>\n",
              "      <td>2015-06-08 01:38:54</td>\n",
              "      <td>16</td>\n",
              "      <td>EOGFQPIZPYXFZ</td>\n",
              "      <td>Ads</td>\n",
              "      <td>Chrome</td>\n",
              "      <td>F</td>\n",
              "      <td>53</td>\n",
              "      <td>3.503114e+08</td>\n",
              "      <td>0</td>\n",
              "      <td>United States</td>\n",
              "      <td>dangerous</td>\n",
              "    </tr>\n",
              "    <tr>\n",
              "      <th>2</th>\n",
              "      <td>2</td>\n",
              "      <td>1359</td>\n",
              "      <td>2015-01-01 18:52:44</td>\n",
              "      <td>2015-01-01 18:52:45</td>\n",
              "      <td>15</td>\n",
              "      <td>YSSKYOSJHPPLJ</td>\n",
              "      <td>SEO</td>\n",
              "      <td>Opera</td>\n",
              "      <td>M</td>\n",
              "      <td>53</td>\n",
              "      <td>2.621474e+09</td>\n",
              "      <td>1</td>\n",
              "      <td>United States</td>\n",
              "      <td>dangerous</td>\n",
              "    </tr>\n",
              "    <tr>\n",
              "      <th>3</th>\n",
              "      <td>3</td>\n",
              "      <td>150084</td>\n",
              "      <td>2015-04-28 21:13:25</td>\n",
              "      <td>2015-05-04 13:54:50</td>\n",
              "      <td>44</td>\n",
              "      <td>ATGTXKYKUDUQN</td>\n",
              "      <td>SEO</td>\n",
              "      <td>Safari</td>\n",
              "      <td>M</td>\n",
              "      <td>41</td>\n",
              "      <td>3.840542e+09</td>\n",
              "      <td>0</td>\n",
              "      <td>Unknown</td>\n",
              "      <td>dangerous</td>\n",
              "    </tr>\n",
              "    <tr>\n",
              "      <th>4</th>\n",
              "      <td>4</td>\n",
              "      <td>221365</td>\n",
              "      <td>2015-07-21 07:09:52</td>\n",
              "      <td>2015-09-09 18:40:53</td>\n",
              "      <td>39</td>\n",
              "      <td>NAUITBZFJKHWW</td>\n",
              "      <td>Ads</td>\n",
              "      <td>Safari</td>\n",
              "      <td>M</td>\n",
              "      <td>45</td>\n",
              "      <td>4.155831e+08</td>\n",
              "      <td>0</td>\n",
              "      <td>United States</td>\n",
              "      <td>dangerous</td>\n",
              "    </tr>\n",
              "  </tbody>\n",
              "</table>\n",
              "</div>"
            ],
            "text/plain": [
              "   Unnamed: 0  user_id          signup_time  ... class        country     Alerte\n",
              "0           0    22058  2015-02-24 22:55:49  ...     0          Japan  dangerous\n",
              "1           1   333320  2015-06-07 20:39:50  ...     0  United States  dangerous\n",
              "2           2     1359  2015-01-01 18:52:44  ...     1  United States  dangerous\n",
              "3           3   150084  2015-04-28 21:13:25  ...     0        Unknown  dangerous\n",
              "4           4   221365  2015-07-21 07:09:52  ...     0  United States  dangerous\n",
              "\n",
              "[5 rows x 14 columns]"
            ]
          },
          "metadata": {
            "tags": []
          },
          "execution_count": 238
        }
      ]
    },
    {
      "cell_type": "code",
      "metadata": {
        "id": "mVg4qYN5n-z5",
        "colab_type": "code",
        "outputId": "59fc1e2c-1ac8-40d1-dee9-b84a5d64a188",
        "colab": {
          "base_uri": "https://localhost:8080/",
          "height": 35
        }
      },
      "source": [
        "df.country.shape"
      ],
      "execution_count": 239,
      "outputs": [
        {
          "output_type": "execute_result",
          "data": {
            "text/plain": [
              "(151112,)"
            ]
          },
          "metadata": {
            "tags": []
          },
          "execution_count": 239
        }
      ]
    },
    {
      "cell_type": "code",
      "metadata": {
        "id": "LZD7T6TCsogQ",
        "colab_type": "code",
        "colab": {}
      },
      "source": [
        "# je supprime les pays inconnus puisque l'on peut pas les localiser.\n",
        "\n",
        "\n",
        "#df.country = df.country.dropna([\"Unknown\"]).sort_values(ascending=False)\n",
        "\n",
        "#df = df[df.country != 'Unknown']\n",
        "\n",
        "#METHODE 2\n",
        "#df.drop(df.index[2])"
      ],
      "execution_count": 0,
      "outputs": []
    },
    {
      "cell_type": "code",
      "metadata": {
        "id": "Vpk7ogg4oHe8",
        "colab_type": "code",
        "colab": {}
      },
      "source": [
        "#df.country.shape"
      ],
      "execution_count": 0,
      "outputs": []
    },
    {
      "cell_type": "code",
      "metadata": {
        "id": "F-2hMqjTt8zH",
        "colab_type": "code",
        "colab": {}
      },
      "source": [
        "#df.country.value_counts()"
      ],
      "execution_count": 0,
      "outputs": []
    },
    {
      "cell_type": "code",
      "metadata": {
        "id": "i4F_X8Ty-3-f",
        "colab_type": "code",
        "colab": {}
      },
      "source": [
        "#df.country.isnull().sum()/len(df.country)*100"
      ],
      "execution_count": 0,
      "outputs": []
    },
    {
      "cell_type": "code",
      "metadata": {
        "id": "vaNpf5cbIYKH",
        "colab_type": "code",
        "colab": {}
      },
      "source": [
        "#df = df.country.fillna(0, inplace = True)"
      ],
      "execution_count": 0,
      "outputs": []
    },
    {
      "cell_type": "code",
      "metadata": {
        "id": "nY8X8fFWJw5B",
        "colab_type": "code",
        "colab": {}
      },
      "source": [
        "#df.country.isnull().sum()/len(df.country)*100"
      ],
      "execution_count": 0,
      "outputs": []
    },
    {
      "cell_type": "markdown",
      "metadata": {
        "id": "BciCgXqsU8FZ",
        "colab_type": "text"
      },
      "source": [
        "Traiter la variable Time"
      ]
    },
    {
      "cell_type": "code",
      "metadata": {
        "id": "x7HcAAab2IZo",
        "colab_type": "code",
        "outputId": "1ecbe130-2611-44b1-cb8d-4e052d488039",
        "colab": {
          "base_uri": "https://localhost:8080/",
          "height": 121
        }
      },
      "source": [
        "df.signup_time.head()\n",
        "\n",
        "#la colonne a un format \"object\" je dois la convertir en format datetime"
      ],
      "execution_count": 246,
      "outputs": [
        {
          "output_type": "execute_result",
          "data": {
            "text/plain": [
              "0    2015-02-24 22:55:49\n",
              "1    2015-06-07 20:39:50\n",
              "2    2015-01-01 18:52:44\n",
              "3    2015-04-28 21:13:25\n",
              "4    2015-07-21 07:09:52\n",
              "Name: signup_time, dtype: object"
            ]
          },
          "metadata": {
            "tags": []
          },
          "execution_count": 246
        }
      ]
    },
    {
      "cell_type": "code",
      "metadata": {
        "id": "f0asx7Ld2IUu",
        "colab_type": "code",
        "colab": {}
      },
      "source": [
        "# convertien format datetime\n",
        "\n",
        "df['signup_time'] = pd.to_datetime(df['signup_time'])"
      ],
      "execution_count": 0,
      "outputs": []
    },
    {
      "cell_type": "code",
      "metadata": {
        "id": "qDUZAi2M2IPP",
        "colab_type": "code",
        "outputId": "2cfdd3f6-639e-46f7-e55e-bfd0c0515125",
        "colab": {
          "base_uri": "https://localhost:8080/",
          "height": 121
        }
      },
      "source": [
        "df.signup_time.head()"
      ],
      "execution_count": 248,
      "outputs": [
        {
          "output_type": "execute_result",
          "data": {
            "text/plain": [
              "0   2015-02-24 22:55:49\n",
              "1   2015-06-07 20:39:50\n",
              "2   2015-01-01 18:52:44\n",
              "3   2015-04-28 21:13:25\n",
              "4   2015-07-21 07:09:52\n",
              "Name: signup_time, dtype: datetime64[ns]"
            ]
          },
          "metadata": {
            "tags": []
          },
          "execution_count": 248
        }
      ]
    },
    {
      "cell_type": "code",
      "metadata": {
        "id": "x7u6UQue3RhT",
        "colab_type": "code",
        "outputId": "ae6486cc-e926-43ae-d4a8-280627a17585",
        "colab": {
          "base_uri": "https://localhost:8080/",
          "height": 35
        }
      },
      "source": [
        "df['purchase_time'].dtypes"
      ],
      "execution_count": 249,
      "outputs": [
        {
          "output_type": "execute_result",
          "data": {
            "text/plain": [
              "dtype('O')"
            ]
          },
          "metadata": {
            "tags": []
          },
          "execution_count": 249
        }
      ]
    },
    {
      "cell_type": "code",
      "metadata": {
        "id": "4LRwzi2l2IG5",
        "colab_type": "code",
        "colab": {}
      },
      "source": [
        "df['purchase_time'] = pd.to_datetime(df['purchase_time'])"
      ],
      "execution_count": 0,
      "outputs": []
    },
    {
      "cell_type": "code",
      "metadata": {
        "id": "lC6sx_3G31DX",
        "colab_type": "code",
        "outputId": "70de89d4-6d04-412c-d59c-98abc78d6c8e",
        "colab": {
          "base_uri": "https://localhost:8080/",
          "height": 121
        }
      },
      "source": [
        "df['purchase_time'].head()"
      ],
      "execution_count": 251,
      "outputs": [
        {
          "output_type": "execute_result",
          "data": {
            "text/plain": [
              "0   2015-04-18 02:47:11\n",
              "1   2015-06-08 01:38:54\n",
              "2   2015-01-01 18:52:45\n",
              "3   2015-05-04 13:54:50\n",
              "4   2015-09-09 18:40:53\n",
              "Name: purchase_time, dtype: datetime64[ns]"
            ]
          },
          "metadata": {
            "tags": []
          },
          "execution_count": 251
        }
      ]
    },
    {
      "cell_type": "markdown",
      "metadata": {
        "id": "HW2wsYsA1SPm",
        "colab_type": "text"
      },
      "source": [
        "Calculer la durée entre le temps de l'inscription et l'heure de l'achat"
      ]
    },
    {
      "cell_type": "code",
      "metadata": {
        "id": "aTCSU9Qwu7Nj",
        "colab_type": "code",
        "colab": {}
      },
      "source": [
        "df[\"duration\"] = df['purchase_time'] - df['signup_time']"
      ],
      "execution_count": 0,
      "outputs": []
    },
    {
      "cell_type": "code",
      "metadata": {
        "colab_type": "code",
        "id": "tMP_MWniwXD7",
        "outputId": "4031add5-0948-41ef-9d10-c2f7e6cb2b32",
        "colab": {
          "base_uri": "https://localhost:8080/",
          "height": 121
        }
      },
      "source": [
        "df[\"duration\"].head()"
      ],
      "execution_count": 253,
      "outputs": [
        {
          "output_type": "execute_result",
          "data": {
            "text/plain": [
              "0   52 days 03:51:22\n",
              "1    0 days 04:59:04\n",
              "2    0 days 00:00:01\n",
              "3    5 days 16:41:25\n",
              "4   50 days 11:31:01\n",
              "Name: duration, dtype: timedelta64[ns]"
            ]
          },
          "metadata": {
            "tags": []
          },
          "execution_count": 253
        }
      ]
    },
    {
      "cell_type": "code",
      "metadata": {
        "colab_type": "code",
        "id": "sO0AD_47wJos",
        "outputId": "ab9082f6-ebe9-4d30-92d4-9f80fd002b1e",
        "colab": {
          "base_uri": "https://localhost:8080/",
          "height": 202
        }
      },
      "source": [
        "df.head()"
      ],
      "execution_count": 254,
      "outputs": [
        {
          "output_type": "execute_result",
          "data": {
            "text/html": [
              "<div>\n",
              "<style scoped>\n",
              "    .dataframe tbody tr th:only-of-type {\n",
              "        vertical-align: middle;\n",
              "    }\n",
              "\n",
              "    .dataframe tbody tr th {\n",
              "        vertical-align: top;\n",
              "    }\n",
              "\n",
              "    .dataframe thead th {\n",
              "        text-align: right;\n",
              "    }\n",
              "</style>\n",
              "<table border=\"1\" class=\"dataframe\">\n",
              "  <thead>\n",
              "    <tr style=\"text-align: right;\">\n",
              "      <th></th>\n",
              "      <th>Unnamed: 0</th>\n",
              "      <th>user_id</th>\n",
              "      <th>signup_time</th>\n",
              "      <th>purchase_time</th>\n",
              "      <th>purchase_value</th>\n",
              "      <th>device_id</th>\n",
              "      <th>source</th>\n",
              "      <th>browser</th>\n",
              "      <th>sex</th>\n",
              "      <th>age</th>\n",
              "      <th>ip_address</th>\n",
              "      <th>class</th>\n",
              "      <th>country</th>\n",
              "      <th>Alerte</th>\n",
              "      <th>duration</th>\n",
              "    </tr>\n",
              "  </thead>\n",
              "  <tbody>\n",
              "    <tr>\n",
              "      <th>0</th>\n",
              "      <td>0</td>\n",
              "      <td>22058</td>\n",
              "      <td>2015-02-24 22:55:49</td>\n",
              "      <td>2015-04-18 02:47:11</td>\n",
              "      <td>34</td>\n",
              "      <td>QVPSPJUOCKZAR</td>\n",
              "      <td>SEO</td>\n",
              "      <td>Chrome</td>\n",
              "      <td>M</td>\n",
              "      <td>39</td>\n",
              "      <td>7.327584e+08</td>\n",
              "      <td>0</td>\n",
              "      <td>Japan</td>\n",
              "      <td>dangerous</td>\n",
              "      <td>52 days 03:51:22</td>\n",
              "    </tr>\n",
              "    <tr>\n",
              "      <th>1</th>\n",
              "      <td>1</td>\n",
              "      <td>333320</td>\n",
              "      <td>2015-06-07 20:39:50</td>\n",
              "      <td>2015-06-08 01:38:54</td>\n",
              "      <td>16</td>\n",
              "      <td>EOGFQPIZPYXFZ</td>\n",
              "      <td>Ads</td>\n",
              "      <td>Chrome</td>\n",
              "      <td>F</td>\n",
              "      <td>53</td>\n",
              "      <td>3.503114e+08</td>\n",
              "      <td>0</td>\n",
              "      <td>United States</td>\n",
              "      <td>dangerous</td>\n",
              "      <td>0 days 04:59:04</td>\n",
              "    </tr>\n",
              "    <tr>\n",
              "      <th>2</th>\n",
              "      <td>2</td>\n",
              "      <td>1359</td>\n",
              "      <td>2015-01-01 18:52:44</td>\n",
              "      <td>2015-01-01 18:52:45</td>\n",
              "      <td>15</td>\n",
              "      <td>YSSKYOSJHPPLJ</td>\n",
              "      <td>SEO</td>\n",
              "      <td>Opera</td>\n",
              "      <td>M</td>\n",
              "      <td>53</td>\n",
              "      <td>2.621474e+09</td>\n",
              "      <td>1</td>\n",
              "      <td>United States</td>\n",
              "      <td>dangerous</td>\n",
              "      <td>0 days 00:00:01</td>\n",
              "    </tr>\n",
              "    <tr>\n",
              "      <th>3</th>\n",
              "      <td>3</td>\n",
              "      <td>150084</td>\n",
              "      <td>2015-04-28 21:13:25</td>\n",
              "      <td>2015-05-04 13:54:50</td>\n",
              "      <td>44</td>\n",
              "      <td>ATGTXKYKUDUQN</td>\n",
              "      <td>SEO</td>\n",
              "      <td>Safari</td>\n",
              "      <td>M</td>\n",
              "      <td>41</td>\n",
              "      <td>3.840542e+09</td>\n",
              "      <td>0</td>\n",
              "      <td>Unknown</td>\n",
              "      <td>dangerous</td>\n",
              "      <td>5 days 16:41:25</td>\n",
              "    </tr>\n",
              "    <tr>\n",
              "      <th>4</th>\n",
              "      <td>4</td>\n",
              "      <td>221365</td>\n",
              "      <td>2015-07-21 07:09:52</td>\n",
              "      <td>2015-09-09 18:40:53</td>\n",
              "      <td>39</td>\n",
              "      <td>NAUITBZFJKHWW</td>\n",
              "      <td>Ads</td>\n",
              "      <td>Safari</td>\n",
              "      <td>M</td>\n",
              "      <td>45</td>\n",
              "      <td>4.155831e+08</td>\n",
              "      <td>0</td>\n",
              "      <td>United States</td>\n",
              "      <td>dangerous</td>\n",
              "      <td>50 days 11:31:01</td>\n",
              "    </tr>\n",
              "  </tbody>\n",
              "</table>\n",
              "</div>"
            ],
            "text/plain": [
              "   Unnamed: 0  user_id  ...     Alerte         duration\n",
              "0           0    22058  ...  dangerous 52 days 03:51:22\n",
              "1           1   333320  ...  dangerous  0 days 04:59:04\n",
              "2           2     1359  ...  dangerous  0 days 00:00:01\n",
              "3           3   150084  ...  dangerous  5 days 16:41:25\n",
              "4           4   221365  ...  dangerous 50 days 11:31:01\n",
              "\n",
              "[5 rows x 15 columns]"
            ]
          },
          "metadata": {
            "tags": []
          },
          "execution_count": 254
        }
      ]
    },
    {
      "cell_type": "markdown",
      "metadata": {
        "id": "Jr4_qoK8UO2A",
        "colab_type": "text"
      },
      "source": [
        "Transformer duration en secondes pour avoir la meme norme et pour pouvoir l'entrainer dans un modele"
      ]
    },
    {
      "cell_type": "code",
      "metadata": {
        "id": "1J7xu5M5UNBB",
        "colab_type": "code",
        "colab": {}
      },
      "source": [
        "\n",
        "df[\"duration_second\"] = df[\"duration\"].apply(lambda x: x.total_seconds())"
      ],
      "execution_count": 0,
      "outputs": []
    },
    {
      "cell_type": "code",
      "metadata": {
        "id": "io5UZOpseCQ4",
        "colab_type": "code",
        "outputId": "e56f62d3-24ad-45b7-c416-aba8ac25e095",
        "colab": {
          "base_uri": "https://localhost:8080/",
          "height": 202
        }
      },
      "source": [
        "df.head()"
      ],
      "execution_count": 256,
      "outputs": [
        {
          "output_type": "execute_result",
          "data": {
            "text/html": [
              "<div>\n",
              "<style scoped>\n",
              "    .dataframe tbody tr th:only-of-type {\n",
              "        vertical-align: middle;\n",
              "    }\n",
              "\n",
              "    .dataframe tbody tr th {\n",
              "        vertical-align: top;\n",
              "    }\n",
              "\n",
              "    .dataframe thead th {\n",
              "        text-align: right;\n",
              "    }\n",
              "</style>\n",
              "<table border=\"1\" class=\"dataframe\">\n",
              "  <thead>\n",
              "    <tr style=\"text-align: right;\">\n",
              "      <th></th>\n",
              "      <th>Unnamed: 0</th>\n",
              "      <th>user_id</th>\n",
              "      <th>signup_time</th>\n",
              "      <th>purchase_time</th>\n",
              "      <th>purchase_value</th>\n",
              "      <th>device_id</th>\n",
              "      <th>source</th>\n",
              "      <th>browser</th>\n",
              "      <th>sex</th>\n",
              "      <th>age</th>\n",
              "      <th>ip_address</th>\n",
              "      <th>class</th>\n",
              "      <th>country</th>\n",
              "      <th>Alerte</th>\n",
              "      <th>duration</th>\n",
              "      <th>duration_second</th>\n",
              "    </tr>\n",
              "  </thead>\n",
              "  <tbody>\n",
              "    <tr>\n",
              "      <th>0</th>\n",
              "      <td>0</td>\n",
              "      <td>22058</td>\n",
              "      <td>2015-02-24 22:55:49</td>\n",
              "      <td>2015-04-18 02:47:11</td>\n",
              "      <td>34</td>\n",
              "      <td>QVPSPJUOCKZAR</td>\n",
              "      <td>SEO</td>\n",
              "      <td>Chrome</td>\n",
              "      <td>M</td>\n",
              "      <td>39</td>\n",
              "      <td>7.327584e+08</td>\n",
              "      <td>0</td>\n",
              "      <td>Japan</td>\n",
              "      <td>dangerous</td>\n",
              "      <td>52 days 03:51:22</td>\n",
              "      <td>4506682.0</td>\n",
              "    </tr>\n",
              "    <tr>\n",
              "      <th>1</th>\n",
              "      <td>1</td>\n",
              "      <td>333320</td>\n",
              "      <td>2015-06-07 20:39:50</td>\n",
              "      <td>2015-06-08 01:38:54</td>\n",
              "      <td>16</td>\n",
              "      <td>EOGFQPIZPYXFZ</td>\n",
              "      <td>Ads</td>\n",
              "      <td>Chrome</td>\n",
              "      <td>F</td>\n",
              "      <td>53</td>\n",
              "      <td>3.503114e+08</td>\n",
              "      <td>0</td>\n",
              "      <td>United States</td>\n",
              "      <td>dangerous</td>\n",
              "      <td>0 days 04:59:04</td>\n",
              "      <td>17944.0</td>\n",
              "    </tr>\n",
              "    <tr>\n",
              "      <th>2</th>\n",
              "      <td>2</td>\n",
              "      <td>1359</td>\n",
              "      <td>2015-01-01 18:52:44</td>\n",
              "      <td>2015-01-01 18:52:45</td>\n",
              "      <td>15</td>\n",
              "      <td>YSSKYOSJHPPLJ</td>\n",
              "      <td>SEO</td>\n",
              "      <td>Opera</td>\n",
              "      <td>M</td>\n",
              "      <td>53</td>\n",
              "      <td>2.621474e+09</td>\n",
              "      <td>1</td>\n",
              "      <td>United States</td>\n",
              "      <td>dangerous</td>\n",
              "      <td>0 days 00:00:01</td>\n",
              "      <td>1.0</td>\n",
              "    </tr>\n",
              "    <tr>\n",
              "      <th>3</th>\n",
              "      <td>3</td>\n",
              "      <td>150084</td>\n",
              "      <td>2015-04-28 21:13:25</td>\n",
              "      <td>2015-05-04 13:54:50</td>\n",
              "      <td>44</td>\n",
              "      <td>ATGTXKYKUDUQN</td>\n",
              "      <td>SEO</td>\n",
              "      <td>Safari</td>\n",
              "      <td>M</td>\n",
              "      <td>41</td>\n",
              "      <td>3.840542e+09</td>\n",
              "      <td>0</td>\n",
              "      <td>Unknown</td>\n",
              "      <td>dangerous</td>\n",
              "      <td>5 days 16:41:25</td>\n",
              "      <td>492085.0</td>\n",
              "    </tr>\n",
              "    <tr>\n",
              "      <th>4</th>\n",
              "      <td>4</td>\n",
              "      <td>221365</td>\n",
              "      <td>2015-07-21 07:09:52</td>\n",
              "      <td>2015-09-09 18:40:53</td>\n",
              "      <td>39</td>\n",
              "      <td>NAUITBZFJKHWW</td>\n",
              "      <td>Ads</td>\n",
              "      <td>Safari</td>\n",
              "      <td>M</td>\n",
              "      <td>45</td>\n",
              "      <td>4.155831e+08</td>\n",
              "      <td>0</td>\n",
              "      <td>United States</td>\n",
              "      <td>dangerous</td>\n",
              "      <td>50 days 11:31:01</td>\n",
              "      <td>4361461.0</td>\n",
              "    </tr>\n",
              "  </tbody>\n",
              "</table>\n",
              "</div>"
            ],
            "text/plain": [
              "   Unnamed: 0  user_id  ...         duration duration_second\n",
              "0           0    22058  ... 52 days 03:51:22       4506682.0\n",
              "1           1   333320  ...  0 days 04:59:04         17944.0\n",
              "2           2     1359  ...  0 days 00:00:01             1.0\n",
              "3           3   150084  ...  5 days 16:41:25        492085.0\n",
              "4           4   221365  ... 50 days 11:31:01       4361461.0\n",
              "\n",
              "[5 rows x 16 columns]"
            ]
          },
          "metadata": {
            "tags": []
          },
          "execution_count": 256
        }
      ]
    },
    {
      "cell_type": "code",
      "metadata": {
        "id": "mCfEHHidmffo",
        "colab_type": "code",
        "colab": {
          "base_uri": "https://localhost:8080/",
          "height": 383
        },
        "outputId": "606483db-a2c5-4ce5-e855-7ce7c5ece2a9"
      },
      "source": [
        "sns.set(style=\"whitegrid\")\n",
        "sns.lmplot(x='duration_second', y='class', logistic=True, data=df)\n",
        "\n",
        "\n",
        "# plus la durée entre l'inscription et l'achat est courte, plus il y a des possibilités de fraude (35%)"
      ],
      "execution_count": 257,
      "outputs": [
        {
          "output_type": "execute_result",
          "data": {
            "text/plain": [
              "<seaborn.axisgrid.FacetGrid at 0x7f09086f6c50>"
            ]
          },
          "metadata": {
            "tags": []
          },
          "execution_count": 257
        },
        {
          "output_type": "display_data",
          "data": {
            "image/png": "[encoded data removed]",
            "text/plain": [
              "<Figure size 360x360 with 1 Axes>"
            ]
          },
          "metadata": {
            "tags": []
          }
        }
      ]
    },
    {
      "cell_type": "markdown",
      "metadata": {
        "id": "v9cdGceT1il5",
        "colab_type": "text"
      },
      "source": [
        "Séparer les horaires selon les périodes de la journées"
      ]
    },
    {
      "cell_type": "code",
      "metadata": {
        "id": "PMGcg2iz-K-N",
        "colab_type": "code",
        "colab": {}
      },
      "source": [
        "df['period'] = pd.cut(df.purchase_time.dt.hour,\n",
        "              [0,6,12,18,24],\n",
        "              labels=['Night','Morning','Afternoon','Evening'],\n",
        "              include_lowest=True)"
      ],
      "execution_count": 0,
      "outputs": []
    },
    {
      "cell_type": "code",
      "metadata": {
        "id": "4LF5MYso-bNK",
        "colab_type": "code",
        "outputId": "3911da09-bd2c-4f0f-adae-fe12705d92a9",
        "colab": {
          "base_uri": "https://localhost:8080/",
          "height": 306
        }
      },
      "source": [
        "df.head()"
      ],
      "execution_count": 259,
      "outputs": [
        {
          "output_type": "execute_result",
          "data": {
            "text/html": [
              "<div>\n",
              "<style scoped>\n",
              "    .dataframe tbody tr th:only-of-type {\n",
              "        vertical-align: middle;\n",
              "    }\n",
              "\n",
              "    .dataframe tbody tr th {\n",
              "        vertical-align: top;\n",
              "    }\n",
              "\n",
              "    .dataframe thead th {\n",
              "        text-align: right;\n",
              "    }\n",
              "</style>\n",
              "<table border=\"1\" class=\"dataframe\">\n",
              "  <thead>\n",
              "    <tr style=\"text-align: right;\">\n",
              "      <th></th>\n",
              "      <th>Unnamed: 0</th>\n",
              "      <th>user_id</th>\n",
              "      <th>signup_time</th>\n",
              "      <th>purchase_time</th>\n",
              "      <th>purchase_value</th>\n",
              "      <th>device_id</th>\n",
              "      <th>source</th>\n",
              "      <th>browser</th>\n",
              "      <th>sex</th>\n",
              "      <th>age</th>\n",
              "      <th>ip_address</th>\n",
              "      <th>class</th>\n",
              "      <th>country</th>\n",
              "      <th>Alerte</th>\n",
              "      <th>duration</th>\n",
              "      <th>duration_second</th>\n",
              "      <th>period</th>\n",
              "    </tr>\n",
              "  </thead>\n",
              "  <tbody>\n",
              "    <tr>\n",
              "      <th>0</th>\n",
              "      <td>0</td>\n",
              "      <td>22058</td>\n",
              "      <td>2015-02-24 22:55:49</td>\n",
              "      <td>2015-04-18 02:47:11</td>\n",
              "      <td>34</td>\n",
              "      <td>QVPSPJUOCKZAR</td>\n",
              "      <td>SEO</td>\n",
              "      <td>Chrome</td>\n",
              "      <td>M</td>\n",
              "      <td>39</td>\n",
              "      <td>7.327584e+08</td>\n",
              "      <td>0</td>\n",
              "      <td>Japan</td>\n",
              "      <td>dangerous</td>\n",
              "      <td>52 days 03:51:22</td>\n",
              "      <td>4506682.0</td>\n",
              "      <td>Night</td>\n",
              "    </tr>\n",
              "    <tr>\n",
              "      <th>1</th>\n",
              "      <td>1</td>\n",
              "      <td>333320</td>\n",
              "      <td>2015-06-07 20:39:50</td>\n",
              "      <td>2015-06-08 01:38:54</td>\n",
              "      <td>16</td>\n",
              "      <td>EOGFQPIZPYXFZ</td>\n",
              "      <td>Ads</td>\n",
              "      <td>Chrome</td>\n",
              "      <td>F</td>\n",
              "      <td>53</td>\n",
              "      <td>3.503114e+08</td>\n",
              "      <td>0</td>\n",
              "      <td>United States</td>\n",
              "      <td>dangerous</td>\n",
              "      <td>0 days 04:59:04</td>\n",
              "      <td>17944.0</td>\n",
              "      <td>Night</td>\n",
              "    </tr>\n",
              "    <tr>\n",
              "      <th>2</th>\n",
              "      <td>2</td>\n",
              "      <td>1359</td>\n",
              "      <td>2015-01-01 18:52:44</td>\n",
              "      <td>2015-01-01 18:52:45</td>\n",
              "      <td>15</td>\n",
              "      <td>YSSKYOSJHPPLJ</td>\n",
              "      <td>SEO</td>\n",
              "      <td>Opera</td>\n",
              "      <td>M</td>\n",
              "      <td>53</td>\n",
              "      <td>2.621474e+09</td>\n",
              "      <td>1</td>\n",
              "      <td>United States</td>\n",
              "      <td>dangerous</td>\n",
              "      <td>0 days 00:00:01</td>\n",
              "      <td>1.0</td>\n",
              "      <td>Afternoon</td>\n",
              "    </tr>\n",
              "    <tr>\n",
              "      <th>3</th>\n",
              "      <td>3</td>\n",
              "      <td>150084</td>\n",
              "      <td>2015-04-28 21:13:25</td>\n",
              "      <td>2015-05-04 13:54:50</td>\n",
              "      <td>44</td>\n",
              "      <td>ATGTXKYKUDUQN</td>\n",
              "      <td>SEO</td>\n",
              "      <td>Safari</td>\n",
              "      <td>M</td>\n",
              "      <td>41</td>\n",
              "      <td>3.840542e+09</td>\n",
              "      <td>0</td>\n",
              "      <td>Unknown</td>\n",
              "      <td>dangerous</td>\n",
              "      <td>5 days 16:41:25</td>\n",
              "      <td>492085.0</td>\n",
              "      <td>Afternoon</td>\n",
              "    </tr>\n",
              "    <tr>\n",
              "      <th>4</th>\n",
              "      <td>4</td>\n",
              "      <td>221365</td>\n",
              "      <td>2015-07-21 07:09:52</td>\n",
              "      <td>2015-09-09 18:40:53</td>\n",
              "      <td>39</td>\n",
              "      <td>NAUITBZFJKHWW</td>\n",
              "      <td>Ads</td>\n",
              "      <td>Safari</td>\n",
              "      <td>M</td>\n",
              "      <td>45</td>\n",
              "      <td>4.155831e+08</td>\n",
              "      <td>0</td>\n",
              "      <td>United States</td>\n",
              "      <td>dangerous</td>\n",
              "      <td>50 days 11:31:01</td>\n",
              "      <td>4361461.0</td>\n",
              "      <td>Afternoon</td>\n",
              "    </tr>\n",
              "  </tbody>\n",
              "</table>\n",
              "</div>"
            ],
            "text/plain": [
              "   Unnamed: 0  user_id  ... duration_second     period\n",
              "0           0    22058  ...       4506682.0      Night\n",
              "1           1   333320  ...         17944.0      Night\n",
              "2           2     1359  ...             1.0  Afternoon\n",
              "3           3   150084  ...        492085.0  Afternoon\n",
              "4           4   221365  ...       4361461.0  Afternoon\n",
              "\n",
              "[5 rows x 17 columns]"
            ]
          },
          "metadata": {
            "tags": []
          },
          "execution_count": 259
        }
      ]
    },
    {
      "cell_type": "markdown",
      "metadata": {
        "id": "mcuOeRB11veM",
        "colab_type": "text"
      },
      "source": [
        "Calculer la durée entre le temps de l'inscription et le temps de l'achat, en jours, en heures, en minutes et en secondes"
      ]
    },
    {
      "cell_type": "code",
      "metadata": {
        "id": "bU_vEFAU079s",
        "colab_type": "code",
        "colab": {}
      },
      "source": [
        "df['diff_jours'] = df['duration'].apply(lambda x : x.days)\n",
        "df['diff_heures'] = df['duration'].apply(lambda x : x.components.hours)\n",
        "df['diff_minutes'] = df['duration'].apply(lambda x : x.components.minutes)\n",
        "df['diff_secondes'] = df['duration'].apply(lambda x : x.components.seconds)"
      ],
      "execution_count": 0,
      "outputs": []
    },
    {
      "cell_type": "code",
      "metadata": {
        "id": "F_aseJ3h2C2y",
        "colab_type": "code",
        "outputId": "0a2d5e3a-9e5d-4bf1-addb-5f13ea594d2c",
        "colab": {
          "base_uri": "https://localhost:8080/",
          "height": 326
        }
      },
      "source": [
        "df.head()"
      ],
      "execution_count": 261,
      "outputs": [
        {
          "output_type": "execute_result",
          "data": {
            "text/html": [
              "<div>\n",
              "<style scoped>\n",
              "    .dataframe tbody tr th:only-of-type {\n",
              "        vertical-align: middle;\n",
              "    }\n",
              "\n",
              "    .dataframe tbody tr th {\n",
              "        vertical-align: top;\n",
              "    }\n",
              "\n",
              "    .dataframe thead th {\n",
              "        text-align: right;\n",
              "    }\n",
              "</style>\n",
              "<table border=\"1\" class=\"dataframe\">\n",
              "  <thead>\n",
              "    <tr style=\"text-align: right;\">\n",
              "      <th></th>\n",
              "      <th>Unnamed: 0</th>\n",
              "      <th>user_id</th>\n",
              "      <th>signup_time</th>\n",
              "      <th>purchase_time</th>\n",
              "      <th>purchase_value</th>\n",
              "      <th>device_id</th>\n",
              "      <th>source</th>\n",
              "      <th>browser</th>\n",
              "      <th>sex</th>\n",
              "      <th>age</th>\n",
              "      <th>ip_address</th>\n",
              "      <th>class</th>\n",
              "      <th>country</th>\n",
              "      <th>Alerte</th>\n",
              "      <th>duration</th>\n",
              "      <th>duration_second</th>\n",
              "      <th>period</th>\n",
              "      <th>diff_jours</th>\n",
              "      <th>diff_heures</th>\n",
              "      <th>diff_minutes</th>\n",
              "      <th>diff_secondes</th>\n",
              "    </tr>\n",
              "  </thead>\n",
              "  <tbody>\n",
              "    <tr>\n",
              "      <th>0</th>\n",
              "      <td>0</td>\n",
              "      <td>22058</td>\n",
              "      <td>2015-02-24 22:55:49</td>\n",
              "      <td>2015-04-18 02:47:11</td>\n",
              "      <td>34</td>\n",
              "      <td>QVPSPJUOCKZAR</td>\n",
              "      <td>SEO</td>\n",
              "      <td>Chrome</td>\n",
              "      <td>M</td>\n",
              "      <td>39</td>\n",
              "      <td>7.327584e+08</td>\n",
              "      <td>0</td>\n",
              "      <td>Japan</td>\n",
              "      <td>dangerous</td>\n",
              "      <td>52 days 03:51:22</td>\n",
              "      <td>4506682.0</td>\n",
              "      <td>Night</td>\n",
              "      <td>52</td>\n",
              "      <td>3</td>\n",
              "      <td>51</td>\n",
              "      <td>22</td>\n",
              "    </tr>\n",
              "    <tr>\n",
              "      <th>1</th>\n",
              "      <td>1</td>\n",
              "      <td>333320</td>\n",
              "      <td>2015-06-07 20:39:50</td>\n",
              "      <td>2015-06-08 01:38:54</td>\n",
              "      <td>16</td>\n",
              "      <td>EOGFQPIZPYXFZ</td>\n",
              "      <td>Ads</td>\n",
              "      <td>Chrome</td>\n",
              "      <td>F</td>\n",
              "      <td>53</td>\n",
              "      <td>3.503114e+08</td>\n",
              "      <td>0</td>\n",
              "      <td>United States</td>\n",
              "      <td>dangerous</td>\n",
              "      <td>0 days 04:59:04</td>\n",
              "      <td>17944.0</td>\n",
              "      <td>Night</td>\n",
              "      <td>0</td>\n",
              "      <td>4</td>\n",
              "      <td>59</td>\n",
              "      <td>4</td>\n",
              "    </tr>\n",
              "    <tr>\n",
              "      <th>2</th>\n",
              "      <td>2</td>\n",
              "      <td>1359</td>\n",
              "      <td>2015-01-01 18:52:44</td>\n",
              "      <td>2015-01-01 18:52:45</td>\n",
              "      <td>15</td>\n",
              "      <td>YSSKYOSJHPPLJ</td>\n",
              "      <td>SEO</td>\n",
              "      <td>Opera</td>\n",
              "      <td>M</td>\n",
              "      <td>53</td>\n",
              "      <td>2.621474e+09</td>\n",
              "      <td>1</td>\n",
              "      <td>United States</td>\n",
              "      <td>dangerous</td>\n",
              "      <td>0 days 00:00:01</td>\n",
              "      <td>1.0</td>\n",
              "      <td>Afternoon</td>\n",
              "      <td>0</td>\n",
              "      <td>0</td>\n",
              "      <td>0</td>\n",
              "      <td>1</td>\n",
              "    </tr>\n",
              "    <tr>\n",
              "      <th>3</th>\n",
              "      <td>3</td>\n",
              "      <td>150084</td>\n",
              "      <td>2015-04-28 21:13:25</td>\n",
              "      <td>2015-05-04 13:54:50</td>\n",
              "      <td>44</td>\n",
              "      <td>ATGTXKYKUDUQN</td>\n",
              "      <td>SEO</td>\n",
              "      <td>Safari</td>\n",
              "      <td>M</td>\n",
              "      <td>41</td>\n",
              "      <td>3.840542e+09</td>\n",
              "      <td>0</td>\n",
              "      <td>Unknown</td>\n",
              "      <td>dangerous</td>\n",
              "      <td>5 days 16:41:25</td>\n",
              "      <td>492085.0</td>\n",
              "      <td>Afternoon</td>\n",
              "      <td>5</td>\n",
              "      <td>16</td>\n",
              "      <td>41</td>\n",
              "      <td>25</td>\n",
              "    </tr>\n",
              "    <tr>\n",
              "      <th>4</th>\n",
              "      <td>4</td>\n",
              "      <td>221365</td>\n",
              "      <td>2015-07-21 07:09:52</td>\n",
              "      <td>2015-09-09 18:40:53</td>\n",
              "      <td>39</td>\n",
              "      <td>NAUITBZFJKHWW</td>\n",
              "      <td>Ads</td>\n",
              "      <td>Safari</td>\n",
              "      <td>M</td>\n",
              "      <td>45</td>\n",
              "      <td>4.155831e+08</td>\n",
              "      <td>0</td>\n",
              "      <td>United States</td>\n",
              "      <td>dangerous</td>\n",
              "      <td>50 days 11:31:01</td>\n",
              "      <td>4361461.0</td>\n",
              "      <td>Afternoon</td>\n",
              "      <td>50</td>\n",
              "      <td>11</td>\n",
              "      <td>31</td>\n",
              "      <td>1</td>\n",
              "    </tr>\n",
              "  </tbody>\n",
              "</table>\n",
              "</div>"
            ],
            "text/plain": [
              "   Unnamed: 0  user_id  ... diff_minutes diff_secondes\n",
              "0           0    22058  ...           51            22\n",
              "1           1   333320  ...           59             4\n",
              "2           2     1359  ...            0             1\n",
              "3           3   150084  ...           41            25\n",
              "4           4   221365  ...           31             1\n",
              "\n",
              "[5 rows x 21 columns]"
            ]
          },
          "metadata": {
            "tags": []
          },
          "execution_count": 261
        }
      ]
    },
    {
      "cell_type": "markdown",
      "metadata": {
        "id": "tBt0nV4Tf2vz",
        "colab_type": "text"
      },
      "source": [
        "Nettoyer mon DataFrame et garder que les variables utiles"
      ]
    },
    {
      "cell_type": "code",
      "metadata": {
        "id": "FBJY4J0JstjL",
        "colab_type": "code",
        "colab": {}
      },
      "source": [
        "\n",
        "df['country'] = df['country'].str.replace('Unknown', 'nan')        "
      ],
      "execution_count": 0,
      "outputs": []
    },
    {
      "cell_type": "code",
      "metadata": {
        "id": "U6ghbZz3BtnS",
        "colab_type": "code",
        "outputId": "54aed87d-9804-4a98-deae-122398c0bcb6",
        "colab": {
          "base_uri": "https://localhost:8080/",
          "height": 1000
        }
      },
      "source": [
        "df['country'].value_counts()"
      ],
      "execution_count": 263,
      "outputs": [
        {
          "output_type": "execute_result",
          "data": {
            "text/plain": [
              "United States                      58049\n",
              "nan                                21966\n",
              "China                              12038\n",
              "Japan                               7306\n",
              "United Kingdom                      4490\n",
              "Korea Republic of                   4162\n",
              "Germany                             3646\n",
              "France                              3161\n",
              "Canada                              2975\n",
              "Brazil                              2961\n",
              "Italy                               1944\n",
              "Australia                           1844\n",
              "Netherlands                         1680\n",
              "Russian Federation                  1616\n",
              "India                               1310\n",
              "Taiwan; Republic of China (ROC)     1237\n",
              "Mexico                              1121\n",
              "Sweden                              1090\n",
              "Spain                               1027\n",
              "South Africa                         838\n",
              "Switzerland                          785\n",
              "Poland                               729\n",
              "Argentina                            661\n",
              "Indonesia                            649\n",
              "Norway                               609\n",
              "Colombia                             602\n",
              "Turkey                               568\n",
              "Viet Nam                             550\n",
              "Romania                              525\n",
              "Denmark                              490\n",
              "                                   ...  \n",
              "Curacao                                3\n",
              "Monaco                                 3\n",
              "Lesotho                                2\n",
              "Saint Kitts and Nevis                  2\n",
              "Bhutan                                 2\n",
              "Benin                                  2\n",
              "Maldives                               2\n",
              "Fiji                                   2\n",
              "Gibraltar                              2\n",
              "Liechtenstein                          2\n",
              "Bermuda                                2\n",
              "Burkina Faso                           2\n",
              "Nauru                                  1\n",
              "Saint Martin                           1\n",
              "Guadeloupe                             1\n",
              "Yemen                                  1\n",
              "Vanuatu                                1\n",
              "Tajikistan                             1\n",
              "Turkmenistan                           1\n",
              "South Sudan                            1\n",
              "Gambia                                 1\n",
              "Niger                                  1\n",
              "Myanmar                                1\n",
              "British Indian Ocean Territory         1\n",
              "Burundi                                1\n",
              "Madagascar                             1\n",
              "Cape Verde                             1\n",
              "Dominica                               1\n",
              "San Marino                             1\n",
              "Bonaire; Sint Eustatius; Saba          1\n",
              "Name: country, Length: 182, dtype: int64"
            ]
          },
          "metadata": {
            "tags": []
          },
          "execution_count": 263
        }
      ]
    },
    {
      "cell_type": "code",
      "metadata": {
        "id": "EWUP7c6Gf9fj",
        "colab_type": "code",
        "outputId": "ac9b5eee-6841-4ee8-885b-6e5acc175045",
        "colab": {
          "base_uri": "https://localhost:8080/",
          "height": 202
        }
      },
      "source": [
        "df_new = df.drop(['Unnamed: 0', 'user_id', 'signup_time', 'purchase_time',\"device_id\", \"ip_address\", \"duration\"], axis=1)\n",
        "df_new.head()"
      ],
      "execution_count": 264,
      "outputs": [
        {
          "output_type": "execute_result",
          "data": {
            "text/html": [
              "<div>\n",
              "<style scoped>\n",
              "    .dataframe tbody tr th:only-of-type {\n",
              "        vertical-align: middle;\n",
              "    }\n",
              "\n",
              "    .dataframe tbody tr th {\n",
              "        vertical-align: top;\n",
              "    }\n",
              "\n",
              "    .dataframe thead th {\n",
              "        text-align: right;\n",
              "    }\n",
              "</style>\n",
              "<table border=\"1\" class=\"dataframe\">\n",
              "  <thead>\n",
              "    <tr style=\"text-align: right;\">\n",
              "      <th></th>\n",
              "      <th>purchase_value</th>\n",
              "      <th>source</th>\n",
              "      <th>browser</th>\n",
              "      <th>sex</th>\n",
              "      <th>age</th>\n",
              "      <th>class</th>\n",
              "      <th>country</th>\n",
              "      <th>Alerte</th>\n",
              "      <th>duration_second</th>\n",
              "      <th>period</th>\n",
              "      <th>diff_jours</th>\n",
              "      <th>diff_heures</th>\n",
              "      <th>diff_minutes</th>\n",
              "      <th>diff_secondes</th>\n",
              "    </tr>\n",
              "  </thead>\n",
              "  <tbody>\n",
              "    <tr>\n",
              "      <th>0</th>\n",
              "      <td>34</td>\n",
              "      <td>SEO</td>\n",
              "      <td>Chrome</td>\n",
              "      <td>M</td>\n",
              "      <td>39</td>\n",
              "      <td>0</td>\n",
              "      <td>Japan</td>\n",
              "      <td>dangerous</td>\n",
              "      <td>4506682.0</td>\n",
              "      <td>Night</td>\n",
              "      <td>52</td>\n",
              "      <td>3</td>\n",
              "      <td>51</td>\n",
              "      <td>22</td>\n",
              "    </tr>\n",
              "    <tr>\n",
              "      <th>1</th>\n",
              "      <td>16</td>\n",
              "      <td>Ads</td>\n",
              "      <td>Chrome</td>\n",
              "      <td>F</td>\n",
              "      <td>53</td>\n",
              "      <td>0</td>\n",
              "      <td>United States</td>\n",
              "      <td>dangerous</td>\n",
              "      <td>17944.0</td>\n",
              "      <td>Night</td>\n",
              "      <td>0</td>\n",
              "      <td>4</td>\n",
              "      <td>59</td>\n",
              "      <td>4</td>\n",
              "    </tr>\n",
              "    <tr>\n",
              "      <th>2</th>\n",
              "      <td>15</td>\n",
              "      <td>SEO</td>\n",
              "      <td>Opera</td>\n",
              "      <td>M</td>\n",
              "      <td>53</td>\n",
              "      <td>1</td>\n",
              "      <td>United States</td>\n",
              "      <td>dangerous</td>\n",
              "      <td>1.0</td>\n",
              "      <td>Afternoon</td>\n",
              "      <td>0</td>\n",
              "      <td>0</td>\n",
              "      <td>0</td>\n",
              "      <td>1</td>\n",
              "    </tr>\n",
              "    <tr>\n",
              "      <th>3</th>\n",
              "      <td>44</td>\n",
              "      <td>SEO</td>\n",
              "      <td>Safari</td>\n",
              "      <td>M</td>\n",
              "      <td>41</td>\n",
              "      <td>0</td>\n",
              "      <td>nan</td>\n",
              "      <td>dangerous</td>\n",
              "      <td>492085.0</td>\n",
              "      <td>Afternoon</td>\n",
              "      <td>5</td>\n",
              "      <td>16</td>\n",
              "      <td>41</td>\n",
              "      <td>25</td>\n",
              "    </tr>\n",
              "    <tr>\n",
              "      <th>4</th>\n",
              "      <td>39</td>\n",
              "      <td>Ads</td>\n",
              "      <td>Safari</td>\n",
              "      <td>M</td>\n",
              "      <td>45</td>\n",
              "      <td>0</td>\n",
              "      <td>United States</td>\n",
              "      <td>dangerous</td>\n",
              "      <td>4361461.0</td>\n",
              "      <td>Afternoon</td>\n",
              "      <td>50</td>\n",
              "      <td>11</td>\n",
              "      <td>31</td>\n",
              "      <td>1</td>\n",
              "    </tr>\n",
              "  </tbody>\n",
              "</table>\n",
              "</div>"
            ],
            "text/plain": [
              "   purchase_value source browser  ... diff_heures  diff_minutes  diff_secondes\n",
              "0              34    SEO  Chrome  ...           3            51             22\n",
              "1              16    Ads  Chrome  ...           4            59              4\n",
              "2              15    SEO   Opera  ...           0             0              1\n",
              "3              44    SEO  Safari  ...          16            41             25\n",
              "4              39    Ads  Safari  ...          11            31              1\n",
              "\n",
              "[5 rows x 14 columns]"
            ]
          },
          "metadata": {
            "tags": []
          },
          "execution_count": 264
        }
      ]
    },
    {
      "cell_type": "code",
      "metadata": {
        "id": "Q9nlJYQH-lWC",
        "colab_type": "code",
        "outputId": "ac5c638d-c9be-4201-89bf-ecf50232e47c",
        "colab": {
          "base_uri": "https://localhost:8080/",
          "height": 277
        }
      },
      "source": [
        "df_new.isnull().sum()/len(df_new)"
      ],
      "execution_count": 265,
      "outputs": [
        {
          "output_type": "execute_result",
          "data": {
            "text/plain": [
              "purchase_value     0.0\n",
              "source             0.0\n",
              "browser            0.0\n",
              "sex                0.0\n",
              "age                0.0\n",
              "class              0.0\n",
              "country            0.0\n",
              "Alerte             0.0\n",
              "duration_second    0.0\n",
              "period             0.0\n",
              "diff_jours         0.0\n",
              "diff_heures        0.0\n",
              "diff_minutes       0.0\n",
              "diff_secondes      0.0\n",
              "dtype: float64"
            ]
          },
          "metadata": {
            "tags": []
          },
          "execution_count": 265
        }
      ]
    },
    {
      "cell_type": "code",
      "metadata": {
        "id": "694lNYpSEV74",
        "colab_type": "code",
        "colab": {}
      },
      "source": [
        ""
      ],
      "execution_count": 0,
      "outputs": []
    },
    {
      "cell_type": "code",
      "metadata": {
        "id": "ydW4-OnDEWl6",
        "colab_type": "code",
        "outputId": "3a40b633-1de5-4faf-8828-e12c1a17418d",
        "colab": {
          "base_uri": "https://localhost:8080/",
          "height": 309
        }
      },
      "source": [
        "#f, ax = plt.subplots(1,1,figsize=(10,10))\n",
        "sns.pointplot(x='diff_secondes', y ='class', logistic=True, data=df, join=None)"
      ],
      "execution_count": 266,
      "outputs": [
        {
          "output_type": "execute_result",
          "data": {
            "text/plain": [
              "<matplotlib.axes._subplots.AxesSubplot at 0x7f0942ebb320>"
            ]
          },
          "metadata": {
            "tags": []
          },
          "execution_count": 266
        },
        {
          "output_type": "display_data",
          "data": {
            "image/png": "[encoded data removed]",
            "text/plain": [
              "<Figure size 432x288 with 1 Axes>"
            ]
          },
          "metadata": {
            "tags": []
          }
        }
      ]
    },
    {
      "cell_type": "code",
      "metadata": {
        "id": "mqCr6a4fCwSI",
        "colab_type": "code",
        "colab": {
          "base_uri": "https://localhost:8080/",
          "height": 309
        },
        "outputId": "6c316940-0e2b-43a3-8370-9f74a73ec93d"
      },
      "source": [
        "sns.pointplot(x='diff_secondes', y='class', hue=\"sex\",logistic = True, data=df_new)"
      ],
      "execution_count": 268,
      "outputs": [
        {
          "output_type": "execute_result",
          "data": {
            "text/plain": [
              "<matplotlib.axes._subplots.AxesSubplot at 0x7f0907ff3630>"
            ]
          },
          "metadata": {
            "tags": []
          },
          "execution_count": 268
        },
        {
          "output_type": "display_data",
          "data": {
            "image/png": "[encoded data removed]",
            "text/plain": [
              "<Figure size 432x288 with 1 Axes>"
            ]
          },
          "metadata": {
            "tags": []
          }
        }
      ]
    },
    {
      "cell_type": "code",
      "metadata": {
        "id": "i8HFV7yEC3fd",
        "colab_type": "code",
        "colab": {
          "base_uri": "https://localhost:8080/",
          "height": 455
        },
        "outputId": "cbdddbbe-fbf8-4209-edb2-48c7dc1e343f"
      },
      "source": [
        "g = sns.FacetGrid(df_new, row=\"sex\", col=\"class\", margin_titles=True)\n",
        "bins = np.linspace(0, 60, 13)\n",
        "g.map(plt.hist, \"diff_secondes\", color=\"steelblue\", bins=bins)"
      ],
      "execution_count": 270,
      "outputs": [
        {
          "output_type": "execute_result",
          "data": {
            "text/plain": [
              "<seaborn.axisgrid.FacetGrid at 0x7f0907bec7b8>"
            ]
          },
          "metadata": {
            "tags": []
          },
          "execution_count": 270
        },
        {
          "output_type": "display_data",
          "data": {
            "image/png": "[encoded data removed]",
            "text/plain": [
              "<Figure size 432x432 with 4 Axes>"
            ]
          },
          "metadata": {
            "tags": []
          }
        }
      ]
    },
    {
      "cell_type": "markdown",
      "metadata": {
        "id": "wFia5YRp9S3O",
        "colab_type": "text"
      },
      "source": [
        "Les fraudes sont souvent faites tout juste après l'inscrription"
      ]
    },
    {
      "cell_type": "markdown",
      "metadata": {
        "id": "9EbBRHrSzs1I",
        "colab_type": "text"
      },
      "source": [
        "Le DataFrame et très deséquilibré : ( class 0 = 90%  &  class 1 = 10%)\n",
        "\n",
        "---> il faut prendre un échantillant par exemple de 50% 50%"
      ]
    },
    {
      "cell_type": "code",
      "metadata": {
        "id": "Pk2c5ZXZzkNO",
        "colab_type": "code",
        "colab": {}
      },
      "source": [
        "#fraude = pd.DataFrame(df_new[df_new[\"class\"] == 1])\n",
        "#fraude.shape\n",
        "#no_fraude = pd.DataFrame(df_new[df_new[\"class\"] == 0].sample(len(fraude))                  "
      ],
      "execution_count": 0,
      "outputs": []
    },
    {
      "cell_type": "code",
      "metadata": {
        "id": "lXK58HlR1y6M",
        "colab_type": "code",
        "colab": {}
      },
      "source": [
        "#no_fraude = pd.DataFrame(df_new[df_new[\"class\"] == 0].sample(len(fraude)))               \n",
        "#no_fraude.shape                         "
      ],
      "execution_count": 0,
      "outputs": []
    },
    {
      "cell_type": "code",
      "metadata": {
        "id": "LrdLSXtY1yaE",
        "colab_type": "code",
        "colab": {}
      },
      "source": [
        "#dataset = pd.concat([fraude,no_fraude])"
      ],
      "execution_count": 0,
      "outputs": []
    },
    {
      "cell_type": "code",
      "metadata": {
        "id": "Ov1bGBuy46kQ",
        "colab_type": "code",
        "colab": {}
      },
      "source": [
        "# ils se sont bien concatenés \n",
        "\n",
        "#dataset.shape"
      ],
      "execution_count": 0,
      "outputs": []
    },
    {
      "cell_type": "markdown",
      "metadata": {
        "id": "xiEP0DMreHOh",
        "colab_type": "text"
      },
      "source": [
        "Je sépare mes variables quali et quanti\n",
        "\n",
        "    1- Normaliser les variables numériques \n",
        "    2- Dummifier les variables caté*goriques*"
      ]
    },
    {
      "cell_type": "code",
      "metadata": {
        "id": "AvftldSUzKAq",
        "colab_type": "code",
        "colab": {}
      },
      "source": [
        "#dataset.head(3)"
      ],
      "execution_count": 0,
      "outputs": []
    },
    {
      "cell_type": "code",
      "metadata": {
        "id": "qM_6bbsO3Zhd",
        "colab_type": "code",
        "colab": {}
      },
      "source": [
        "#dataset.columns"
      ],
      "execution_count": 0,
      "outputs": []
    },
    {
      "cell_type": "code",
      "metadata": {
        "id": "SNxBtFjKePa4",
        "colab_type": "code",
        "colab": {}
      },
      "source": [
        "#df_num = pd.DataFrame(dataset[['purchase_value', 'age', 'duration']])\n",
        "#df_num.head()"
      ],
      "execution_count": 0,
      "outputs": []
    },
    {
      "cell_type": "code",
      "metadata": {
        "id": "9KRo69wgePns",
        "colab_type": "code",
        "colab": {}
      },
      "source": [
        "#df_cat = pd.DataFrame(dataset[['source', 'browser', 'sex', 'country']])\n",
        "#df_cat.head()"
      ],
      "execution_count": 0,
      "outputs": []
    },
    {
      "cell_type": "markdown",
      "metadata": {
        "id": "CpIW0GHOe3ES",
        "colab_type": "text"
      },
      "source": [
        "Dummifier mes variables quali"
      ]
    },
    {
      "cell_type": "code",
      "metadata": {
        "id": "ci2Y3wvr21rc",
        "colab_type": "code",
        "colab": {}
      },
      "source": [
        "#df_cat_dummy = pd.get_dummies(df_cat, drop_first = True) # il faut ajouter pd.get_dummies(df_cat, drop_first = True, dummy_nan = True) pour prendre de l'info sur les pays Unknown aussi \n",
        "# et ne pas perdre de l'info sur eux\n",
        "#df_cat_dummy.head()"
      ],
      "execution_count": 0,
      "outputs": []
    },
    {
      "cell_type": "markdown",
      "metadata": {
        "id": "_okN13OjssX3",
        "colab_type": "text"
      },
      "source": [
        "2- Construisez un modèle qui permette de prédire si l'activité est frauduleuse ou non. Expliquez aussi vos choix / hypothèses en termes d'optimisation de faux-positifs et faux-négatifs"
      ]
    },
    {
      "cell_type": "markdown",
      "metadata": {
        "id": "b1lMcazP74Q5",
        "colab_type": "text"
      },
      "source": [
        "Séparation des variables X de ma variable cible y"
      ]
    },
    {
      "cell_type": "code",
      "metadata": {
        "id": "ThK7aaX5v4E4",
        "colab_type": "code",
        "colab": {}
      },
      "source": [
        "#X = dataset.drop([\"class\"], axis=1)\n",
        "#y = dataset[\"class\"]"
      ],
      "execution_count": 0,
      "outputs": []
    },
    {
      "cell_type": "code",
      "metadata": {
        "id": "lW4_M-0KxllN",
        "colab_type": "code",
        "colab": {}
      },
      "source": [
        "#from sklearn.model_selection import train_test_split\n",
        "#X_train_num, X_test_num, X_train_cat, X_test_cat, y_train, y_test = train_test_split(df_num, df_cat_dummy, y, test_size=0.3, stratify = y)"
      ],
      "execution_count": 0,
      "outputs": []
    },
    {
      "cell_type": "markdown",
      "metadata": {
        "id": "aPHBEUW97HJy",
        "colab_type": "text"
      },
      "source": [
        "Normalisation des variables quanti\n"
      ]
    },
    {
      "cell_type": "code",
      "metadata": {
        "id": "z8_miidi7KEg",
        "colab_type": "code",
        "colab": {}
      },
      "source": [
        "#from sklearn.preprocessing import StandardScaler\n",
        "#sc_x = StandardScaler()\n",
        "#X_train_num = pd.DataFrame(sc_x.fit_transform(X_train_num), columns = df_num.columns, index = X_train_num.index)\n",
        "#X_test_num = pd.DataFrame(sc_x.transform(X_test_num), columns = df_num.columns, index = X_test_num.index)"
      ],
      "execution_count": 0,
      "outputs": []
    },
    {
      "cell_type": "code",
      "metadata": {
        "id": "stCzxavhDqOX",
        "colab_type": "code",
        "colab": {}
      },
      "source": [
        "#X_train_num.head()"
      ],
      "execution_count": 0,
      "outputs": []
    },
    {
      "cell_type": "markdown",
      "metadata": {
        "id": "iooK7uekAKjZ",
        "colab_type": "text"
      },
      "source": [
        "Regrouper les variables quali et quanti"
      ]
    },
    {
      "cell_type": "code",
      "metadata": {
        "id": "Ffpisb0c-_eY",
        "colab_type": "code",
        "colab": {}
      },
      "source": [
        "#X_train = pd.merge(X_train_num, X_train_cat, left_index=True, right_index=True)\n",
        "#X_test = pd.merge(X_test_num, X_test_cat, left_index=True, right_index=True)"
      ],
      "execution_count": 0,
      "outputs": []
    },
    {
      "cell_type": "code",
      "metadata": {
        "id": "_R2FBWhsi2pn",
        "colab_type": "code",
        "colab": {}
      },
      "source": [
        "# il faut essayer de faire un sample pour X_train, y_train afin pour entrainer 10% 90% comme le dataset initial"
      ],
      "execution_count": 0,
      "outputs": []
    },
    {
      "cell_type": "code",
      "metadata": {
        "id": "GpCcEIkrdBVw",
        "colab_type": "code",
        "colab": {}
      },
      "source": [
        "df_new = pd.get_dummies(df_new, drop_first=True, dummy_na=True)"
      ],
      "execution_count": 0,
      "outputs": []
    },
    {
      "cell_type": "code",
      "metadata": {
        "id": "h-024JAhdIkK",
        "colab_type": "code",
        "colab": {
          "base_uri": "https://localhost:8080/",
          "height": 286
        },
        "outputId": "1e0ba108-fa97-4ed3-cdf1-c42fa30f7c06"
      },
      "source": [
        "df_new.head()"
      ],
      "execution_count": 287,
      "outputs": [
        {
          "output_type": "execute_result",
          "data": {
            "text/html": [
              "<div>\n",
              "<style scoped>\n",
              "    .dataframe tbody tr th:only-of-type {\n",
              "        vertical-align: middle;\n",
              "    }\n",
              "\n",
              "    .dataframe tbody tr th {\n",
              "        vertical-align: top;\n",
              "    }\n",
              "\n",
              "    .dataframe thead th {\n",
              "        text-align: right;\n",
              "    }\n",
              "</style>\n",
              "<table border=\"1\" class=\"dataframe\">\n",
              "  <thead>\n",
              "    <tr style=\"text-align: right;\">\n",
              "      <th></th>\n",
              "      <th>purchase_value</th>\n",
              "      <th>age</th>\n",
              "      <th>class</th>\n",
              "      <th>duration_second</th>\n",
              "      <th>diff_jours</th>\n",
              "      <th>diff_heures</th>\n",
              "      <th>diff_minutes</th>\n",
              "      <th>diff_secondes</th>\n",
              "      <th>source_Direct</th>\n",
              "      <th>source_SEO</th>\n",
              "      <th>source_nan</th>\n",
              "      <th>browser_FireFox</th>\n",
              "      <th>browser_IE</th>\n",
              "      <th>browser_Opera</th>\n",
              "      <th>browser_Safari</th>\n",
              "      <th>browser_nan</th>\n",
              "      <th>sex_M</th>\n",
              "      <th>sex_nan</th>\n",
              "      <th>country_Albania</th>\n",
              "      <th>country_Algeria</th>\n",
              "      <th>country_Angola</th>\n",
              "      <th>country_Antigua and Barbuda</th>\n",
              "      <th>country_Argentina</th>\n",
              "      <th>country_Armenia</th>\n",
              "      <th>country_Australia</th>\n",
              "      <th>country_Austria</th>\n",
              "      <th>country_Azerbaijan</th>\n",
              "      <th>country_Bahamas</th>\n",
              "      <th>country_Bahrain</th>\n",
              "      <th>country_Bangladesh</th>\n",
              "      <th>country_Barbados</th>\n",
              "      <th>country_Belarus</th>\n",
              "      <th>country_Belgium</th>\n",
              "      <th>country_Belize</th>\n",
              "      <th>country_Benin</th>\n",
              "      <th>country_Bermuda</th>\n",
              "      <th>country_Bhutan</th>\n",
              "      <th>country_Bolivia</th>\n",
              "      <th>country_Bonaire; Sint Eustatius; Saba</th>\n",
              "      <th>country_Bosnia and Herzegowina</th>\n",
              "      <th>...</th>\n",
              "      <th>country_Slovenia</th>\n",
              "      <th>country_South Africa</th>\n",
              "      <th>country_South Sudan</th>\n",
              "      <th>country_Spain</th>\n",
              "      <th>country_Sri Lanka</th>\n",
              "      <th>country_Sudan</th>\n",
              "      <th>country_Sweden</th>\n",
              "      <th>country_Switzerland</th>\n",
              "      <th>country_Syrian Arab Republic</th>\n",
              "      <th>country_Taiwan; Republic of China (ROC)</th>\n",
              "      <th>country_Tajikistan</th>\n",
              "      <th>country_Tanzania United Republic of</th>\n",
              "      <th>country_Thailand</th>\n",
              "      <th>country_Trinidad and Tobago</th>\n",
              "      <th>country_Tunisia</th>\n",
              "      <th>country_Turkey</th>\n",
              "      <th>country_Turkmenistan</th>\n",
              "      <th>country_Uganda</th>\n",
              "      <th>country_Ukraine</th>\n",
              "      <th>country_United Arab Emirates</th>\n",
              "      <th>country_United Kingdom</th>\n",
              "      <th>country_United States</th>\n",
              "      <th>country_Uruguay</th>\n",
              "      <th>country_Uzbekistan</th>\n",
              "      <th>country_Vanuatu</th>\n",
              "      <th>country_Venezuela</th>\n",
              "      <th>country_Viet Nam</th>\n",
              "      <th>country_Virgin Islands (U.S.)</th>\n",
              "      <th>country_Yemen</th>\n",
              "      <th>country_Zambia</th>\n",
              "      <th>country_Zimbabwe</th>\n",
              "      <th>country_nan</th>\n",
              "      <th>country_nan</th>\n",
              "      <th>Alerte_not_sure</th>\n",
              "      <th>Alerte_safe</th>\n",
              "      <th>Alerte_nan</th>\n",
              "      <th>period_Morning</th>\n",
              "      <th>period_Afternoon</th>\n",
              "      <th>period_Evening</th>\n",
              "      <th>period_nan</th>\n",
              "    </tr>\n",
              "  </thead>\n",
              "  <tbody>\n",
              "    <tr>\n",
              "      <th>0</th>\n",
              "      <td>34</td>\n",
              "      <td>39</td>\n",
              "      <td>0</td>\n",
              "      <td>4506682.0</td>\n",
              "      <td>52</td>\n",
              "      <td>3</td>\n",
              "      <td>51</td>\n",
              "      <td>22</td>\n",
              "      <td>0</td>\n",
              "      <td>1</td>\n",
              "      <td>0</td>\n",
              "      <td>0</td>\n",
              "      <td>0</td>\n",
              "      <td>0</td>\n",
              "      <td>0</td>\n",
              "      <td>0</td>\n",
              "      <td>1</td>\n",
              "      <td>0</td>\n",
              "      <td>0</td>\n",
              "      <td>0</td>\n",
              "      <td>0</td>\n",
              "      <td>0</td>\n",
              "      <td>0</td>\n",
              "      <td>0</td>\n",
              "      <td>0</td>\n",
              "      <td>0</td>\n",
              "      <td>0</td>\n",
              "      <td>0</td>\n",
              "      <td>0</td>\n",
              "      <td>0</td>\n",
              "      <td>0</td>\n",
              "      <td>0</td>\n",
              "      <td>0</td>\n",
              "      <td>0</td>\n",
              "      <td>0</td>\n",
              "      <td>0</td>\n",
              "      <td>0</td>\n",
              "      <td>0</td>\n",
              "      <td>0</td>\n",
              "      <td>0</td>\n",
              "      <td>...</td>\n",
              "      <td>0</td>\n",
              "      <td>0</td>\n",
              "      <td>0</td>\n",
              "      <td>0</td>\n",
              "      <td>0</td>\n",
              "      <td>0</td>\n",
              "      <td>0</td>\n",
              "      <td>0</td>\n",
              "      <td>0</td>\n",
              "      <td>0</td>\n",
              "      <td>0</td>\n",
              "      <td>0</td>\n",
              "      <td>0</td>\n",
              "      <td>0</td>\n",
              "      <td>0</td>\n",
              "      <td>0</td>\n",
              "      <td>0</td>\n",
              "      <td>0</td>\n",
              "      <td>0</td>\n",
              "      <td>0</td>\n",
              "      <td>0</td>\n",
              "      <td>0</td>\n",
              "      <td>0</td>\n",
              "      <td>0</td>\n",
              "      <td>0</td>\n",
              "      <td>0</td>\n",
              "      <td>0</td>\n",
              "      <td>0</td>\n",
              "      <td>0</td>\n",
              "      <td>0</td>\n",
              "      <td>0</td>\n",
              "      <td>0</td>\n",
              "      <td>0</td>\n",
              "      <td>0</td>\n",
              "      <td>0</td>\n",
              "      <td>0</td>\n",
              "      <td>0</td>\n",
              "      <td>0</td>\n",
              "      <td>0</td>\n",
              "      <td>0</td>\n",
              "    </tr>\n",
              "    <tr>\n",
              "      <th>1</th>\n",
              "      <td>16</td>\n",
              "      <td>53</td>\n",
              "      <td>0</td>\n",
              "      <td>17944.0</td>\n",
              "      <td>0</td>\n",
              "      <td>4</td>\n",
              "      <td>59</td>\n",
              "      <td>4</td>\n",
              "      <td>0</td>\n",
              "      <td>0</td>\n",
              "      <td>0</td>\n",
              "      <td>0</td>\n",
              "      <td>0</td>\n",
              "      <td>0</td>\n",
              "      <td>0</td>\n",
              "      <td>0</td>\n",
              "      <td>0</td>\n",
              "      <td>0</td>\n",
              "      <td>0</td>\n",
              "      <td>0</td>\n",
              "      <td>0</td>\n",
              "      <td>0</td>\n",
              "      <td>0</td>\n",
              "      <td>0</td>\n",
              "      <td>0</td>\n",
              "      <td>0</td>\n",
              "      <td>0</td>\n",
              "      <td>0</td>\n",
              "      <td>0</td>\n",
              "      <td>0</td>\n",
              "      <td>0</td>\n",
              "      <td>0</td>\n",
              "      <td>0</td>\n",
              "      <td>0</td>\n",
              "      <td>0</td>\n",
              "      <td>0</td>\n",
              "      <td>0</td>\n",
              "      <td>0</td>\n",
              "      <td>0</td>\n",
              "      <td>0</td>\n",
              "      <td>...</td>\n",
              "      <td>0</td>\n",
              "      <td>0</td>\n",
              "      <td>0</td>\n",
              "      <td>0</td>\n",
              "      <td>0</td>\n",
              "      <td>0</td>\n",
              "      <td>0</td>\n",
              "      <td>0</td>\n",
              "      <td>0</td>\n",
              "      <td>0</td>\n",
              "      <td>0</td>\n",
              "      <td>0</td>\n",
              "      <td>0</td>\n",
              "      <td>0</td>\n",
              "      <td>0</td>\n",
              "      <td>0</td>\n",
              "      <td>0</td>\n",
              "      <td>0</td>\n",
              "      <td>0</td>\n",
              "      <td>0</td>\n",
              "      <td>0</td>\n",
              "      <td>1</td>\n",
              "      <td>0</td>\n",
              "      <td>0</td>\n",
              "      <td>0</td>\n",
              "      <td>0</td>\n",
              "      <td>0</td>\n",
              "      <td>0</td>\n",
              "      <td>0</td>\n",
              "      <td>0</td>\n",
              "      <td>0</td>\n",
              "      <td>0</td>\n",
              "      <td>0</td>\n",
              "      <td>0</td>\n",
              "      <td>0</td>\n",
              "      <td>0</td>\n",
              "      <td>0</td>\n",
              "      <td>0</td>\n",
              "      <td>0</td>\n",
              "      <td>0</td>\n",
              "    </tr>\n",
              "    <tr>\n",
              "      <th>2</th>\n",
              "      <td>15</td>\n",
              "      <td>53</td>\n",
              "      <td>1</td>\n",
              "      <td>1.0</td>\n",
              "      <td>0</td>\n",
              "      <td>0</td>\n",
              "      <td>0</td>\n",
              "      <td>1</td>\n",
              "      <td>0</td>\n",
              "      <td>1</td>\n",
              "      <td>0</td>\n",
              "      <td>0</td>\n",
              "      <td>0</td>\n",
              "      <td>1</td>\n",
              "      <td>0</td>\n",
              "      <td>0</td>\n",
              "      <td>1</td>\n",
              "      <td>0</td>\n",
              "      <td>0</td>\n",
              "      <td>0</td>\n",
              "      <td>0</td>\n",
              "      <td>0</td>\n",
              "      <td>0</td>\n",
              "      <td>0</td>\n",
              "      <td>0</td>\n",
              "      <td>0</td>\n",
              "      <td>0</td>\n",
              "      <td>0</td>\n",
              "      <td>0</td>\n",
              "      <td>0</td>\n",
              "      <td>0</td>\n",
              "      <td>0</td>\n",
              "      <td>0</td>\n",
              "      <td>0</td>\n",
              "      <td>0</td>\n",
              "      <td>0</td>\n",
              "      <td>0</td>\n",
              "      <td>0</td>\n",
              "      <td>0</td>\n",
              "      <td>0</td>\n",
              "      <td>...</td>\n",
              "      <td>0</td>\n",
              "      <td>0</td>\n",
              "      <td>0</td>\n",
              "      <td>0</td>\n",
              "      <td>0</td>\n",
              "      <td>0</td>\n",
              "      <td>0</td>\n",
              "      <td>0</td>\n",
              "      <td>0</td>\n",
              "      <td>0</td>\n",
              "      <td>0</td>\n",
              "      <td>0</td>\n",
              "      <td>0</td>\n",
              "      <td>0</td>\n",
              "      <td>0</td>\n",
              "      <td>0</td>\n",
              "      <td>0</td>\n",
              "      <td>0</td>\n",
              "      <td>0</td>\n",
              "      <td>0</td>\n",
              "      <td>0</td>\n",
              "      <td>1</td>\n",
              "      <td>0</td>\n",
              "      <td>0</td>\n",
              "      <td>0</td>\n",
              "      <td>0</td>\n",
              "      <td>0</td>\n",
              "      <td>0</td>\n",
              "      <td>0</td>\n",
              "      <td>0</td>\n",
              "      <td>0</td>\n",
              "      <td>0</td>\n",
              "      <td>0</td>\n",
              "      <td>0</td>\n",
              "      <td>0</td>\n",
              "      <td>0</td>\n",
              "      <td>0</td>\n",
              "      <td>1</td>\n",
              "      <td>0</td>\n",
              "      <td>0</td>\n",
              "    </tr>\n",
              "    <tr>\n",
              "      <th>3</th>\n",
              "      <td>44</td>\n",
              "      <td>41</td>\n",
              "      <td>0</td>\n",
              "      <td>492085.0</td>\n",
              "      <td>5</td>\n",
              "      <td>16</td>\n",
              "      <td>41</td>\n",
              "      <td>25</td>\n",
              "      <td>0</td>\n",
              "      <td>1</td>\n",
              "      <td>0</td>\n",
              "      <td>0</td>\n",
              "      <td>0</td>\n",
              "      <td>0</td>\n",
              "      <td>1</td>\n",
              "      <td>0</td>\n",
              "      <td>1</td>\n",
              "      <td>0</td>\n",
              "      <td>0</td>\n",
              "      <td>0</td>\n",
              "      <td>0</td>\n",
              "      <td>0</td>\n",
              "      <td>0</td>\n",
              "      <td>0</td>\n",
              "      <td>0</td>\n",
              "      <td>0</td>\n",
              "      <td>0</td>\n",
              "      <td>0</td>\n",
              "      <td>0</td>\n",
              "      <td>0</td>\n",
              "      <td>0</td>\n",
              "      <td>0</td>\n",
              "      <td>0</td>\n",
              "      <td>0</td>\n",
              "      <td>0</td>\n",
              "      <td>0</td>\n",
              "      <td>0</td>\n",
              "      <td>0</td>\n",
              "      <td>0</td>\n",
              "      <td>0</td>\n",
              "      <td>...</td>\n",
              "      <td>0</td>\n",
              "      <td>0</td>\n",
              "      <td>0</td>\n",
              "      <td>0</td>\n",
              "      <td>0</td>\n",
              "      <td>0</td>\n",
              "      <td>0</td>\n",
              "      <td>0</td>\n",
              "      <td>0</td>\n",
              "      <td>0</td>\n",
              "      <td>0</td>\n",
              "      <td>0</td>\n",
              "      <td>0</td>\n",
              "      <td>0</td>\n",
              "      <td>0</td>\n",
              "      <td>0</td>\n",
              "      <td>0</td>\n",
              "      <td>0</td>\n",
              "      <td>0</td>\n",
              "      <td>0</td>\n",
              "      <td>0</td>\n",
              "      <td>0</td>\n",
              "      <td>0</td>\n",
              "      <td>0</td>\n",
              "      <td>0</td>\n",
              "      <td>0</td>\n",
              "      <td>0</td>\n",
              "      <td>0</td>\n",
              "      <td>0</td>\n",
              "      <td>0</td>\n",
              "      <td>0</td>\n",
              "      <td>1</td>\n",
              "      <td>0</td>\n",
              "      <td>0</td>\n",
              "      <td>0</td>\n",
              "      <td>0</td>\n",
              "      <td>0</td>\n",
              "      <td>1</td>\n",
              "      <td>0</td>\n",
              "      <td>0</td>\n",
              "    </tr>\n",
              "    <tr>\n",
              "      <th>4</th>\n",
              "      <td>39</td>\n",
              "      <td>45</td>\n",
              "      <td>0</td>\n",
              "      <td>4361461.0</td>\n",
              "      <td>50</td>\n",
              "      <td>11</td>\n",
              "      <td>31</td>\n",
              "      <td>1</td>\n",
              "      <td>0</td>\n",
              "      <td>0</td>\n",
              "      <td>0</td>\n",
              "      <td>0</td>\n",
              "      <td>0</td>\n",
              "      <td>0</td>\n",
              "      <td>1</td>\n",
              "      <td>0</td>\n",
              "      <td>1</td>\n",
              "      <td>0</td>\n",
              "      <td>0</td>\n",
              "      <td>0</td>\n",
              "      <td>0</td>\n",
              "      <td>0</td>\n",
              "      <td>0</td>\n",
              "      <td>0</td>\n",
              "      <td>0</td>\n",
              "      <td>0</td>\n",
              "      <td>0</td>\n",
              "      <td>0</td>\n",
              "      <td>0</td>\n",
              "      <td>0</td>\n",
              "      <td>0</td>\n",
              "      <td>0</td>\n",
              "      <td>0</td>\n",
              "      <td>0</td>\n",
              "      <td>0</td>\n",
              "      <td>0</td>\n",
              "      <td>0</td>\n",
              "      <td>0</td>\n",
              "      <td>0</td>\n",
              "      <td>0</td>\n",
              "      <td>...</td>\n",
              "      <td>0</td>\n",
              "      <td>0</td>\n",
              "      <td>0</td>\n",
              "      <td>0</td>\n",
              "      <td>0</td>\n",
              "      <td>0</td>\n",
              "      <td>0</td>\n",
              "      <td>0</td>\n",
              "      <td>0</td>\n",
              "      <td>0</td>\n",
              "      <td>0</td>\n",
              "      <td>0</td>\n",
              "      <td>0</td>\n",
              "      <td>0</td>\n",
              "      <td>0</td>\n",
              "      <td>0</td>\n",
              "      <td>0</td>\n",
              "      <td>0</td>\n",
              "      <td>0</td>\n",
              "      <td>0</td>\n",
              "      <td>0</td>\n",
              "      <td>1</td>\n",
              "      <td>0</td>\n",
              "      <td>0</td>\n",
              "      <td>0</td>\n",
              "      <td>0</td>\n",
              "      <td>0</td>\n",
              "      <td>0</td>\n",
              "      <td>0</td>\n",
              "      <td>0</td>\n",
              "      <td>0</td>\n",
              "      <td>0</td>\n",
              "      <td>0</td>\n",
              "      <td>0</td>\n",
              "      <td>0</td>\n",
              "      <td>0</td>\n",
              "      <td>0</td>\n",
              "      <td>1</td>\n",
              "      <td>0</td>\n",
              "      <td>0</td>\n",
              "    </tr>\n",
              "  </tbody>\n",
              "</table>\n",
              "<p>5 rows × 207 columns</p>\n",
              "</div>"
            ],
            "text/plain": [
              "   purchase_value  age  class  ...  period_Afternoon  period_Evening  period_nan\n",
              "0              34   39      0  ...                 0               0           0\n",
              "1              16   53      0  ...                 0               0           0\n",
              "2              15   53      1  ...                 1               0           0\n",
              "3              44   41      0  ...                 1               0           0\n",
              "4              39   45      0  ...                 1               0           0\n",
              "\n",
              "[5 rows x 207 columns]"
            ]
          },
          "metadata": {
            "tags": []
          },
          "execution_count": 287
        }
      ]
    },
    {
      "cell_type": "code",
      "metadata": {
        "id": "kcwMSeveFx4Y",
        "colab_type": "code",
        "colab": {}
      },
      "source": [
        "from sklearn.model_selection import train_test_split\n",
        "train, test = train_test_split(df_new, test_size=0.3, stratify = df_new['class']) #  df_new[\"class\"] au lieu de y car j'ai pas défini y auparavant"
      ],
      "execution_count": 0,
      "outputs": []
    },
    {
      "cell_type": "code",
      "metadata": {
        "id": "eH4md60aF4xM",
        "colab_type": "code",
        "colab": {
          "base_uri": "https://localhost:8080/",
          "height": 225
        },
        "outputId": "5380f522-15e1-44bf-f8c1-c32be2402301"
      },
      "source": [
        "train.head(3)"
      ],
      "execution_count": 289,
      "outputs": [
        {
          "output_type": "execute_result",
          "data": {
            "text/html": [
              "<div>\n",
              "<style scoped>\n",
              "    .dataframe tbody tr th:only-of-type {\n",
              "        vertical-align: middle;\n",
              "    }\n",
              "\n",
              "    .dataframe tbody tr th {\n",
              "        vertical-align: top;\n",
              "    }\n",
              "\n",
              "    .dataframe thead th {\n",
              "        text-align: right;\n",
              "    }\n",
              "</style>\n",
              "<table border=\"1\" class=\"dataframe\">\n",
              "  <thead>\n",
              "    <tr style=\"text-align: right;\">\n",
              "      <th></th>\n",
              "      <th>purchase_value</th>\n",
              "      <th>age</th>\n",
              "      <th>class</th>\n",
              "      <th>duration_second</th>\n",
              "      <th>diff_jours</th>\n",
              "      <th>diff_heures</th>\n",
              "      <th>diff_minutes</th>\n",
              "      <th>diff_secondes</th>\n",
              "      <th>source_Direct</th>\n",
              "      <th>source_SEO</th>\n",
              "      <th>source_nan</th>\n",
              "      <th>browser_FireFox</th>\n",
              "      <th>browser_IE</th>\n",
              "      <th>browser_Opera</th>\n",
              "      <th>browser_Safari</th>\n",
              "      <th>browser_nan</th>\n",
              "      <th>sex_M</th>\n",
              "      <th>sex_nan</th>\n",
              "      <th>country_Albania</th>\n",
              "      <th>country_Algeria</th>\n",
              "      <th>country_Angola</th>\n",
              "      <th>country_Antigua and Barbuda</th>\n",
              "      <th>country_Argentina</th>\n",
              "      <th>country_Armenia</th>\n",
              "      <th>country_Australia</th>\n",
              "      <th>country_Austria</th>\n",
              "      <th>country_Azerbaijan</th>\n",
              "      <th>country_Bahamas</th>\n",
              "      <th>country_Bahrain</th>\n",
              "      <th>country_Bangladesh</th>\n",
              "      <th>country_Barbados</th>\n",
              "      <th>country_Belarus</th>\n",
              "      <th>country_Belgium</th>\n",
              "      <th>country_Belize</th>\n",
              "      <th>country_Benin</th>\n",
              "      <th>country_Bermuda</th>\n",
              "      <th>country_Bhutan</th>\n",
              "      <th>country_Bolivia</th>\n",
              "      <th>country_Bonaire; Sint Eustatius; Saba</th>\n",
              "      <th>country_Bosnia and Herzegowina</th>\n",
              "      <th>...</th>\n",
              "      <th>country_Slovenia</th>\n",
              "      <th>country_South Africa</th>\n",
              "      <th>country_South Sudan</th>\n",
              "      <th>country_Spain</th>\n",
              "      <th>country_Sri Lanka</th>\n",
              "      <th>country_Sudan</th>\n",
              "      <th>country_Sweden</th>\n",
              "      <th>country_Switzerland</th>\n",
              "      <th>country_Syrian Arab Republic</th>\n",
              "      <th>country_Taiwan; Republic of China (ROC)</th>\n",
              "      <th>country_Tajikistan</th>\n",
              "      <th>country_Tanzania United Republic of</th>\n",
              "      <th>country_Thailand</th>\n",
              "      <th>country_Trinidad and Tobago</th>\n",
              "      <th>country_Tunisia</th>\n",
              "      <th>country_Turkey</th>\n",
              "      <th>country_Turkmenistan</th>\n",
              "      <th>country_Uganda</th>\n",
              "      <th>country_Ukraine</th>\n",
              "      <th>country_United Arab Emirates</th>\n",
              "      <th>country_United Kingdom</th>\n",
              "      <th>country_United States</th>\n",
              "      <th>country_Uruguay</th>\n",
              "      <th>country_Uzbekistan</th>\n",
              "      <th>country_Vanuatu</th>\n",
              "      <th>country_Venezuela</th>\n",
              "      <th>country_Viet Nam</th>\n",
              "      <th>country_Virgin Islands (U.S.)</th>\n",
              "      <th>country_Yemen</th>\n",
              "      <th>country_Zambia</th>\n",
              "      <th>country_Zimbabwe</th>\n",
              "      <th>country_nan</th>\n",
              "      <th>country_nan</th>\n",
              "      <th>Alerte_not_sure</th>\n",
              "      <th>Alerte_safe</th>\n",
              "      <th>Alerte_nan</th>\n",
              "      <th>period_Morning</th>\n",
              "      <th>period_Afternoon</th>\n",
              "      <th>period_Evening</th>\n",
              "      <th>period_nan</th>\n",
              "    </tr>\n",
              "  </thead>\n",
              "  <tbody>\n",
              "    <tr>\n",
              "      <th>50599</th>\n",
              "      <td>18</td>\n",
              "      <td>21</td>\n",
              "      <td>0</td>\n",
              "      <td>8068992.0</td>\n",
              "      <td>93</td>\n",
              "      <td>9</td>\n",
              "      <td>23</td>\n",
              "      <td>12</td>\n",
              "      <td>0</td>\n",
              "      <td>1</td>\n",
              "      <td>0</td>\n",
              "      <td>0</td>\n",
              "      <td>0</td>\n",
              "      <td>0</td>\n",
              "      <td>0</td>\n",
              "      <td>0</td>\n",
              "      <td>1</td>\n",
              "      <td>0</td>\n",
              "      <td>0</td>\n",
              "      <td>0</td>\n",
              "      <td>0</td>\n",
              "      <td>0</td>\n",
              "      <td>0</td>\n",
              "      <td>0</td>\n",
              "      <td>0</td>\n",
              "      <td>0</td>\n",
              "      <td>0</td>\n",
              "      <td>0</td>\n",
              "      <td>0</td>\n",
              "      <td>0</td>\n",
              "      <td>0</td>\n",
              "      <td>0</td>\n",
              "      <td>0</td>\n",
              "      <td>0</td>\n",
              "      <td>0</td>\n",
              "      <td>0</td>\n",
              "      <td>0</td>\n",
              "      <td>0</td>\n",
              "      <td>0</td>\n",
              "      <td>0</td>\n",
              "      <td>...</td>\n",
              "      <td>0</td>\n",
              "      <td>0</td>\n",
              "      <td>0</td>\n",
              "      <td>0</td>\n",
              "      <td>0</td>\n",
              "      <td>0</td>\n",
              "      <td>0</td>\n",
              "      <td>0</td>\n",
              "      <td>0</td>\n",
              "      <td>0</td>\n",
              "      <td>0</td>\n",
              "      <td>0</td>\n",
              "      <td>0</td>\n",
              "      <td>0</td>\n",
              "      <td>0</td>\n",
              "      <td>0</td>\n",
              "      <td>0</td>\n",
              "      <td>0</td>\n",
              "      <td>0</td>\n",
              "      <td>0</td>\n",
              "      <td>0</td>\n",
              "      <td>0</td>\n",
              "      <td>0</td>\n",
              "      <td>0</td>\n",
              "      <td>0</td>\n",
              "      <td>0</td>\n",
              "      <td>0</td>\n",
              "      <td>0</td>\n",
              "      <td>0</td>\n",
              "      <td>0</td>\n",
              "      <td>0</td>\n",
              "      <td>1</td>\n",
              "      <td>0</td>\n",
              "      <td>0</td>\n",
              "      <td>0</td>\n",
              "      <td>0</td>\n",
              "      <td>0</td>\n",
              "      <td>0</td>\n",
              "      <td>0</td>\n",
              "      <td>0</td>\n",
              "    </tr>\n",
              "    <tr>\n",
              "      <th>47467</th>\n",
              "      <td>31</td>\n",
              "      <td>31</td>\n",
              "      <td>0</td>\n",
              "      <td>5246844.0</td>\n",
              "      <td>60</td>\n",
              "      <td>17</td>\n",
              "      <td>27</td>\n",
              "      <td>24</td>\n",
              "      <td>1</td>\n",
              "      <td>0</td>\n",
              "      <td>0</td>\n",
              "      <td>0</td>\n",
              "      <td>0</td>\n",
              "      <td>0</td>\n",
              "      <td>0</td>\n",
              "      <td>0</td>\n",
              "      <td>0</td>\n",
              "      <td>0</td>\n",
              "      <td>0</td>\n",
              "      <td>0</td>\n",
              "      <td>0</td>\n",
              "      <td>0</td>\n",
              "      <td>0</td>\n",
              "      <td>0</td>\n",
              "      <td>0</td>\n",
              "      <td>0</td>\n",
              "      <td>0</td>\n",
              "      <td>0</td>\n",
              "      <td>0</td>\n",
              "      <td>0</td>\n",
              "      <td>0</td>\n",
              "      <td>0</td>\n",
              "      <td>0</td>\n",
              "      <td>0</td>\n",
              "      <td>0</td>\n",
              "      <td>0</td>\n",
              "      <td>0</td>\n",
              "      <td>0</td>\n",
              "      <td>0</td>\n",
              "      <td>0</td>\n",
              "      <td>...</td>\n",
              "      <td>0</td>\n",
              "      <td>0</td>\n",
              "      <td>0</td>\n",
              "      <td>0</td>\n",
              "      <td>0</td>\n",
              "      <td>0</td>\n",
              "      <td>0</td>\n",
              "      <td>0</td>\n",
              "      <td>0</td>\n",
              "      <td>0</td>\n",
              "      <td>0</td>\n",
              "      <td>0</td>\n",
              "      <td>0</td>\n",
              "      <td>0</td>\n",
              "      <td>0</td>\n",
              "      <td>0</td>\n",
              "      <td>0</td>\n",
              "      <td>0</td>\n",
              "      <td>0</td>\n",
              "      <td>0</td>\n",
              "      <td>0</td>\n",
              "      <td>1</td>\n",
              "      <td>0</td>\n",
              "      <td>0</td>\n",
              "      <td>0</td>\n",
              "      <td>0</td>\n",
              "      <td>0</td>\n",
              "      <td>0</td>\n",
              "      <td>0</td>\n",
              "      <td>0</td>\n",
              "      <td>0</td>\n",
              "      <td>0</td>\n",
              "      <td>0</td>\n",
              "      <td>0</td>\n",
              "      <td>0</td>\n",
              "      <td>0</td>\n",
              "      <td>0</td>\n",
              "      <td>0</td>\n",
              "      <td>0</td>\n",
              "      <td>0</td>\n",
              "    </tr>\n",
              "    <tr>\n",
              "      <th>73677</th>\n",
              "      <td>16</td>\n",
              "      <td>22</td>\n",
              "      <td>0</td>\n",
              "      <td>5863965.0</td>\n",
              "      <td>67</td>\n",
              "      <td>20</td>\n",
              "      <td>52</td>\n",
              "      <td>45</td>\n",
              "      <td>1</td>\n",
              "      <td>0</td>\n",
              "      <td>0</td>\n",
              "      <td>0</td>\n",
              "      <td>1</td>\n",
              "      <td>0</td>\n",
              "      <td>0</td>\n",
              "      <td>0</td>\n",
              "      <td>0</td>\n",
              "      <td>0</td>\n",
              "      <td>0</td>\n",
              "      <td>0</td>\n",
              "      <td>0</td>\n",
              "      <td>0</td>\n",
              "      <td>0</td>\n",
              "      <td>0</td>\n",
              "      <td>0</td>\n",
              "      <td>0</td>\n",
              "      <td>0</td>\n",
              "      <td>0</td>\n",
              "      <td>0</td>\n",
              "      <td>0</td>\n",
              "      <td>0</td>\n",
              "      <td>0</td>\n",
              "      <td>0</td>\n",
              "      <td>0</td>\n",
              "      <td>0</td>\n",
              "      <td>0</td>\n",
              "      <td>0</td>\n",
              "      <td>0</td>\n",
              "      <td>0</td>\n",
              "      <td>0</td>\n",
              "      <td>...</td>\n",
              "      <td>0</td>\n",
              "      <td>0</td>\n",
              "      <td>0</td>\n",
              "      <td>0</td>\n",
              "      <td>0</td>\n",
              "      <td>0</td>\n",
              "      <td>0</td>\n",
              "      <td>0</td>\n",
              "      <td>0</td>\n",
              "      <td>0</td>\n",
              "      <td>0</td>\n",
              "      <td>0</td>\n",
              "      <td>0</td>\n",
              "      <td>0</td>\n",
              "      <td>0</td>\n",
              "      <td>0</td>\n",
              "      <td>0</td>\n",
              "      <td>0</td>\n",
              "      <td>0</td>\n",
              "      <td>0</td>\n",
              "      <td>0</td>\n",
              "      <td>1</td>\n",
              "      <td>0</td>\n",
              "      <td>0</td>\n",
              "      <td>0</td>\n",
              "      <td>0</td>\n",
              "      <td>0</td>\n",
              "      <td>0</td>\n",
              "      <td>0</td>\n",
              "      <td>0</td>\n",
              "      <td>0</td>\n",
              "      <td>0</td>\n",
              "      <td>0</td>\n",
              "      <td>0</td>\n",
              "      <td>0</td>\n",
              "      <td>0</td>\n",
              "      <td>1</td>\n",
              "      <td>0</td>\n",
              "      <td>0</td>\n",
              "      <td>0</td>\n",
              "    </tr>\n",
              "  </tbody>\n",
              "</table>\n",
              "<p>3 rows × 207 columns</p>\n",
              "</div>"
            ],
            "text/plain": [
              "       purchase_value  age  class  ...  period_Afternoon  period_Evening  period_nan\n",
              "50599              18   21      0  ...                 0               0           0\n",
              "47467              31   31      0  ...                 0               0           0\n",
              "73677              16   22      0  ...                 0               0           0\n",
              "\n",
              "[3 rows x 207 columns]"
            ]
          },
          "metadata": {
            "tags": []
          },
          "execution_count": 289
        }
      ]
    },
    {
      "cell_type": "code",
      "metadata": {
        "id": "YVdGL9d3F4tt",
        "colab_type": "code",
        "colab": {
          "base_uri": "https://localhost:8080/",
          "height": 225
        },
        "outputId": "d64a6cf4-8369-4b25-d0f5-486fba1e277d"
      },
      "source": [
        "test.head(3)"
      ],
      "execution_count": 290,
      "outputs": [
        {
          "output_type": "execute_result",
          "data": {
            "text/html": [
              "<div>\n",
              "<style scoped>\n",
              "    .dataframe tbody tr th:only-of-type {\n",
              "        vertical-align: middle;\n",
              "    }\n",
              "\n",
              "    .dataframe tbody tr th {\n",
              "        vertical-align: top;\n",
              "    }\n",
              "\n",
              "    .dataframe thead th {\n",
              "        text-align: right;\n",
              "    }\n",
              "</style>\n",
              "<table border=\"1\" class=\"dataframe\">\n",
              "  <thead>\n",
              "    <tr style=\"text-align: right;\">\n",
              "      <th></th>\n",
              "      <th>purchase_value</th>\n",
              "      <th>age</th>\n",
              "      <th>class</th>\n",
              "      <th>duration_second</th>\n",
              "      <th>diff_jours</th>\n",
              "      <th>diff_heures</th>\n",
              "      <th>diff_minutes</th>\n",
              "      <th>diff_secondes</th>\n",
              "      <th>source_Direct</th>\n",
              "      <th>source_SEO</th>\n",
              "      <th>source_nan</th>\n",
              "      <th>browser_FireFox</th>\n",
              "      <th>browser_IE</th>\n",
              "      <th>browser_Opera</th>\n",
              "      <th>browser_Safari</th>\n",
              "      <th>browser_nan</th>\n",
              "      <th>sex_M</th>\n",
              "      <th>sex_nan</th>\n",
              "      <th>country_Albania</th>\n",
              "      <th>country_Algeria</th>\n",
              "      <th>country_Angola</th>\n",
              "      <th>country_Antigua and Barbuda</th>\n",
              "      <th>country_Argentina</th>\n",
              "      <th>country_Armenia</th>\n",
              "      <th>country_Australia</th>\n",
              "      <th>country_Austria</th>\n",
              "      <th>country_Azerbaijan</th>\n",
              "      <th>country_Bahamas</th>\n",
              "      <th>country_Bahrain</th>\n",
              "      <th>country_Bangladesh</th>\n",
              "      <th>country_Barbados</th>\n",
              "      <th>country_Belarus</th>\n",
              "      <th>country_Belgium</th>\n",
              "      <th>country_Belize</th>\n",
              "      <th>country_Benin</th>\n",
              "      <th>country_Bermuda</th>\n",
              "      <th>country_Bhutan</th>\n",
              "      <th>country_Bolivia</th>\n",
              "      <th>country_Bonaire; Sint Eustatius; Saba</th>\n",
              "      <th>country_Bosnia and Herzegowina</th>\n",
              "      <th>...</th>\n",
              "      <th>country_Slovenia</th>\n",
              "      <th>country_South Africa</th>\n",
              "      <th>country_South Sudan</th>\n",
              "      <th>country_Spain</th>\n",
              "      <th>country_Sri Lanka</th>\n",
              "      <th>country_Sudan</th>\n",
              "      <th>country_Sweden</th>\n",
              "      <th>country_Switzerland</th>\n",
              "      <th>country_Syrian Arab Republic</th>\n",
              "      <th>country_Taiwan; Republic of China (ROC)</th>\n",
              "      <th>country_Tajikistan</th>\n",
              "      <th>country_Tanzania United Republic of</th>\n",
              "      <th>country_Thailand</th>\n",
              "      <th>country_Trinidad and Tobago</th>\n",
              "      <th>country_Tunisia</th>\n",
              "      <th>country_Turkey</th>\n",
              "      <th>country_Turkmenistan</th>\n",
              "      <th>country_Uganda</th>\n",
              "      <th>country_Ukraine</th>\n",
              "      <th>country_United Arab Emirates</th>\n",
              "      <th>country_United Kingdom</th>\n",
              "      <th>country_United States</th>\n",
              "      <th>country_Uruguay</th>\n",
              "      <th>country_Uzbekistan</th>\n",
              "      <th>country_Vanuatu</th>\n",
              "      <th>country_Venezuela</th>\n",
              "      <th>country_Viet Nam</th>\n",
              "      <th>country_Virgin Islands (U.S.)</th>\n",
              "      <th>country_Yemen</th>\n",
              "      <th>country_Zambia</th>\n",
              "      <th>country_Zimbabwe</th>\n",
              "      <th>country_nan</th>\n",
              "      <th>country_nan</th>\n",
              "      <th>Alerte_not_sure</th>\n",
              "      <th>Alerte_safe</th>\n",
              "      <th>Alerte_nan</th>\n",
              "      <th>period_Morning</th>\n",
              "      <th>period_Afternoon</th>\n",
              "      <th>period_Evening</th>\n",
              "      <th>period_nan</th>\n",
              "    </tr>\n",
              "  </thead>\n",
              "  <tbody>\n",
              "    <tr>\n",
              "      <th>34115</th>\n",
              "      <td>28</td>\n",
              "      <td>31</td>\n",
              "      <td>0</td>\n",
              "      <td>8156884.0</td>\n",
              "      <td>94</td>\n",
              "      <td>9</td>\n",
              "      <td>48</td>\n",
              "      <td>4</td>\n",
              "      <td>0</td>\n",
              "      <td>1</td>\n",
              "      <td>0</td>\n",
              "      <td>0</td>\n",
              "      <td>0</td>\n",
              "      <td>0</td>\n",
              "      <td>1</td>\n",
              "      <td>0</td>\n",
              "      <td>1</td>\n",
              "      <td>0</td>\n",
              "      <td>0</td>\n",
              "      <td>0</td>\n",
              "      <td>0</td>\n",
              "      <td>0</td>\n",
              "      <td>0</td>\n",
              "      <td>0</td>\n",
              "      <td>0</td>\n",
              "      <td>0</td>\n",
              "      <td>0</td>\n",
              "      <td>0</td>\n",
              "      <td>0</td>\n",
              "      <td>0</td>\n",
              "      <td>0</td>\n",
              "      <td>0</td>\n",
              "      <td>0</td>\n",
              "      <td>0</td>\n",
              "      <td>0</td>\n",
              "      <td>0</td>\n",
              "      <td>0</td>\n",
              "      <td>0</td>\n",
              "      <td>0</td>\n",
              "      <td>0</td>\n",
              "      <td>...</td>\n",
              "      <td>0</td>\n",
              "      <td>0</td>\n",
              "      <td>0</td>\n",
              "      <td>0</td>\n",
              "      <td>0</td>\n",
              "      <td>0</td>\n",
              "      <td>0</td>\n",
              "      <td>0</td>\n",
              "      <td>0</td>\n",
              "      <td>0</td>\n",
              "      <td>0</td>\n",
              "      <td>0</td>\n",
              "      <td>0</td>\n",
              "      <td>0</td>\n",
              "      <td>0</td>\n",
              "      <td>0</td>\n",
              "      <td>0</td>\n",
              "      <td>0</td>\n",
              "      <td>0</td>\n",
              "      <td>0</td>\n",
              "      <td>0</td>\n",
              "      <td>0</td>\n",
              "      <td>0</td>\n",
              "      <td>0</td>\n",
              "      <td>0</td>\n",
              "      <td>0</td>\n",
              "      <td>0</td>\n",
              "      <td>0</td>\n",
              "      <td>0</td>\n",
              "      <td>0</td>\n",
              "      <td>0</td>\n",
              "      <td>1</td>\n",
              "      <td>0</td>\n",
              "      <td>0</td>\n",
              "      <td>0</td>\n",
              "      <td>0</td>\n",
              "      <td>0</td>\n",
              "      <td>0</td>\n",
              "      <td>1</td>\n",
              "      <td>0</td>\n",
              "    </tr>\n",
              "    <tr>\n",
              "      <th>39243</th>\n",
              "      <td>52</td>\n",
              "      <td>26</td>\n",
              "      <td>0</td>\n",
              "      <td>1973900.0</td>\n",
              "      <td>22</td>\n",
              "      <td>20</td>\n",
              "      <td>18</td>\n",
              "      <td>20</td>\n",
              "      <td>1</td>\n",
              "      <td>0</td>\n",
              "      <td>0</td>\n",
              "      <td>0</td>\n",
              "      <td>0</td>\n",
              "      <td>0</td>\n",
              "      <td>0</td>\n",
              "      <td>0</td>\n",
              "      <td>1</td>\n",
              "      <td>0</td>\n",
              "      <td>0</td>\n",
              "      <td>0</td>\n",
              "      <td>0</td>\n",
              "      <td>0</td>\n",
              "      <td>0</td>\n",
              "      <td>0</td>\n",
              "      <td>1</td>\n",
              "      <td>0</td>\n",
              "      <td>0</td>\n",
              "      <td>0</td>\n",
              "      <td>0</td>\n",
              "      <td>0</td>\n",
              "      <td>0</td>\n",
              "      <td>0</td>\n",
              "      <td>0</td>\n",
              "      <td>0</td>\n",
              "      <td>0</td>\n",
              "      <td>0</td>\n",
              "      <td>0</td>\n",
              "      <td>0</td>\n",
              "      <td>0</td>\n",
              "      <td>0</td>\n",
              "      <td>...</td>\n",
              "      <td>0</td>\n",
              "      <td>0</td>\n",
              "      <td>0</td>\n",
              "      <td>0</td>\n",
              "      <td>0</td>\n",
              "      <td>0</td>\n",
              "      <td>0</td>\n",
              "      <td>0</td>\n",
              "      <td>0</td>\n",
              "      <td>0</td>\n",
              "      <td>0</td>\n",
              "      <td>0</td>\n",
              "      <td>0</td>\n",
              "      <td>0</td>\n",
              "      <td>0</td>\n",
              "      <td>0</td>\n",
              "      <td>0</td>\n",
              "      <td>0</td>\n",
              "      <td>0</td>\n",
              "      <td>0</td>\n",
              "      <td>0</td>\n",
              "      <td>0</td>\n",
              "      <td>0</td>\n",
              "      <td>0</td>\n",
              "      <td>0</td>\n",
              "      <td>0</td>\n",
              "      <td>0</td>\n",
              "      <td>0</td>\n",
              "      <td>0</td>\n",
              "      <td>0</td>\n",
              "      <td>0</td>\n",
              "      <td>0</td>\n",
              "      <td>0</td>\n",
              "      <td>0</td>\n",
              "      <td>0</td>\n",
              "      <td>0</td>\n",
              "      <td>0</td>\n",
              "      <td>1</td>\n",
              "      <td>0</td>\n",
              "      <td>0</td>\n",
              "    </tr>\n",
              "    <tr>\n",
              "      <th>29146</th>\n",
              "      <td>20</td>\n",
              "      <td>35</td>\n",
              "      <td>1</td>\n",
              "      <td>1.0</td>\n",
              "      <td>0</td>\n",
              "      <td>0</td>\n",
              "      <td>0</td>\n",
              "      <td>1</td>\n",
              "      <td>1</td>\n",
              "      <td>0</td>\n",
              "      <td>0</td>\n",
              "      <td>0</td>\n",
              "      <td>0</td>\n",
              "      <td>0</td>\n",
              "      <td>0</td>\n",
              "      <td>0</td>\n",
              "      <td>0</td>\n",
              "      <td>0</td>\n",
              "      <td>0</td>\n",
              "      <td>0</td>\n",
              "      <td>0</td>\n",
              "      <td>0</td>\n",
              "      <td>0</td>\n",
              "      <td>0</td>\n",
              "      <td>0</td>\n",
              "      <td>0</td>\n",
              "      <td>0</td>\n",
              "      <td>0</td>\n",
              "      <td>0</td>\n",
              "      <td>0</td>\n",
              "      <td>0</td>\n",
              "      <td>0</td>\n",
              "      <td>0</td>\n",
              "      <td>0</td>\n",
              "      <td>0</td>\n",
              "      <td>0</td>\n",
              "      <td>0</td>\n",
              "      <td>0</td>\n",
              "      <td>0</td>\n",
              "      <td>0</td>\n",
              "      <td>...</td>\n",
              "      <td>0</td>\n",
              "      <td>0</td>\n",
              "      <td>0</td>\n",
              "      <td>0</td>\n",
              "      <td>0</td>\n",
              "      <td>0</td>\n",
              "      <td>0</td>\n",
              "      <td>0</td>\n",
              "      <td>0</td>\n",
              "      <td>0</td>\n",
              "      <td>0</td>\n",
              "      <td>0</td>\n",
              "      <td>0</td>\n",
              "      <td>0</td>\n",
              "      <td>0</td>\n",
              "      <td>0</td>\n",
              "      <td>0</td>\n",
              "      <td>0</td>\n",
              "      <td>0</td>\n",
              "      <td>0</td>\n",
              "      <td>0</td>\n",
              "      <td>0</td>\n",
              "      <td>0</td>\n",
              "      <td>0</td>\n",
              "      <td>0</td>\n",
              "      <td>0</td>\n",
              "      <td>0</td>\n",
              "      <td>0</td>\n",
              "      <td>0</td>\n",
              "      <td>0</td>\n",
              "      <td>0</td>\n",
              "      <td>1</td>\n",
              "      <td>0</td>\n",
              "      <td>0</td>\n",
              "      <td>0</td>\n",
              "      <td>0</td>\n",
              "      <td>0</td>\n",
              "      <td>0</td>\n",
              "      <td>0</td>\n",
              "      <td>0</td>\n",
              "    </tr>\n",
              "  </tbody>\n",
              "</table>\n",
              "<p>3 rows × 207 columns</p>\n",
              "</div>"
            ],
            "text/plain": [
              "       purchase_value  age  class  ...  period_Afternoon  period_Evening  period_nan\n",
              "34115              28   31      0  ...                 0               1           0\n",
              "39243              52   26      0  ...                 1               0           0\n",
              "29146              20   35      1  ...                 0               0           0\n",
              "\n",
              "[3 rows x 207 columns]"
            ]
          },
          "metadata": {
            "tags": []
          },
          "execution_count": 290
        }
      ]
    },
    {
      "cell_type": "code",
      "metadata": {
        "id": "W2jooj0jF4qX",
        "colab_type": "code",
        "colab": {}
      },
      "source": [
        "train_class_1 = pd.DataFrame(train.loc[train[\"class\"] == 1])\n",
        "train_class_0 = pd.DataFrame(train.loc[train[\"class\"] == 0]).sample(len(train_class_1))"
      ],
      "execution_count": 0,
      "outputs": []
    },
    {
      "cell_type": "code",
      "metadata": {
        "id": "MfhNVgLMF4lZ",
        "colab_type": "code",
        "colab": {}
      },
      "source": [
        "train_new = pd.concat([train_class_1,train_class_0])"
      ],
      "execution_count": 0,
      "outputs": []
    },
    {
      "cell_type": "code",
      "metadata": {
        "id": "IAxNXdOHF4hx",
        "colab_type": "code",
        "colab": {
          "base_uri": "https://localhost:8080/",
          "height": 225
        },
        "outputId": "99df29f8-ce2f-4655-c6d0-74a2a5d53a8a"
      },
      "source": [
        "train_new.head(3)"
      ],
      "execution_count": 293,
      "outputs": [
        {
          "output_type": "execute_result",
          "data": {
            "text/html": [
              "<div>\n",
              "<style scoped>\n",
              "    .dataframe tbody tr th:only-of-type {\n",
              "        vertical-align: middle;\n",
              "    }\n",
              "\n",
              "    .dataframe tbody tr th {\n",
              "        vertical-align: top;\n",
              "    }\n",
              "\n",
              "    .dataframe thead th {\n",
              "        text-align: right;\n",
              "    }\n",
              "</style>\n",
              "<table border=\"1\" class=\"dataframe\">\n",
              "  <thead>\n",
              "    <tr style=\"text-align: right;\">\n",
              "      <th></th>\n",
              "      <th>purchase_value</th>\n",
              "      <th>age</th>\n",
              "      <th>class</th>\n",
              "      <th>duration_second</th>\n",
              "      <th>diff_jours</th>\n",
              "      <th>diff_heures</th>\n",
              "      <th>diff_minutes</th>\n",
              "      <th>diff_secondes</th>\n",
              "      <th>source_Direct</th>\n",
              "      <th>source_SEO</th>\n",
              "      <th>source_nan</th>\n",
              "      <th>browser_FireFox</th>\n",
              "      <th>browser_IE</th>\n",
              "      <th>browser_Opera</th>\n",
              "      <th>browser_Safari</th>\n",
              "      <th>browser_nan</th>\n",
              "      <th>sex_M</th>\n",
              "      <th>sex_nan</th>\n",
              "      <th>country_Albania</th>\n",
              "      <th>country_Algeria</th>\n",
              "      <th>country_Angola</th>\n",
              "      <th>country_Antigua and Barbuda</th>\n",
              "      <th>country_Argentina</th>\n",
              "      <th>country_Armenia</th>\n",
              "      <th>country_Australia</th>\n",
              "      <th>country_Austria</th>\n",
              "      <th>country_Azerbaijan</th>\n",
              "      <th>country_Bahamas</th>\n",
              "      <th>country_Bahrain</th>\n",
              "      <th>country_Bangladesh</th>\n",
              "      <th>country_Barbados</th>\n",
              "      <th>country_Belarus</th>\n",
              "      <th>country_Belgium</th>\n",
              "      <th>country_Belize</th>\n",
              "      <th>country_Benin</th>\n",
              "      <th>country_Bermuda</th>\n",
              "      <th>country_Bhutan</th>\n",
              "      <th>country_Bolivia</th>\n",
              "      <th>country_Bonaire; Sint Eustatius; Saba</th>\n",
              "      <th>country_Bosnia and Herzegowina</th>\n",
              "      <th>...</th>\n",
              "      <th>country_Slovenia</th>\n",
              "      <th>country_South Africa</th>\n",
              "      <th>country_South Sudan</th>\n",
              "      <th>country_Spain</th>\n",
              "      <th>country_Sri Lanka</th>\n",
              "      <th>country_Sudan</th>\n",
              "      <th>country_Sweden</th>\n",
              "      <th>country_Switzerland</th>\n",
              "      <th>country_Syrian Arab Republic</th>\n",
              "      <th>country_Taiwan; Republic of China (ROC)</th>\n",
              "      <th>country_Tajikistan</th>\n",
              "      <th>country_Tanzania United Republic of</th>\n",
              "      <th>country_Thailand</th>\n",
              "      <th>country_Trinidad and Tobago</th>\n",
              "      <th>country_Tunisia</th>\n",
              "      <th>country_Turkey</th>\n",
              "      <th>country_Turkmenistan</th>\n",
              "      <th>country_Uganda</th>\n",
              "      <th>country_Ukraine</th>\n",
              "      <th>country_United Arab Emirates</th>\n",
              "      <th>country_United Kingdom</th>\n",
              "      <th>country_United States</th>\n",
              "      <th>country_Uruguay</th>\n",
              "      <th>country_Uzbekistan</th>\n",
              "      <th>country_Vanuatu</th>\n",
              "      <th>country_Venezuela</th>\n",
              "      <th>country_Viet Nam</th>\n",
              "      <th>country_Virgin Islands (U.S.)</th>\n",
              "      <th>country_Yemen</th>\n",
              "      <th>country_Zambia</th>\n",
              "      <th>country_Zimbabwe</th>\n",
              "      <th>country_nan</th>\n",
              "      <th>country_nan</th>\n",
              "      <th>Alerte_not_sure</th>\n",
              "      <th>Alerte_safe</th>\n",
              "      <th>Alerte_nan</th>\n",
              "      <th>period_Morning</th>\n",
              "      <th>period_Afternoon</th>\n",
              "      <th>period_Evening</th>\n",
              "      <th>period_nan</th>\n",
              "    </tr>\n",
              "  </thead>\n",
              "  <tbody>\n",
              "    <tr>\n",
              "      <th>118797</th>\n",
              "      <td>46</td>\n",
              "      <td>39</td>\n",
              "      <td>1</td>\n",
              "      <td>7756904.0</td>\n",
              "      <td>89</td>\n",
              "      <td>18</td>\n",
              "      <td>41</td>\n",
              "      <td>44</td>\n",
              "      <td>1</td>\n",
              "      <td>0</td>\n",
              "      <td>0</td>\n",
              "      <td>0</td>\n",
              "      <td>0</td>\n",
              "      <td>0</td>\n",
              "      <td>0</td>\n",
              "      <td>0</td>\n",
              "      <td>0</td>\n",
              "      <td>0</td>\n",
              "      <td>0</td>\n",
              "      <td>0</td>\n",
              "      <td>0</td>\n",
              "      <td>0</td>\n",
              "      <td>0</td>\n",
              "      <td>0</td>\n",
              "      <td>0</td>\n",
              "      <td>0</td>\n",
              "      <td>0</td>\n",
              "      <td>0</td>\n",
              "      <td>0</td>\n",
              "      <td>0</td>\n",
              "      <td>0</td>\n",
              "      <td>0</td>\n",
              "      <td>0</td>\n",
              "      <td>0</td>\n",
              "      <td>0</td>\n",
              "      <td>0</td>\n",
              "      <td>0</td>\n",
              "      <td>0</td>\n",
              "      <td>0</td>\n",
              "      <td>0</td>\n",
              "      <td>...</td>\n",
              "      <td>0</td>\n",
              "      <td>0</td>\n",
              "      <td>0</td>\n",
              "      <td>0</td>\n",
              "      <td>0</td>\n",
              "      <td>0</td>\n",
              "      <td>0</td>\n",
              "      <td>0</td>\n",
              "      <td>0</td>\n",
              "      <td>0</td>\n",
              "      <td>0</td>\n",
              "      <td>0</td>\n",
              "      <td>0</td>\n",
              "      <td>0</td>\n",
              "      <td>0</td>\n",
              "      <td>0</td>\n",
              "      <td>0</td>\n",
              "      <td>0</td>\n",
              "      <td>0</td>\n",
              "      <td>0</td>\n",
              "      <td>0</td>\n",
              "      <td>0</td>\n",
              "      <td>0</td>\n",
              "      <td>0</td>\n",
              "      <td>0</td>\n",
              "      <td>0</td>\n",
              "      <td>0</td>\n",
              "      <td>0</td>\n",
              "      <td>0</td>\n",
              "      <td>0</td>\n",
              "      <td>0</td>\n",
              "      <td>0</td>\n",
              "      <td>0</td>\n",
              "      <td>0</td>\n",
              "      <td>0</td>\n",
              "      <td>0</td>\n",
              "      <td>0</td>\n",
              "      <td>0</td>\n",
              "      <td>0</td>\n",
              "      <td>0</td>\n",
              "    </tr>\n",
              "    <tr>\n",
              "      <th>64900</th>\n",
              "      <td>24</td>\n",
              "      <td>26</td>\n",
              "      <td>1</td>\n",
              "      <td>8688752.0</td>\n",
              "      <td>100</td>\n",
              "      <td>13</td>\n",
              "      <td>32</td>\n",
              "      <td>32</td>\n",
              "      <td>0</td>\n",
              "      <td>0</td>\n",
              "      <td>0</td>\n",
              "      <td>1</td>\n",
              "      <td>0</td>\n",
              "      <td>0</td>\n",
              "      <td>0</td>\n",
              "      <td>0</td>\n",
              "      <td>0</td>\n",
              "      <td>0</td>\n",
              "      <td>0</td>\n",
              "      <td>0</td>\n",
              "      <td>0</td>\n",
              "      <td>0</td>\n",
              "      <td>0</td>\n",
              "      <td>0</td>\n",
              "      <td>0</td>\n",
              "      <td>0</td>\n",
              "      <td>0</td>\n",
              "      <td>0</td>\n",
              "      <td>0</td>\n",
              "      <td>0</td>\n",
              "      <td>0</td>\n",
              "      <td>0</td>\n",
              "      <td>0</td>\n",
              "      <td>0</td>\n",
              "      <td>0</td>\n",
              "      <td>0</td>\n",
              "      <td>0</td>\n",
              "      <td>0</td>\n",
              "      <td>0</td>\n",
              "      <td>0</td>\n",
              "      <td>...</td>\n",
              "      <td>0</td>\n",
              "      <td>0</td>\n",
              "      <td>0</td>\n",
              "      <td>0</td>\n",
              "      <td>0</td>\n",
              "      <td>0</td>\n",
              "      <td>0</td>\n",
              "      <td>0</td>\n",
              "      <td>0</td>\n",
              "      <td>0</td>\n",
              "      <td>0</td>\n",
              "      <td>0</td>\n",
              "      <td>0</td>\n",
              "      <td>0</td>\n",
              "      <td>0</td>\n",
              "      <td>0</td>\n",
              "      <td>0</td>\n",
              "      <td>0</td>\n",
              "      <td>0</td>\n",
              "      <td>0</td>\n",
              "      <td>0</td>\n",
              "      <td>0</td>\n",
              "      <td>0</td>\n",
              "      <td>0</td>\n",
              "      <td>0</td>\n",
              "      <td>0</td>\n",
              "      <td>0</td>\n",
              "      <td>0</td>\n",
              "      <td>0</td>\n",
              "      <td>0</td>\n",
              "      <td>0</td>\n",
              "      <td>0</td>\n",
              "      <td>0</td>\n",
              "      <td>0</td>\n",
              "      <td>0</td>\n",
              "      <td>0</td>\n",
              "      <td>0</td>\n",
              "      <td>0</td>\n",
              "      <td>1</td>\n",
              "      <td>0</td>\n",
              "    </tr>\n",
              "    <tr>\n",
              "      <th>65178</th>\n",
              "      <td>46</td>\n",
              "      <td>45</td>\n",
              "      <td>1</td>\n",
              "      <td>1.0</td>\n",
              "      <td>0</td>\n",
              "      <td>0</td>\n",
              "      <td>0</td>\n",
              "      <td>1</td>\n",
              "      <td>0</td>\n",
              "      <td>1</td>\n",
              "      <td>0</td>\n",
              "      <td>0</td>\n",
              "      <td>0</td>\n",
              "      <td>0</td>\n",
              "      <td>0</td>\n",
              "      <td>0</td>\n",
              "      <td>0</td>\n",
              "      <td>0</td>\n",
              "      <td>0</td>\n",
              "      <td>0</td>\n",
              "      <td>0</td>\n",
              "      <td>0</td>\n",
              "      <td>0</td>\n",
              "      <td>0</td>\n",
              "      <td>0</td>\n",
              "      <td>0</td>\n",
              "      <td>0</td>\n",
              "      <td>0</td>\n",
              "      <td>0</td>\n",
              "      <td>0</td>\n",
              "      <td>0</td>\n",
              "      <td>0</td>\n",
              "      <td>0</td>\n",
              "      <td>0</td>\n",
              "      <td>0</td>\n",
              "      <td>0</td>\n",
              "      <td>0</td>\n",
              "      <td>0</td>\n",
              "      <td>0</td>\n",
              "      <td>0</td>\n",
              "      <td>...</td>\n",
              "      <td>0</td>\n",
              "      <td>0</td>\n",
              "      <td>0</td>\n",
              "      <td>0</td>\n",
              "      <td>0</td>\n",
              "      <td>0</td>\n",
              "      <td>0</td>\n",
              "      <td>0</td>\n",
              "      <td>0</td>\n",
              "      <td>0</td>\n",
              "      <td>0</td>\n",
              "      <td>0</td>\n",
              "      <td>0</td>\n",
              "      <td>0</td>\n",
              "      <td>0</td>\n",
              "      <td>0</td>\n",
              "      <td>0</td>\n",
              "      <td>0</td>\n",
              "      <td>0</td>\n",
              "      <td>0</td>\n",
              "      <td>0</td>\n",
              "      <td>0</td>\n",
              "      <td>0</td>\n",
              "      <td>0</td>\n",
              "      <td>0</td>\n",
              "      <td>0</td>\n",
              "      <td>0</td>\n",
              "      <td>0</td>\n",
              "      <td>0</td>\n",
              "      <td>0</td>\n",
              "      <td>0</td>\n",
              "      <td>0</td>\n",
              "      <td>0</td>\n",
              "      <td>0</td>\n",
              "      <td>0</td>\n",
              "      <td>0</td>\n",
              "      <td>0</td>\n",
              "      <td>0</td>\n",
              "      <td>0</td>\n",
              "      <td>0</td>\n",
              "    </tr>\n",
              "  </tbody>\n",
              "</table>\n",
              "<p>3 rows × 207 columns</p>\n",
              "</div>"
            ],
            "text/plain": [
              "        purchase_value  age  ...  period_Evening  period_nan\n",
              "118797              46   39  ...               0           0\n",
              "64900               24   26  ...               1           0\n",
              "65178               46   45  ...               0           0\n",
              "\n",
              "[3 rows x 207 columns]"
            ]
          },
          "metadata": {
            "tags": []
          },
          "execution_count": 293
        }
      ]
    },
    {
      "cell_type": "code",
      "metadata": {
        "id": "ilv4bs5YF4bs",
        "colab_type": "code",
        "colab": {}
      },
      "source": [
        "X_train = train_new.drop([\"class\"], axis=1)\n",
        "y_train = train_new[\"class\"] "
      ],
      "execution_count": 0,
      "outputs": []
    },
    {
      "cell_type": "code",
      "metadata": {
        "id": "7soo3wkfz0Ut",
        "colab_type": "code",
        "colab": {}
      },
      "source": [
        "X_test = test.drop([\"class\"], axis=1)\n",
        "y_test = test[\"class\"] "
      ],
      "execution_count": 0,
      "outputs": []
    },
    {
      "cell_type": "code",
      "metadata": {
        "id": "flK68zBtGsc8",
        "colab_type": "code",
        "colab": {
          "base_uri": "https://localhost:8080/",
          "height": 286
        },
        "outputId": "2bc7845c-2b34-49f6-9c86-6688d173dae1"
      },
      "source": [
        "X_test.head()"
      ],
      "execution_count": 296,
      "outputs": [
        {
          "output_type": "execute_result",
          "data": {
            "text/html": [
              "<div>\n",
              "<style scoped>\n",
              "    .dataframe tbody tr th:only-of-type {\n",
              "        vertical-align: middle;\n",
              "    }\n",
              "\n",
              "    .dataframe tbody tr th {\n",
              "        vertical-align: top;\n",
              "    }\n",
              "\n",
              "    .dataframe thead th {\n",
              "        text-align: right;\n",
              "    }\n",
              "</style>\n",
              "<table border=\"1\" class=\"dataframe\">\n",
              "  <thead>\n",
              "    <tr style=\"text-align: right;\">\n",
              "      <th></th>\n",
              "      <th>purchase_value</th>\n",
              "      <th>age</th>\n",
              "      <th>duration_second</th>\n",
              "      <th>diff_jours</th>\n",
              "      <th>diff_heures</th>\n",
              "      <th>diff_minutes</th>\n",
              "      <th>diff_secondes</th>\n",
              "      <th>source_Direct</th>\n",
              "      <th>source_SEO</th>\n",
              "      <th>source_nan</th>\n",
              "      <th>browser_FireFox</th>\n",
              "      <th>browser_IE</th>\n",
              "      <th>browser_Opera</th>\n",
              "      <th>browser_Safari</th>\n",
              "      <th>browser_nan</th>\n",
              "      <th>sex_M</th>\n",
              "      <th>sex_nan</th>\n",
              "      <th>country_Albania</th>\n",
              "      <th>country_Algeria</th>\n",
              "      <th>country_Angola</th>\n",
              "      <th>country_Antigua and Barbuda</th>\n",
              "      <th>country_Argentina</th>\n",
              "      <th>country_Armenia</th>\n",
              "      <th>country_Australia</th>\n",
              "      <th>country_Austria</th>\n",
              "      <th>country_Azerbaijan</th>\n",
              "      <th>country_Bahamas</th>\n",
              "      <th>country_Bahrain</th>\n",
              "      <th>country_Bangladesh</th>\n",
              "      <th>country_Barbados</th>\n",
              "      <th>country_Belarus</th>\n",
              "      <th>country_Belgium</th>\n",
              "      <th>country_Belize</th>\n",
              "      <th>country_Benin</th>\n",
              "      <th>country_Bermuda</th>\n",
              "      <th>country_Bhutan</th>\n",
              "      <th>country_Bolivia</th>\n",
              "      <th>country_Bonaire; Sint Eustatius; Saba</th>\n",
              "      <th>country_Bosnia and Herzegowina</th>\n",
              "      <th>country_Botswana</th>\n",
              "      <th>...</th>\n",
              "      <th>country_Slovenia</th>\n",
              "      <th>country_South Africa</th>\n",
              "      <th>country_South Sudan</th>\n",
              "      <th>country_Spain</th>\n",
              "      <th>country_Sri Lanka</th>\n",
              "      <th>country_Sudan</th>\n",
              "      <th>country_Sweden</th>\n",
              "      <th>country_Switzerland</th>\n",
              "      <th>country_Syrian Arab Republic</th>\n",
              "      <th>country_Taiwan; Republic of China (ROC)</th>\n",
              "      <th>country_Tajikistan</th>\n",
              "      <th>country_Tanzania United Republic of</th>\n",
              "      <th>country_Thailand</th>\n",
              "      <th>country_Trinidad and Tobago</th>\n",
              "      <th>country_Tunisia</th>\n",
              "      <th>country_Turkey</th>\n",
              "      <th>country_Turkmenistan</th>\n",
              "      <th>country_Uganda</th>\n",
              "      <th>country_Ukraine</th>\n",
              "      <th>country_United Arab Emirates</th>\n",
              "      <th>country_United Kingdom</th>\n",
              "      <th>country_United States</th>\n",
              "      <th>country_Uruguay</th>\n",
              "      <th>country_Uzbekistan</th>\n",
              "      <th>country_Vanuatu</th>\n",
              "      <th>country_Venezuela</th>\n",
              "      <th>country_Viet Nam</th>\n",
              "      <th>country_Virgin Islands (U.S.)</th>\n",
              "      <th>country_Yemen</th>\n",
              "      <th>country_Zambia</th>\n",
              "      <th>country_Zimbabwe</th>\n",
              "      <th>country_nan</th>\n",
              "      <th>country_nan</th>\n",
              "      <th>Alerte_not_sure</th>\n",
              "      <th>Alerte_safe</th>\n",
              "      <th>Alerte_nan</th>\n",
              "      <th>period_Morning</th>\n",
              "      <th>period_Afternoon</th>\n",
              "      <th>period_Evening</th>\n",
              "      <th>period_nan</th>\n",
              "    </tr>\n",
              "  </thead>\n",
              "  <tbody>\n",
              "    <tr>\n",
              "      <th>34115</th>\n",
              "      <td>28</td>\n",
              "      <td>31</td>\n",
              "      <td>8156884.0</td>\n",
              "      <td>94</td>\n",
              "      <td>9</td>\n",
              "      <td>48</td>\n",
              "      <td>4</td>\n",
              "      <td>0</td>\n",
              "      <td>1</td>\n",
              "      <td>0</td>\n",
              "      <td>0</td>\n",
              "      <td>0</td>\n",
              "      <td>0</td>\n",
              "      <td>1</td>\n",
              "      <td>0</td>\n",
              "      <td>1</td>\n",
              "      <td>0</td>\n",
              "      <td>0</td>\n",
              "      <td>0</td>\n",
              "      <td>0</td>\n",
              "      <td>0</td>\n",
              "      <td>0</td>\n",
              "      <td>0</td>\n",
              "      <td>0</td>\n",
              "      <td>0</td>\n",
              "      <td>0</td>\n",
              "      <td>0</td>\n",
              "      <td>0</td>\n",
              "      <td>0</td>\n",
              "      <td>0</td>\n",
              "      <td>0</td>\n",
              "      <td>0</td>\n",
              "      <td>0</td>\n",
              "      <td>0</td>\n",
              "      <td>0</td>\n",
              "      <td>0</td>\n",
              "      <td>0</td>\n",
              "      <td>0</td>\n",
              "      <td>0</td>\n",
              "      <td>0</td>\n",
              "      <td>...</td>\n",
              "      <td>0</td>\n",
              "      <td>0</td>\n",
              "      <td>0</td>\n",
              "      <td>0</td>\n",
              "      <td>0</td>\n",
              "      <td>0</td>\n",
              "      <td>0</td>\n",
              "      <td>0</td>\n",
              "      <td>0</td>\n",
              "      <td>0</td>\n",
              "      <td>0</td>\n",
              "      <td>0</td>\n",
              "      <td>0</td>\n",
              "      <td>0</td>\n",
              "      <td>0</td>\n",
              "      <td>0</td>\n",
              "      <td>0</td>\n",
              "      <td>0</td>\n",
              "      <td>0</td>\n",
              "      <td>0</td>\n",
              "      <td>0</td>\n",
              "      <td>0</td>\n",
              "      <td>0</td>\n",
              "      <td>0</td>\n",
              "      <td>0</td>\n",
              "      <td>0</td>\n",
              "      <td>0</td>\n",
              "      <td>0</td>\n",
              "      <td>0</td>\n",
              "      <td>0</td>\n",
              "      <td>0</td>\n",
              "      <td>1</td>\n",
              "      <td>0</td>\n",
              "      <td>0</td>\n",
              "      <td>0</td>\n",
              "      <td>0</td>\n",
              "      <td>0</td>\n",
              "      <td>0</td>\n",
              "      <td>1</td>\n",
              "      <td>0</td>\n",
              "    </tr>\n",
              "    <tr>\n",
              "      <th>39243</th>\n",
              "      <td>52</td>\n",
              "      <td>26</td>\n",
              "      <td>1973900.0</td>\n",
              "      <td>22</td>\n",
              "      <td>20</td>\n",
              "      <td>18</td>\n",
              "      <td>20</td>\n",
              "      <td>1</td>\n",
              "      <td>0</td>\n",
              "      <td>0</td>\n",
              "      <td>0</td>\n",
              "      <td>0</td>\n",
              "      <td>0</td>\n",
              "      <td>0</td>\n",
              "      <td>0</td>\n",
              "      <td>1</td>\n",
              "      <td>0</td>\n",
              "      <td>0</td>\n",
              "      <td>0</td>\n",
              "      <td>0</td>\n",
              "      <td>0</td>\n",
              "      <td>0</td>\n",
              "      <td>0</td>\n",
              "      <td>1</td>\n",
              "      <td>0</td>\n",
              "      <td>0</td>\n",
              "      <td>0</td>\n",
              "      <td>0</td>\n",
              "      <td>0</td>\n",
              "      <td>0</td>\n",
              "      <td>0</td>\n",
              "      <td>0</td>\n",
              "      <td>0</td>\n",
              "      <td>0</td>\n",
              "      <td>0</td>\n",
              "      <td>0</td>\n",
              "      <td>0</td>\n",
              "      <td>0</td>\n",
              "      <td>0</td>\n",
              "      <td>0</td>\n",
              "      <td>...</td>\n",
              "      <td>0</td>\n",
              "      <td>0</td>\n",
              "      <td>0</td>\n",
              "      <td>0</td>\n",
              "      <td>0</td>\n",
              "      <td>0</td>\n",
              "      <td>0</td>\n",
              "      <td>0</td>\n",
              "      <td>0</td>\n",
              "      <td>0</td>\n",
              "      <td>0</td>\n",
              "      <td>0</td>\n",
              "      <td>0</td>\n",
              "      <td>0</td>\n",
              "      <td>0</td>\n",
              "      <td>0</td>\n",
              "      <td>0</td>\n",
              "      <td>0</td>\n",
              "      <td>0</td>\n",
              "      <td>0</td>\n",
              "      <td>0</td>\n",
              "      <td>0</td>\n",
              "      <td>0</td>\n",
              "      <td>0</td>\n",
              "      <td>0</td>\n",
              "      <td>0</td>\n",
              "      <td>0</td>\n",
              "      <td>0</td>\n",
              "      <td>0</td>\n",
              "      <td>0</td>\n",
              "      <td>0</td>\n",
              "      <td>0</td>\n",
              "      <td>0</td>\n",
              "      <td>0</td>\n",
              "      <td>0</td>\n",
              "      <td>0</td>\n",
              "      <td>0</td>\n",
              "      <td>1</td>\n",
              "      <td>0</td>\n",
              "      <td>0</td>\n",
              "    </tr>\n",
              "    <tr>\n",
              "      <th>29146</th>\n",
              "      <td>20</td>\n",
              "      <td>35</td>\n",
              "      <td>1.0</td>\n",
              "      <td>0</td>\n",
              "      <td>0</td>\n",
              "      <td>0</td>\n",
              "      <td>1</td>\n",
              "      <td>1</td>\n",
              "      <td>0</td>\n",
              "      <td>0</td>\n",
              "      <td>0</td>\n",
              "      <td>0</td>\n",
              "      <td>0</td>\n",
              "      <td>0</td>\n",
              "      <td>0</td>\n",
              "      <td>0</td>\n",
              "      <td>0</td>\n",
              "      <td>0</td>\n",
              "      <td>0</td>\n",
              "      <td>0</td>\n",
              "      <td>0</td>\n",
              "      <td>0</td>\n",
              "      <td>0</td>\n",
              "      <td>0</td>\n",
              "      <td>0</td>\n",
              "      <td>0</td>\n",
              "      <td>0</td>\n",
              "      <td>0</td>\n",
              "      <td>0</td>\n",
              "      <td>0</td>\n",
              "      <td>0</td>\n",
              "      <td>0</td>\n",
              "      <td>0</td>\n",
              "      <td>0</td>\n",
              "      <td>0</td>\n",
              "      <td>0</td>\n",
              "      <td>0</td>\n",
              "      <td>0</td>\n",
              "      <td>0</td>\n",
              "      <td>0</td>\n",
              "      <td>...</td>\n",
              "      <td>0</td>\n",
              "      <td>0</td>\n",
              "      <td>0</td>\n",
              "      <td>0</td>\n",
              "      <td>0</td>\n",
              "      <td>0</td>\n",
              "      <td>0</td>\n",
              "      <td>0</td>\n",
              "      <td>0</td>\n",
              "      <td>0</td>\n",
              "      <td>0</td>\n",
              "      <td>0</td>\n",
              "      <td>0</td>\n",
              "      <td>0</td>\n",
              "      <td>0</td>\n",
              "      <td>0</td>\n",
              "      <td>0</td>\n",
              "      <td>0</td>\n",
              "      <td>0</td>\n",
              "      <td>0</td>\n",
              "      <td>0</td>\n",
              "      <td>0</td>\n",
              "      <td>0</td>\n",
              "      <td>0</td>\n",
              "      <td>0</td>\n",
              "      <td>0</td>\n",
              "      <td>0</td>\n",
              "      <td>0</td>\n",
              "      <td>0</td>\n",
              "      <td>0</td>\n",
              "      <td>0</td>\n",
              "      <td>1</td>\n",
              "      <td>0</td>\n",
              "      <td>0</td>\n",
              "      <td>0</td>\n",
              "      <td>0</td>\n",
              "      <td>0</td>\n",
              "      <td>0</td>\n",
              "      <td>0</td>\n",
              "      <td>0</td>\n",
              "    </tr>\n",
              "    <tr>\n",
              "      <th>38648</th>\n",
              "      <td>51</td>\n",
              "      <td>35</td>\n",
              "      <td>9036847.0</td>\n",
              "      <td>104</td>\n",
              "      <td>14</td>\n",
              "      <td>14</td>\n",
              "      <td>7</td>\n",
              "      <td>0</td>\n",
              "      <td>1</td>\n",
              "      <td>0</td>\n",
              "      <td>0</td>\n",
              "      <td>0</td>\n",
              "      <td>1</td>\n",
              "      <td>0</td>\n",
              "      <td>0</td>\n",
              "      <td>0</td>\n",
              "      <td>0</td>\n",
              "      <td>0</td>\n",
              "      <td>0</td>\n",
              "      <td>0</td>\n",
              "      <td>0</td>\n",
              "      <td>0</td>\n",
              "      <td>0</td>\n",
              "      <td>0</td>\n",
              "      <td>0</td>\n",
              "      <td>0</td>\n",
              "      <td>0</td>\n",
              "      <td>0</td>\n",
              "      <td>0</td>\n",
              "      <td>0</td>\n",
              "      <td>0</td>\n",
              "      <td>0</td>\n",
              "      <td>0</td>\n",
              "      <td>0</td>\n",
              "      <td>0</td>\n",
              "      <td>0</td>\n",
              "      <td>0</td>\n",
              "      <td>0</td>\n",
              "      <td>0</td>\n",
              "      <td>0</td>\n",
              "      <td>...</td>\n",
              "      <td>0</td>\n",
              "      <td>0</td>\n",
              "      <td>0</td>\n",
              "      <td>0</td>\n",
              "      <td>0</td>\n",
              "      <td>0</td>\n",
              "      <td>0</td>\n",
              "      <td>0</td>\n",
              "      <td>0</td>\n",
              "      <td>0</td>\n",
              "      <td>0</td>\n",
              "      <td>0</td>\n",
              "      <td>0</td>\n",
              "      <td>0</td>\n",
              "      <td>0</td>\n",
              "      <td>0</td>\n",
              "      <td>0</td>\n",
              "      <td>0</td>\n",
              "      <td>0</td>\n",
              "      <td>0</td>\n",
              "      <td>0</td>\n",
              "      <td>0</td>\n",
              "      <td>0</td>\n",
              "      <td>0</td>\n",
              "      <td>0</td>\n",
              "      <td>0</td>\n",
              "      <td>0</td>\n",
              "      <td>0</td>\n",
              "      <td>0</td>\n",
              "      <td>0</td>\n",
              "      <td>0</td>\n",
              "      <td>0</td>\n",
              "      <td>0</td>\n",
              "      <td>0</td>\n",
              "      <td>0</td>\n",
              "      <td>0</td>\n",
              "      <td>0</td>\n",
              "      <td>0</td>\n",
              "      <td>0</td>\n",
              "      <td>0</td>\n",
              "    </tr>\n",
              "    <tr>\n",
              "      <th>148971</th>\n",
              "      <td>16</td>\n",
              "      <td>20</td>\n",
              "      <td>3784282.0</td>\n",
              "      <td>43</td>\n",
              "      <td>19</td>\n",
              "      <td>11</td>\n",
              "      <td>22</td>\n",
              "      <td>0</td>\n",
              "      <td>0</td>\n",
              "      <td>0</td>\n",
              "      <td>0</td>\n",
              "      <td>0</td>\n",
              "      <td>0</td>\n",
              "      <td>0</td>\n",
              "      <td>0</td>\n",
              "      <td>1</td>\n",
              "      <td>0</td>\n",
              "      <td>0</td>\n",
              "      <td>0</td>\n",
              "      <td>0</td>\n",
              "      <td>0</td>\n",
              "      <td>0</td>\n",
              "      <td>0</td>\n",
              "      <td>0</td>\n",
              "      <td>0</td>\n",
              "      <td>0</td>\n",
              "      <td>0</td>\n",
              "      <td>0</td>\n",
              "      <td>0</td>\n",
              "      <td>0</td>\n",
              "      <td>0</td>\n",
              "      <td>0</td>\n",
              "      <td>0</td>\n",
              "      <td>0</td>\n",
              "      <td>0</td>\n",
              "      <td>0</td>\n",
              "      <td>0</td>\n",
              "      <td>0</td>\n",
              "      <td>0</td>\n",
              "      <td>0</td>\n",
              "      <td>...</td>\n",
              "      <td>0</td>\n",
              "      <td>0</td>\n",
              "      <td>0</td>\n",
              "      <td>0</td>\n",
              "      <td>0</td>\n",
              "      <td>0</td>\n",
              "      <td>0</td>\n",
              "      <td>0</td>\n",
              "      <td>0</td>\n",
              "      <td>0</td>\n",
              "      <td>0</td>\n",
              "      <td>0</td>\n",
              "      <td>0</td>\n",
              "      <td>0</td>\n",
              "      <td>0</td>\n",
              "      <td>0</td>\n",
              "      <td>0</td>\n",
              "      <td>0</td>\n",
              "      <td>0</td>\n",
              "      <td>0</td>\n",
              "      <td>0</td>\n",
              "      <td>1</td>\n",
              "      <td>0</td>\n",
              "      <td>0</td>\n",
              "      <td>0</td>\n",
              "      <td>0</td>\n",
              "      <td>0</td>\n",
              "      <td>0</td>\n",
              "      <td>0</td>\n",
              "      <td>0</td>\n",
              "      <td>0</td>\n",
              "      <td>0</td>\n",
              "      <td>0</td>\n",
              "      <td>0</td>\n",
              "      <td>0</td>\n",
              "      <td>0</td>\n",
              "      <td>0</td>\n",
              "      <td>1</td>\n",
              "      <td>0</td>\n",
              "      <td>0</td>\n",
              "    </tr>\n",
              "  </tbody>\n",
              "</table>\n",
              "<p>5 rows × 206 columns</p>\n",
              "</div>"
            ],
            "text/plain": [
              "        purchase_value  age  ...  period_Evening  period_nan\n",
              "34115               28   31  ...               1           0\n",
              "39243               52   26  ...               0           0\n",
              "29146               20   35  ...               0           0\n",
              "38648               51   35  ...               0           0\n",
              "148971              16   20  ...               0           0\n",
              "\n",
              "[5 rows x 206 columns]"
            ]
          },
          "metadata": {
            "tags": []
          },
          "execution_count": 296
        }
      ]
    },
    {
      "cell_type": "code",
      "metadata": {
        "id": "2xBCzexEGtOG",
        "colab_type": "code",
        "colab": {}
      },
      "source": [
        "from sklearn.preprocessing import StandardScaler\n",
        "\n",
        "sc = StandardScaler()\n",
        "X_train = sc.fit_transform(X_train)\n",
        "X_test = sc.transform(X_test) "
      ],
      "execution_count": 0,
      "outputs": []
    },
    {
      "cell_type": "code",
      "metadata": {
        "id": "FprtKkqXGtKO",
        "colab_type": "code",
        "colab": {
          "base_uri": "https://localhost:8080/",
          "height": 243
        },
        "outputId": "55157197-843b-4e75-e603-107efe5d0326"
      },
      "source": [
        "X_train"
      ],
      "execution_count": 298,
      "outputs": [
        {
          "output_type": "execute_result",
          "data": {
            "text/plain": [
              "array([[ 0.49036418,  0.66748942,  1.14093096, ..., -0.59289515,\n",
              "        -0.50249095,  0.        ],\n",
              "       [-0.70450426, -0.83485176,  1.41059887, ..., -0.59289515,\n",
              "         1.99008559,  0.        ],\n",
              "       [ 0.49036418,  1.36087766, -1.10384274, ..., -0.59289515,\n",
              "        -0.50249095,  0.        ],\n",
              "       ...,\n",
              "       [-0.86744087,  0.89861884, -0.48641402, ..., -0.59289515,\n",
              "        -0.50249095,  0.        ],\n",
              "       [ 0.43605198,  2.0542659 ,  1.63145675, ..., -0.59289515,\n",
              "        -0.50249095,  0.        ],\n",
              "       [ 1.52229601,  0.43636001,  1.57533757, ..., -0.59289515,\n",
              "        -0.50249095,  0.        ]])"
            ]
          },
          "metadata": {
            "tags": []
          },
          "execution_count": 298
        }
      ]
    },
    {
      "cell_type": "markdown",
      "metadata": {
        "id": "QXuvU5db54E0",
        "colab_type": "text"
      },
      "source": [
        "**MODELE** 1 : Logistic Regression "
      ]
    },
    {
      "cell_type": "code",
      "metadata": {
        "id": "vRQ16tf77L3I",
        "colab_type": "code",
        "colab": {
          "base_uri": "https://localhost:8080/",
          "height": 139
        },
        "outputId": "bb7d9d4d-3c65-4348-a782-6a58fa4b677e"
      },
      "source": [
        "from sklearn.linear_model import LogisticRegression\n",
        "classifier = LogisticRegression()\n",
        "classifier.fit(X_train, y_train)"
      ],
      "execution_count": 299,
      "outputs": [
        {
          "output_type": "stream",
          "text": [
            "/usr/local/lib/python3.6/dist-packages/sklearn/linear_model/logistic.py:432: FutureWarning: Default solver will be changed to 'lbfgs' in 0.22. Specify a solver to silence this warning.\n",
            "  FutureWarning)\n"
          ],
          "name": "stderr"
        },
        {
          "output_type": "execute_result",
          "data": {
            "text/plain": [
              "LogisticRegression(C=1.0, class_weight=None, dual=False, fit_intercept=True,\n",
              "                   intercept_scaling=1, l1_ratio=None, max_iter=100,\n",
              "                   multi_class='warn', n_jobs=None, penalty='l2',\n",
              "                   random_state=None, solver='warn', tol=0.0001, verbose=0,\n",
              "                   warm_start=False)"
            ]
          },
          "metadata": {
            "tags": []
          },
          "execution_count": 299
        }
      ]
    },
    {
      "cell_type": "code",
      "metadata": {
        "id": "_JlFmIbl5-ZF",
        "colab_type": "code",
        "colab": {
          "base_uri": "https://localhost:8080/",
          "height": 35
        },
        "outputId": "744cb2d4-53b8-491c-8c8a-20db7cf0c714"
      },
      "source": [
        "classifier.score(X_test, y_test)"
      ],
      "execution_count": 300,
      "outputs": [
        {
          "output_type": "execute_result",
          "data": {
            "text/plain": [
              "0.7705033749503684"
            ]
          },
          "metadata": {
            "tags": []
          },
          "execution_count": 300
        }
      ]
    },
    {
      "cell_type": "markdown",
      "metadata": {
        "id": "ZOfpPQ2J7hIL",
        "colab_type": "text"
      },
      "source": [
        "####Score moyen sur une cross-validation avec K=10"
      ]
    },
    {
      "cell_type": "code",
      "metadata": {
        "id": "2D4uYfei5-w-",
        "colab_type": "code",
        "colab": {
          "base_uri": "https://localhost:8080/",
          "height": 381
        },
        "outputId": "9633bf5c-0322-4600-fca3-5ba56e130ae7"
      },
      "source": [
        "from sklearn.model_selection import cross_val_score\n",
        "#cross_val_score(classifier,X, y, cv=10)#.std()\n",
        "cross_val_score(classifier, X_test, y_test, cv=10).mean()"
      ],
      "execution_count": 301,
      "outputs": [
        {
          "output_type": "stream",
          "text": [
            "/usr/local/lib/python3.6/dist-packages/sklearn/linear_model/logistic.py:432: FutureWarning: Default solver will be changed to 'lbfgs' in 0.22. Specify a solver to silence this warning.\n",
            "  FutureWarning)\n",
            "/usr/local/lib/python3.6/dist-packages/sklearn/linear_model/logistic.py:432: FutureWarning: Default solver will be changed to 'lbfgs' in 0.22. Specify a solver to silence this warning.\n",
            "  FutureWarning)\n",
            "/usr/local/lib/python3.6/dist-packages/sklearn/linear_model/logistic.py:432: FutureWarning: Default solver will be changed to 'lbfgs' in 0.22. Specify a solver to silence this warning.\n",
            "  FutureWarning)\n",
            "/usr/local/lib/python3.6/dist-packages/sklearn/linear_model/logistic.py:432: FutureWarning: Default solver will be changed to 'lbfgs' in 0.22. Specify a solver to silence this warning.\n",
            "  FutureWarning)\n",
            "/usr/local/lib/python3.6/dist-packages/sklearn/linear_model/logistic.py:432: FutureWarning: Default solver will be changed to 'lbfgs' in 0.22. Specify a solver to silence this warning.\n",
            "  FutureWarning)\n",
            "/usr/local/lib/python3.6/dist-packages/sklearn/linear_model/logistic.py:432: FutureWarning: Default solver will be changed to 'lbfgs' in 0.22. Specify a solver to silence this warning.\n",
            "  FutureWarning)\n",
            "/usr/local/lib/python3.6/dist-packages/sklearn/linear_model/logistic.py:432: FutureWarning: Default solver will be changed to 'lbfgs' in 0.22. Specify a solver to silence this warning.\n",
            "  FutureWarning)\n",
            "/usr/local/lib/python3.6/dist-packages/sklearn/linear_model/logistic.py:432: FutureWarning: Default solver will be changed to 'lbfgs' in 0.22. Specify a solver to silence this warning.\n",
            "  FutureWarning)\n",
            "/usr/local/lib/python3.6/dist-packages/sklearn/linear_model/logistic.py:432: FutureWarning: Default solver will be changed to 'lbfgs' in 0.22. Specify a solver to silence this warning.\n",
            "  FutureWarning)\n",
            "/usr/local/lib/python3.6/dist-packages/sklearn/linear_model/logistic.py:432: FutureWarning: Default solver will be changed to 'lbfgs' in 0.22. Specify a solver to silence this warning.\n",
            "  FutureWarning)\n"
          ],
          "name": "stderr"
        },
        {
          "output_type": "execute_result",
          "data": {
            "text/plain": [
              "0.9545593983621948"
            ]
          },
          "metadata": {
            "tags": []
          },
          "execution_count": 301
        }
      ]
    },
    {
      "cell_type": "code",
      "metadata": {
        "id": "Xl2JM2_57pN3",
        "colab_type": "code",
        "colab": {}
      },
      "source": [
        "y_pred = classifier.predict(X_test)"
      ],
      "execution_count": 0,
      "outputs": []
    },
    {
      "cell_type": "markdown",
      "metadata": {
        "id": "SttQZV6y7ulY",
        "colab_type": "text"
      },
      "source": [
        "####Matrice de confusion pour vos prédictions sur l’échantillon de test et d’apprentissage"
      ]
    },
    {
      "cell_type": "code",
      "metadata": {
        "id": "oAaZHFXq7o--",
        "colab_type": "code",
        "colab": {
          "base_uri": "https://localhost:8080/",
          "height": 292
        },
        "outputId": "e77c1b20-9741-4400-b4d6-862e5e3a4226"
      },
      "source": [
        "from sklearn.metrics import confusion_matrix\n",
        "cm = confusion_matrix(y_test, y_pred)\n",
        "sns.heatmap(cm, annot=True, fmt=\"d\")"
      ],
      "execution_count": 303,
      "outputs": [
        {
          "output_type": "execute_result",
          "data": {
            "text/plain": [
              "<matplotlib.axes._subplots.AxesSubplot at 0x7f090640fe10>"
            ]
          },
          "metadata": {
            "tags": []
          },
          "execution_count": 303
        },
        {
          "output_type": "display_data",
          "data": {
            "image/png": "[encoded data removed]",
            "text/plain": [
              "<Figure size 432x288 with 2 Axes>"
            ]
          },
          "metadata": {
            "tags": []
          }
        }
      ]
    },
    {
      "cell_type": "markdown",
      "metadata": {
        "id": "AmpH6LCgterO",
        "colab_type": "text"
      },
      "source": [
        "**MODELE** 2 : SVM\n"
      ]
    },
    {
      "cell_type": "code",
      "metadata": {
        "id": "oajF3bAjtvMv",
        "colab_type": "code",
        "colab": {
          "base_uri": "https://localhost:8080/",
          "height": 35
        },
        "outputId": "bd9abd52-3339-4011-a6e5-1399e60cd29f"
      },
      "source": [
        "from sklearn import svm\n",
        "sv = svm.SVC(gamma='scale')\n",
        "sv.fit(X_train, y_train)\n",
        "sv.score(X_test, y_test)"
      ],
      "execution_count": 304,
      "outputs": [
        {
          "output_type": "execute_result",
          "data": {
            "text/plain": [
              "0.9321039396479464"
            ]
          },
          "metadata": {
            "tags": []
          },
          "execution_count": 304
        }
      ]
    },
    {
      "cell_type": "markdown",
      "metadata": {
        "id": "FGKig4lb503z",
        "colab_type": "text"
      },
      "source": [
        "**MODELE** 3 : Arbre de décision"
      ]
    },
    {
      "cell_type": "code",
      "metadata": {
        "id": "gQBiqSZTxl9N",
        "colab_type": "code",
        "colab": {
          "base_uri": "https://localhost:8080/",
          "height": 121
        },
        "outputId": "55791cf3-b587-484d-b165-b5bbaa7eaf26"
      },
      "source": [
        "from sklearn.tree import DecisionTreeClassifier\n",
        "classifier_trees = DecisionTreeClassifier()\n",
        "classifier_trees.fit(X_train, y_train)"
      ],
      "execution_count": 305,
      "outputs": [
        {
          "output_type": "execute_result",
          "data": {
            "text/plain": [
              "DecisionTreeClassifier(class_weight=None, criterion='gini', max_depth=None,\n",
              "                       max_features=None, max_leaf_nodes=None,\n",
              "                       min_impurity_decrease=0.0, min_impurity_split=None,\n",
              "                       min_samples_leaf=1, min_samples_split=2,\n",
              "                       min_weight_fraction_leaf=0.0, presort=False,\n",
              "                       random_state=None, splitter='best')"
            ]
          },
          "metadata": {
            "tags": []
          },
          "execution_count": 305
        }
      ]
    },
    {
      "cell_type": "code",
      "metadata": {
        "id": "cBoO1FNK5KFX",
        "colab_type": "code",
        "colab": {
          "base_uri": "https://localhost:8080/",
          "height": 35
        },
        "outputId": "58608b06-843c-41de-cbc4-43444b77bb39"
      },
      "source": [
        "classifier_trees.score(X_test, y_test)"
      ],
      "execution_count": 306,
      "outputs": [
        {
          "output_type": "execute_result",
          "data": {
            "text/plain": [
              "0.6767547536065646"
            ]
          },
          "metadata": {
            "tags": []
          },
          "execution_count": 306
        }
      ]
    },
    {
      "cell_type": "markdown",
      "metadata": {
        "id": "1T5VlDXA5kSr",
        "colab_type": "text"
      },
      "source": [
        "**MODELE** 4 : Essayons d'améliorer notre score. Nous allons faire une Random Forest avec 100 arbres de decision"
      ]
    },
    {
      "cell_type": "code",
      "metadata": {
        "id": "5AX57KpM5XwO",
        "colab_type": "code",
        "colab": {
          "base_uri": "https://localhost:8080/",
          "height": 35
        },
        "outputId": "4d7a048a-534b-4fcb-8a67-e5ab863c35fb"
      },
      "source": [
        "from sklearn.ensemble import RandomForestClassifier\n",
        "rf_classifier = RandomForestClassifier(n_estimators=100)\n",
        "rf_classifier.fit(X_train, y_train)\n",
        "rf_classifier.score(X_test, y_test)"
      ],
      "execution_count": 307,
      "outputs": [
        {
          "output_type": "execute_result",
          "data": {
            "text/plain": [
              "0.9464860810870428"
            ]
          },
          "metadata": {
            "tags": []
          },
          "execution_count": 307
        }
      ]
    },
    {
      "cell_type": "markdown",
      "metadata": {
        "id": "RufzYi_v5etl",
        "colab_type": "text"
      },
      "source": [
        "Refaire le modèle avec uniquement 20 arbres "
      ]
    },
    {
      "cell_type": "code",
      "metadata": {
        "id": "9fPry_eP5c_u",
        "colab_type": "code",
        "colab": {
          "base_uri": "https://localhost:8080/",
          "height": 35
        },
        "outputId": "13b56c68-397f-4a26-bf82-d401d580711e"
      },
      "source": [
        "rf_classifier = RandomForestClassifier(n_estimators=20)\n",
        "rf_classifier.fit(X_train, y_train)\n",
        "rf_classifier.score(X_test, y_test)"
      ],
      "execution_count": 308,
      "outputs": [
        {
          "output_type": "execute_result",
          "data": {
            "text/plain": [
              "0.9136189173688622"
            ]
          },
          "metadata": {
            "tags": []
          },
          "execution_count": 308
        }
      ]
    },
    {
      "cell_type": "markdown",
      "metadata": {
        "id": "wjupOHyo6R8F",
        "colab_type": "text"
      },
      "source": [
        "**Grid Search** pour trouver le nombre optimum d'arbres "
      ]
    },
    {
      "cell_type": "code",
      "metadata": {
        "id": "s8C11zWm6QFv",
        "colab_type": "code",
        "colab": {
          "base_uri": "https://localhost:8080/",
          "height": 87
        },
        "outputId": "af8864c2-ad74-46a9-dda7-315dc783fc09"
      },
      "source": [
        "from sklearn.model_selection import GridSearchCV\n",
        "params = {\"n_estimators\": range(20, 60)}\n",
        "\n",
        "classifier = GridSearchCV(cv=3, estimator=rf_classifier, scoring=\"accuracy\", n_jobs=-1, verbose=1, param_grid=params).fit(X_train, y_train)"
      ],
      "execution_count": 309,
      "outputs": [
        {
          "output_type": "stream",
          "text": [
            "Fitting 3 folds for each of 40 candidates, totalling 120 fits\n"
          ],
          "name": "stdout"
        },
        {
          "output_type": "stream",
          "text": [
            "[Parallel(n_jobs=-1)]: Using backend LokyBackend with 2 concurrent workers.\n",
            "[Parallel(n_jobs=-1)]: Done  46 tasks      | elapsed:   28.7s\n",
            "[Parallel(n_jobs=-1)]: Done 120 out of 120 | elapsed:  1.7min finished\n"
          ],
          "name": "stderr"
        }
      ]
    },
    {
      "cell_type": "code",
      "metadata": {
        "id": "COBlidYx6QjM",
        "colab_type": "code",
        "colab": {
          "base_uri": "https://localhost:8080/",
          "height": 35
        },
        "outputId": "91a26049-77c9-4fdf-e5d5-50042da2ce66"
      },
      "source": [
        "classifier.best_params_"
      ],
      "execution_count": 310,
      "outputs": [
        {
          "output_type": "execute_result",
          "data": {
            "text/plain": [
              "{'n_estimators': 54}"
            ]
          },
          "metadata": {
            "tags": []
          },
          "execution_count": 310
        }
      ]
    },
    {
      "cell_type": "code",
      "metadata": {
        "id": "n6H1x9Ec6Og-",
        "colab_type": "code",
        "colab": {
          "base_uri": "https://localhost:8080/",
          "height": 35
        },
        "outputId": "236c5e82-b7b5-4648-84b6-9323a0afa5fd"
      },
      "source": [
        "classifier.best_estimator_.score(X_test, y_test)"
      ],
      "execution_count": 311,
      "outputs": [
        {
          "output_type": "execute_result",
          "data": {
            "text/plain": [
              "0.9374200379406186"
            ]
          },
          "metadata": {
            "tags": []
          },
          "execution_count": 311
        }
      ]
    },
    {
      "cell_type": "code",
      "metadata": {
        "id": "HjztoQajI1WA",
        "colab_type": "code",
        "colab": {}
      },
      "source": [
        "from sklearn.ensemble import VotingClassifier\n",
        "votingC = VotingClassifier(estimators=[(\"DecisionTreeClassifier\", classifier_trees),(\"Random Forest\",rf_classifier),(\"LogisticRegression\",classifier),(\"SVM\",sv)], \n",
        "                           voting='hard', \n",
        "                           n_jobs=-1)\n",
        "\n",
        "votingC = votingC.fit(X_train, np.ravel(y_train))"
      ],
      "execution_count": 0,
      "outputs": []
    },
    {
      "cell_type": "code",
      "metadata": {
        "id": "UUmQSTeZztzi",
        "colab_type": "code",
        "colab": {
          "base_uri": "https://localhost:8080/",
          "height": 35
        },
        "outputId": "61e51547-1919-477e-b461-2a2a3f8322d7"
      },
      "source": [
        "votingC.score(X_test, y_test)"
      ],
      "execution_count": 317,
      "outputs": [
        {
          "output_type": "execute_result",
          "data": {
            "text/plain": [
              "0.951802179379715"
            ]
          },
          "metadata": {
            "tags": []
          },
          "execution_count": 317
        }
      ]
    },
    {
      "cell_type": "code",
      "metadata": {
        "id": "1NL8KEm16FtL",
        "colab_type": "code",
        "colab": {}
      },
      "source": [
        " "
      ],
      "execution_count": 0,
      "outputs": []
    }
  ]
}